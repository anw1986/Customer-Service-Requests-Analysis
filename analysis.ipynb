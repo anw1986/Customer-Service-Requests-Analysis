{
 "cells": [
  {
   "cell_type": "markdown",
   "id": "48a99b11",
   "metadata": {},
   "source": [
    "# NYC311 - Customer Service Requests Analysis"
   ]
  },
  {
   "cell_type": "markdown",
   "id": "a26d8e55",
   "metadata": {},
   "source": [
    "## DESCRIPTION\n",
    "\n",
    "**Background of Problem Statement :**\n",
    "\n",
    "NYC 311's mission is to provide the public with quick and easy access to all New York City government services and information while offering the best customer service. Each day, NYC311 receives thousands of requests related to several hundred types of non-emergency services, including noise complaints, plumbing issues, and illegally parked cars. These requests are received by NYC311 and forwarded to the relevant agencies such as the police, buildings, or transportation. The agency responds to the request, addresses it, and then closes it.\n",
    "\n",
    "\n"
   ]
  },
  {
   "cell_type": "code",
   "execution_count": 1,
   "id": "29cdfaf6",
   "metadata": {},
   "outputs": [],
   "source": [
    "#import library\n",
    "import pandas as pd\n",
    "import numpy as np\n",
    "#import seaborn as sns\n",
    "import geopandas\n",
    "import matplotlib.pyplot as plt\n",
    "import contextily as cx"
   ]
  },
  {
   "cell_type": "code",
   "execution_count": 2,
   "id": "3ec3cbf7",
   "metadata": {},
   "outputs": [
    {
     "data": {
      "text/html": [
       "<div>\n",
       "<style scoped>\n",
       "    .dataframe tbody tr th:only-of-type {\n",
       "        vertical-align: middle;\n",
       "    }\n",
       "\n",
       "    .dataframe tbody tr th {\n",
       "        vertical-align: top;\n",
       "    }\n",
       "\n",
       "    .dataframe thead th {\n",
       "        text-align: right;\n",
       "    }\n",
       "</style>\n",
       "<table border=\"1\" class=\"dataframe\">\n",
       "  <thead>\n",
       "    <tr style=\"text-align: right;\">\n",
       "      <th></th>\n",
       "      <th>BoroCode</th>\n",
       "      <th>BoroName</th>\n",
       "      <th>Shape_Leng</th>\n",
       "      <th>Shape_Area</th>\n",
       "      <th>geometry</th>\n",
       "      <th>area</th>\n",
       "    </tr>\n",
       "  </thead>\n",
       "  <tbody>\n",
       "    <tr>\n",
       "      <th>0</th>\n",
       "      <td>5</td>\n",
       "      <td>Staten Island</td>\n",
       "      <td>330470.010332</td>\n",
       "      <td>1.623820e+09</td>\n",
       "      <td>MULTIPOLYGON (((970217.022 145643.332, 970227....</td>\n",
       "      <td>1.623822e+09</td>\n",
       "    </tr>\n",
       "    <tr>\n",
       "      <th>1</th>\n",
       "      <td>4</td>\n",
       "      <td>Queens</td>\n",
       "      <td>896344.047763</td>\n",
       "      <td>3.045213e+09</td>\n",
       "      <td>MULTIPOLYGON (((1029606.077 156073.814, 102957...</td>\n",
       "      <td>3.045214e+09</td>\n",
       "    </tr>\n",
       "    <tr>\n",
       "      <th>2</th>\n",
       "      <td>3</td>\n",
       "      <td>Brooklyn</td>\n",
       "      <td>741080.523166</td>\n",
       "      <td>1.937479e+09</td>\n",
       "      <td>MULTIPOLYGON (((1021176.479 151374.797, 102100...</td>\n",
       "      <td>1.937478e+09</td>\n",
       "    </tr>\n",
       "    <tr>\n",
       "      <th>3</th>\n",
       "      <td>1</td>\n",
       "      <td>Manhattan</td>\n",
       "      <td>359299.096471</td>\n",
       "      <td>6.364715e+08</td>\n",
       "      <td>MULTIPOLYGON (((981219.056 188655.316, 980940....</td>\n",
       "      <td>6.364712e+08</td>\n",
       "    </tr>\n",
       "    <tr>\n",
       "      <th>4</th>\n",
       "      <td>2</td>\n",
       "      <td>Bronx</td>\n",
       "      <td>464392.991824</td>\n",
       "      <td>1.186925e+09</td>\n",
       "      <td>MULTIPOLYGON (((1012821.806 229228.265, 101278...</td>\n",
       "      <td>1.186926e+09</td>\n",
       "    </tr>\n",
       "  </tbody>\n",
       "</table>\n",
       "</div>"
      ],
      "text/plain": [
       "   BoroCode       BoroName     Shape_Leng    Shape_Area  \\\n",
       "0         5  Staten Island  330470.010332  1.623820e+09   \n",
       "1         4         Queens  896344.047763  3.045213e+09   \n",
       "2         3       Brooklyn  741080.523166  1.937479e+09   \n",
       "3         1      Manhattan  359299.096471  6.364715e+08   \n",
       "4         2          Bronx  464392.991824  1.186925e+09   \n",
       "\n",
       "                                            geometry          area  \n",
       "0  MULTIPOLYGON (((970217.022 145643.332, 970227....  1.623822e+09  \n",
       "1  MULTIPOLYGON (((1029606.077 156073.814, 102957...  3.045214e+09  \n",
       "2  MULTIPOLYGON (((1021176.479 151374.797, 102100...  1.937478e+09  \n",
       "3  MULTIPOLYGON (((981219.056 188655.316, 980940....  6.364712e+08  \n",
       "4  MULTIPOLYGON (((1012821.806 229228.265, 101278...  1.186926e+09  "
      ]
     },
     "execution_count": 2,
     "metadata": {},
     "output_type": "execute_result"
    }
   ],
   "source": [
    "path_to_data = geopandas.datasets.get_path(\"nybb\")\n",
    "gdf = geopandas.read_file(path_to_data)\n",
    "\n",
    "#gdf['BoroName_Upper']=gdf['BoroName'].upper()\n",
    "gdf[\"area\"] = gdf.area\n",
    "gdf"
   ]
  },
  {
   "cell_type": "code",
   "execution_count": 3,
   "id": "e0f795b1",
   "metadata": {},
   "outputs": [
    {
     "data": {
      "text/plain": [
       "BoroCode         int64\n",
       "BoroName        object\n",
       "Shape_Leng     float64\n",
       "Shape_Area     float64\n",
       "geometry      geometry\n",
       "area           float64\n",
       "dtype: object"
      ]
     },
     "execution_count": 3,
     "metadata": {},
     "output_type": "execute_result"
    }
   ],
   "source": [
    "gdf.dtypes"
   ]
  },
  {
   "cell_type": "code",
   "execution_count": 4,
   "id": "ac98427f",
   "metadata": {},
   "outputs": [
    {
     "data": {
      "text/plain": [
       "<AxesSubplot:>"
      ]
     },
     "execution_count": 4,
     "metadata": {},
     "output_type": "execute_result"
    },
    {
     "data": {
      "image/png": "[encoded data removed]",
      "text/plain": [
       "<Figure size 432x288 with 1 Axes>"
      ]
     },
     "metadata": {
      "needs_background": "light"
     },
     "output_type": "display_data"
    }
   ],
   "source": [
    "gdf.plot('area')"
   ]
  },
  {
   "cell_type": "code",
   "execution_count": 5,
   "id": "dd9de6c2",
   "metadata": {},
   "outputs": [
    {
     "data": {
      "text/html": [
       "<div>\n",
       "<style scoped>\n",
       "    .dataframe tbody tr th:only-of-type {\n",
       "        vertical-align: middle;\n",
       "    }\n",
       "\n",
       "    .dataframe tbody tr th {\n",
       "        vertical-align: top;\n",
       "    }\n",
       "\n",
       "    .dataframe thead th {\n",
       "        text-align: right;\n",
       "    }\n",
       "</style>\n",
       "<table border=\"1\" class=\"dataframe\">\n",
       "  <thead>\n",
       "    <tr style=\"text-align: right;\">\n",
       "      <th></th>\n",
       "      <th>Borough</th>\n",
       "      <th>geometry</th>\n",
       "    </tr>\n",
       "  </thead>\n",
       "  <tbody>\n",
       "    <tr>\n",
       "      <th>0</th>\n",
       "      <td>STATEN ISLAND</td>\n",
       "      <td>MULTIPOLYGON (((970217.022 145643.332, 970227....</td>\n",
       "    </tr>\n",
       "    <tr>\n",
       "      <th>1</th>\n",
       "      <td>QUEENS</td>\n",
       "      <td>MULTIPOLYGON (((1029606.077 156073.814, 102957...</td>\n",
       "    </tr>\n",
       "    <tr>\n",
       "      <th>2</th>\n",
       "      <td>BROOKLYN</td>\n",
       "      <td>MULTIPOLYGON (((1021176.479 151374.797, 102100...</td>\n",
       "    </tr>\n",
       "    <tr>\n",
       "      <th>3</th>\n",
       "      <td>MANHATTAN</td>\n",
       "      <td>MULTIPOLYGON (((981219.056 188655.316, 980940....</td>\n",
       "    </tr>\n",
       "    <tr>\n",
       "      <th>4</th>\n",
       "      <td>BRONX</td>\n",
       "      <td>MULTIPOLYGON (((1012821.806 229228.265, 101278...</td>\n",
       "    </tr>\n",
       "  </tbody>\n",
       "</table>\n",
       "</div>"
      ],
      "text/plain": [
       "         Borough                                           geometry\n",
       "0  STATEN ISLAND  MULTIPOLYGON (((970217.022 145643.332, 970227....\n",
       "1         QUEENS  MULTIPOLYGON (((1029606.077 156073.814, 102957...\n",
       "2       BROOKLYN  MULTIPOLYGON (((1021176.479 151374.797, 102100...\n",
       "3      MANHATTAN  MULTIPOLYGON (((981219.056 188655.316, 980940....\n",
       "4          BRONX  MULTIPOLYGON (((1012821.806 229228.265, 101278..."
      ]
     },
     "execution_count": 5,
     "metadata": {},
     "output_type": "execute_result"
    }
   ],
   "source": [
    "#convert BoroName elements to upper case and rename column\n",
    "gdf['BoroName']=gdf['BoroName'].str.upper()\n",
    "gdf_subset=gdf[['BoroName','geometry']]\n",
    "gdf_subset_rename=gdf_subset.rename(columns={'BoroName':'Borough'})\n",
    "gdf_subset_rename"
   ]
  },
  {
   "cell_type": "code",
   "execution_count": 6,
   "id": "e2737baa",
   "metadata": {},
   "outputs": [
    {
     "name": "stderr",
     "output_type": "stream",
     "text": [
      "C:\\Users\\H255658\\Anaconda3\\envs\\project\\lib\\site-packages\\IPython\\core\\interactiveshell.py:3165: DtypeWarning: Columns (48,49) have mixed types.Specify dtype option on import or set low_memory=False.\n",
      "  has_raised = await self.run_ast_nodes(code_ast.body, cell_name,\n"
     ]
    },
    {
     "data": {
      "text/html": [
       "<div>\n",
       "<style scoped>\n",
       "    .dataframe tbody tr th:only-of-type {\n",
       "        vertical-align: middle;\n",
       "    }\n",
       "\n",
       "    .dataframe tbody tr th {\n",
       "        vertical-align: top;\n",
       "    }\n",
       "\n",
       "    .dataframe thead th {\n",
       "        text-align: right;\n",
       "    }\n",
       "</style>\n",
       "<table border=\"1\" class=\"dataframe\">\n",
       "  <thead>\n",
       "    <tr style=\"text-align: right;\">\n",
       "      <th></th>\n",
       "      <th>Unique Key</th>\n",
       "      <th>Created Date</th>\n",
       "      <th>Closed Date</th>\n",
       "      <th>Agency</th>\n",
       "      <th>Agency Name</th>\n",
       "      <th>Complaint Type</th>\n",
       "      <th>Descriptor</th>\n",
       "      <th>Location Type</th>\n",
       "      <th>Incident Zip</th>\n",
       "      <th>Incident Address</th>\n",
       "      <th>...</th>\n",
       "      <th>Bridge Highway Name</th>\n",
       "      <th>Bridge Highway Direction</th>\n",
       "      <th>Road Ramp</th>\n",
       "      <th>Bridge Highway Segment</th>\n",
       "      <th>Garage Lot Name</th>\n",
       "      <th>Ferry Direction</th>\n",
       "      <th>Ferry Terminal Name</th>\n",
       "      <th>Latitude</th>\n",
       "      <th>Longitude</th>\n",
       "      <th>Location</th>\n",
       "    </tr>\n",
       "  </thead>\n",
       "  <tbody>\n",
       "    <tr>\n",
       "      <th>0</th>\n",
       "      <td>32310363</td>\n",
       "      <td>12/31/2015 11:59:45 PM</td>\n",
       "      <td>01-01-16 0:55</td>\n",
       "      <td>NYPD</td>\n",
       "      <td>New York City Police Department</td>\n",
       "      <td>Noise - Street/Sidewalk</td>\n",
       "      <td>Loud Music/Party</td>\n",
       "      <td>Street/Sidewalk</td>\n",
       "      <td>10034.0</td>\n",
       "      <td>71 VERMILYEA AVENUE</td>\n",
       "      <td>...</td>\n",
       "      <td>NaN</td>\n",
       "      <td>NaN</td>\n",
       "      <td>NaN</td>\n",
       "      <td>NaN</td>\n",
       "      <td>NaN</td>\n",
       "      <td>NaN</td>\n",
       "      <td>NaN</td>\n",
       "      <td>40.865682</td>\n",
       "      <td>-73.923501</td>\n",
       "      <td>(40.86568153633767, -73.92350095571744)</td>\n",
       "    </tr>\n",
       "    <tr>\n",
       "      <th>1</th>\n",
       "      <td>32309934</td>\n",
       "      <td>12/31/2015 11:59:44 PM</td>\n",
       "      <td>01-01-16 1:26</td>\n",
       "      <td>NYPD</td>\n",
       "      <td>New York City Police Department</td>\n",
       "      <td>Blocked Driveway</td>\n",
       "      <td>No Access</td>\n",
       "      <td>Street/Sidewalk</td>\n",
       "      <td>11105.0</td>\n",
       "      <td>27-07 23 AVENUE</td>\n",
       "      <td>...</td>\n",
       "      <td>NaN</td>\n",
       "      <td>NaN</td>\n",
       "      <td>NaN</td>\n",
       "      <td>NaN</td>\n",
       "      <td>NaN</td>\n",
       "      <td>NaN</td>\n",
       "      <td>NaN</td>\n",
       "      <td>40.775945</td>\n",
       "      <td>-73.915094</td>\n",
       "      <td>(40.775945312321085, -73.91509393898605)</td>\n",
       "    </tr>\n",
       "    <tr>\n",
       "      <th>2</th>\n",
       "      <td>32309159</td>\n",
       "      <td>12/31/2015 11:59:29 PM</td>\n",
       "      <td>01-01-16 4:51</td>\n",
       "      <td>NYPD</td>\n",
       "      <td>New York City Police Department</td>\n",
       "      <td>Blocked Driveway</td>\n",
       "      <td>No Access</td>\n",
       "      <td>Street/Sidewalk</td>\n",
       "      <td>10458.0</td>\n",
       "      <td>2897 VALENTINE AVENUE</td>\n",
       "      <td>...</td>\n",
       "      <td>NaN</td>\n",
       "      <td>NaN</td>\n",
       "      <td>NaN</td>\n",
       "      <td>NaN</td>\n",
       "      <td>NaN</td>\n",
       "      <td>NaN</td>\n",
       "      <td>NaN</td>\n",
       "      <td>40.870325</td>\n",
       "      <td>-73.888525</td>\n",
       "      <td>(40.870324522111424, -73.88852464418646)</td>\n",
       "    </tr>\n",
       "    <tr>\n",
       "      <th>3</th>\n",
       "      <td>32305098</td>\n",
       "      <td>12/31/2015 11:57:46 PM</td>\n",
       "      <td>01-01-16 7:43</td>\n",
       "      <td>NYPD</td>\n",
       "      <td>New York City Police Department</td>\n",
       "      <td>Illegal Parking</td>\n",
       "      <td>Commercial Overnight Parking</td>\n",
       "      <td>Street/Sidewalk</td>\n",
       "      <td>10461.0</td>\n",
       "      <td>2940 BAISLEY AVENUE</td>\n",
       "      <td>...</td>\n",
       "      <td>NaN</td>\n",
       "      <td>NaN</td>\n",
       "      <td>NaN</td>\n",
       "      <td>NaN</td>\n",
       "      <td>NaN</td>\n",
       "      <td>NaN</td>\n",
       "      <td>NaN</td>\n",
       "      <td>40.835994</td>\n",
       "      <td>-73.828379</td>\n",
       "      <td>(40.83599404683083, -73.82837939584206)</td>\n",
       "    </tr>\n",
       "    <tr>\n",
       "      <th>4</th>\n",
       "      <td>32306529</td>\n",
       "      <td>12/31/2015 11:56:58 PM</td>\n",
       "      <td>01-01-16 3:24</td>\n",
       "      <td>NYPD</td>\n",
       "      <td>New York City Police Department</td>\n",
       "      <td>Illegal Parking</td>\n",
       "      <td>Blocked Sidewalk</td>\n",
       "      <td>Street/Sidewalk</td>\n",
       "      <td>11373.0</td>\n",
       "      <td>87-14 57 ROAD</td>\n",
       "      <td>...</td>\n",
       "      <td>NaN</td>\n",
       "      <td>NaN</td>\n",
       "      <td>NaN</td>\n",
       "      <td>NaN</td>\n",
       "      <td>NaN</td>\n",
       "      <td>NaN</td>\n",
       "      <td>NaN</td>\n",
       "      <td>40.733060</td>\n",
       "      <td>-73.874170</td>\n",
       "      <td>(40.733059618956815, -73.87416975810375)</td>\n",
       "    </tr>\n",
       "  </tbody>\n",
       "</table>\n",
       "<p>5 rows × 53 columns</p>\n",
       "</div>"
      ],
      "text/plain": [
       "   Unique Key            Created Date    Closed Date Agency  \\\n",
       "0    32310363  12/31/2015 11:59:45 PM  01-01-16 0:55   NYPD   \n",
       "1    32309934  12/31/2015 11:59:44 PM  01-01-16 1:26   NYPD   \n",
       "2    32309159  12/31/2015 11:59:29 PM  01-01-16 4:51   NYPD   \n",
       "3    32305098  12/31/2015 11:57:46 PM  01-01-16 7:43   NYPD   \n",
       "4    32306529  12/31/2015 11:56:58 PM  01-01-16 3:24   NYPD   \n",
       "\n",
       "                       Agency Name           Complaint Type  \\\n",
       "0  New York City Police Department  Noise - Street/Sidewalk   \n",
       "1  New York City Police Department         Blocked Driveway   \n",
       "2  New York City Police Department         Blocked Driveway   \n",
       "3  New York City Police Department          Illegal Parking   \n",
       "4  New York City Police Department          Illegal Parking   \n",
       "\n",
       "                     Descriptor    Location Type  Incident Zip  \\\n",
       "0              Loud Music/Party  Street/Sidewalk       10034.0   \n",
       "1                     No Access  Street/Sidewalk       11105.0   \n",
       "2                     No Access  Street/Sidewalk       10458.0   \n",
       "3  Commercial Overnight Parking  Street/Sidewalk       10461.0   \n",
       "4              Blocked Sidewalk  Street/Sidewalk       11373.0   \n",
       "\n",
       "        Incident Address  ... Bridge Highway Name Bridge Highway Direction  \\\n",
       "0    71 VERMILYEA AVENUE  ...                 NaN                      NaN   \n",
       "1        27-07 23 AVENUE  ...                 NaN                      NaN   \n",
       "2  2897 VALENTINE AVENUE  ...                 NaN                      NaN   \n",
       "3    2940 BAISLEY AVENUE  ...                 NaN                      NaN   \n",
       "4          87-14 57 ROAD  ...                 NaN                      NaN   \n",
       "\n",
       "  Road Ramp Bridge Highway Segment Garage Lot Name Ferry Direction  \\\n",
       "0       NaN                    NaN             NaN             NaN   \n",
       "1       NaN                    NaN             NaN             NaN   \n",
       "2       NaN                    NaN             NaN             NaN   \n",
       "3       NaN                    NaN             NaN             NaN   \n",
       "4       NaN                    NaN             NaN             NaN   \n",
       "\n",
       "  Ferry Terminal Name   Latitude  Longitude  \\\n",
       "0                 NaN  40.865682 -73.923501   \n",
       "1                 NaN  40.775945 -73.915094   \n",
       "2                 NaN  40.870325 -73.888525   \n",
       "3                 NaN  40.835994 -73.828379   \n",
       "4                 NaN  40.733060 -73.874170   \n",
       "\n",
       "                                   Location  \n",
       "0   (40.86568153633767, -73.92350095571744)  \n",
       "1  (40.775945312321085, -73.91509393898605)  \n",
       "2  (40.870324522111424, -73.88852464418646)  \n",
       "3   (40.83599404683083, -73.82837939584206)  \n",
       "4  (40.733059618956815, -73.87416975810375)  \n",
       "\n",
       "[5 rows x 53 columns]"
      ]
     },
     "execution_count": 6,
     "metadata": {},
     "output_type": "execute_result"
    }
   ],
   "source": [
    "#read csv file\n",
    "df=pd.read_csv('s3://simplilearn-project/311_Service_Requests_from_2010_to_Present.csv')\n",
    "df.head()"
   ]
  },
  {
   "cell_type": "code",
   "execution_count": 7,
   "id": "3eae13c6",
   "metadata": {},
   "outputs": [
    {
     "data": {
      "text/plain": [
       "(300698, 53)"
      ]
     },
     "execution_count": 7,
     "metadata": {},
     "output_type": "execute_result"
    }
   ],
   "source": [
    "#determine the number of rows and columns\n",
    "df.shape"
   ]
  },
  {
   "cell_type": "code",
   "execution_count": 8,
   "id": "50966473",
   "metadata": {},
   "outputs": [
    {
     "name": "stdout",
     "output_type": "stream",
     "text": [
      "<class 'pandas.core.frame.DataFrame'>\n",
      "RangeIndex: 300698 entries, 0 to 300697\n",
      "Data columns (total 54 columns):\n",
      " #   Column                          Non-Null Count   Dtype  \n",
      "---  ------                          --------------   -----  \n",
      " 0   Unique Key                      300698 non-null  int64  \n",
      " 1   Created Date                    300698 non-null  object \n",
      " 2   Closed Date                     298534 non-null  object \n",
      " 3   Agency                          300698 non-null  object \n",
      " 4   Agency Name                     300698 non-null  object \n",
      " 5   Complaint Type                  300698 non-null  object \n",
      " 6   Descriptor                      294784 non-null  object \n",
      " 7   Location Type                   300567 non-null  object \n",
      " 8   Incident Zip                    298083 non-null  float64\n",
      " 9   Incident Address                256288 non-null  object \n",
      " 10  Street Name                     256288 non-null  object \n",
      " 11  Cross Street 1                  251419 non-null  object \n",
      " 12  Cross Street 2                  250919 non-null  object \n",
      " 13  Intersection Street 1           43858 non-null   object \n",
      " 14  Intersection Street 2           43362 non-null   object \n",
      " 15  Address Type                    297883 non-null  object \n",
      " 16  City                            298084 non-null  object \n",
      " 17  Landmark                        349 non-null     object \n",
      " 18  Facility Type                   298527 non-null  object \n",
      " 19  Status                          300698 non-null  object \n",
      " 20  Due Date                        300695 non-null  object \n",
      " 21  Resolution Description          300698 non-null  object \n",
      " 22  Resolution Action Updated Date  298511 non-null  object \n",
      " 23  Community Board                 300698 non-null  object \n",
      " 24  Borough                         300698 non-null  object \n",
      " 25  X Coordinate (State Plane)      297158 non-null  float64\n",
      " 26  Y Coordinate (State Plane)      297158 non-null  float64\n",
      " 27  Park Facility Name              300698 non-null  object \n",
      " 28  Park Borough                    300698 non-null  object \n",
      " 29  School Name                     300698 non-null  object \n",
      " 30  School Number                   300698 non-null  object \n",
      " 31  School Region                   300697 non-null  object \n",
      " 32  School Code                     300697 non-null  object \n",
      " 33  School Phone Number             300698 non-null  object \n",
      " 34  School Address                  300698 non-null  object \n",
      " 35  School City                     300698 non-null  object \n",
      " 36  School State                    300698 non-null  object \n",
      " 37  School Zip                      300697 non-null  object \n",
      " 38  School Not Found                300698 non-null  object \n",
      " 39  School or Citywide Complaint    0 non-null       float64\n",
      " 40  Vehicle Type                    0 non-null       float64\n",
      " 41  Taxi Company Borough            0 non-null       float64\n",
      " 42  Taxi Pick Up Location           0 non-null       float64\n",
      " 43  Bridge Highway Name             243 non-null     object \n",
      " 44  Bridge Highway Direction        243 non-null     object \n",
      " 45  Road Ramp                       213 non-null     object \n",
      " 46  Bridge Highway Segment          213 non-null     object \n",
      " 47  Garage Lot Name                 0 non-null       float64\n",
      " 48  Ferry Direction                 1 non-null       object \n",
      " 49  Ferry Terminal Name             2 non-null       object \n",
      " 50  Latitude                        297158 non-null  float64\n",
      " 51  Longitude                       297158 non-null  float64\n",
      " 52  Location                        297158 non-null  object \n",
      " 53  count                           300698 non-null  int64  \n",
      "dtypes: float64(10), int64(2), object(42)\n",
      "memory usage: 123.9+ MB\n"
     ]
    }
   ],
   "source": [
    "df['count']=1\n",
    "df.info()"
   ]
  },
  {
   "cell_type": "code",
   "execution_count": 9,
   "id": "7e34f2fb",
   "metadata": {},
   "outputs": [
    {
     "data": {
      "text/plain": [
       "Unique Key                        False\n",
       "Created Date                      False\n",
       "Closed Date                        True\n",
       "Agency                            False\n",
       "Agency Name                       False\n",
       "Complaint Type                    False\n",
       "Descriptor                         True\n",
       "Location Type                      True\n",
       "Incident Zip                       True\n",
       "Incident Address                   True\n",
       "Street Name                        True\n",
       "Cross Street 1                     True\n",
       "Cross Street 2                     True\n",
       "Intersection Street 1              True\n",
       "Intersection Street 2              True\n",
       "Address Type                       True\n",
       "City                               True\n",
       "Landmark                           True\n",
       "Facility Type                      True\n",
       "Status                            False\n",
       "Due Date                           True\n",
       "Resolution Description            False\n",
       "Resolution Action Updated Date     True\n",
       "Community Board                   False\n",
       "Borough                           False\n",
       "X Coordinate (State Plane)         True\n",
       "Y Coordinate (State Plane)         True\n",
       "Park Facility Name                False\n",
       "Park Borough                      False\n",
       "School Name                       False\n",
       "School Number                     False\n",
       "School Region                      True\n",
       "School Code                        True\n",
       "School Phone Number               False\n",
       "School Address                    False\n",
       "School City                       False\n",
       "School State                      False\n",
       "School Zip                         True\n",
       "School Not Found                  False\n",
       "School or Citywide Complaint       True\n",
       "Vehicle Type                       True\n",
       "Taxi Company Borough               True\n",
       "Taxi Pick Up Location              True\n",
       "Bridge Highway Name                True\n",
       "Bridge Highway Direction           True\n",
       "Road Ramp                          True\n",
       "Bridge Highway Segment             True\n",
       "Garage Lot Name                    True\n",
       "Ferry Direction                    True\n",
       "Ferry Terminal Name                True\n",
       "Latitude                           True\n",
       "Longitude                          True\n",
       "Location                           True\n",
       "count                             False\n",
       "dtype: bool"
      ]
     },
     "execution_count": 9,
     "metadata": {},
     "output_type": "execute_result"
    }
   ],
   "source": [
    "#determine if there are missing values\n",
    "df.isna().any()"
   ]
  },
  {
   "cell_type": "code",
   "execution_count": 10,
   "id": "c5ee2146",
   "metadata": {},
   "outputs": [
    {
     "data": {
      "text/plain": [
       "Unique Key                             0\n",
       "Created Date                           0\n",
       "Closed Date                         2164\n",
       "Agency                                 0\n",
       "Agency Name                            0\n",
       "Complaint Type                         0\n",
       "Descriptor                          5914\n",
       "Location Type                        131\n",
       "Incident Zip                        2615\n",
       "Incident Address                   44410\n",
       "Street Name                        44410\n",
       "Cross Street 1                     49279\n",
       "Cross Street 2                     49779\n",
       "Intersection Street 1             256840\n",
       "Intersection Street 2             257336\n",
       "Address Type                        2815\n",
       "City                                2614\n",
       "Landmark                          300349\n",
       "Facility Type                       2171\n",
       "Status                                 0\n",
       "Due Date                               3\n",
       "Resolution Description                 0\n",
       "Resolution Action Updated Date      2187\n",
       "Community Board                        0\n",
       "Borough                                0\n",
       "X Coordinate (State Plane)          3540\n",
       "Y Coordinate (State Plane)          3540\n",
       "Park Facility Name                     0\n",
       "Park Borough                           0\n",
       "School Name                            0\n",
       "School Number                          0\n",
       "School Region                          1\n",
       "School Code                            1\n",
       "School Phone Number                    0\n",
       "School Address                         0\n",
       "School City                            0\n",
       "School State                           0\n",
       "School Zip                             1\n",
       "School Not Found                       0\n",
       "School or Citywide Complaint      300698\n",
       "Vehicle Type                      300698\n",
       "Taxi Company Borough              300698\n",
       "Taxi Pick Up Location             300698\n",
       "Bridge Highway Name               300455\n",
       "Bridge Highway Direction          300455\n",
       "Road Ramp                         300485\n",
       "Bridge Highway Segment            300485\n",
       "Garage Lot Name                   300698\n",
       "Ferry Direction                   300697\n",
       "Ferry Terminal Name               300696\n",
       "Latitude                            3540\n",
       "Longitude                           3540\n",
       "Location                            3540\n",
       "count                                  0\n",
       "dtype: int64"
      ]
     },
     "execution_count": 10,
     "metadata": {},
     "output_type": "execute_result"
    }
   ],
   "source": [
    "df.isna().sum()"
   ]
  },
  {
   "cell_type": "markdown",
   "id": "58a54058",
   "metadata": {},
   "source": [
    "Apply method chaining\n",
    "https://towardsdatascience.com/the-unreasonable-effectiveness-of-method-chaining-in-pandas-15c2109e3c69"
   ]
  },
  {
   "cell_type": "code",
   "execution_count": 11,
   "id": "e35abf4c",
   "metadata": {},
   "outputs": [],
   "source": [
    "#drop columns with no data\n",
    "#drop column Landmark ,School or Citywide Complaint, Vehicle Type, Taxi Company Borough, \n",
    "#Taxi Pick Up Location, Bridge Highway Name, Bridge Highway Direction\n",
    "#Road Ramp Bridge Highway Segment Garage Lot Name Ferry Direction Ferry Terminal Name\n",
    "drop_columns=[\"Landmark\",\"School or Citywide Complaint\",\"Vehicle Type\",\"Taxi Company Borough\"\n",
    "             ,\"Taxi Pick Up Location\",\"Bridge Highway Name\",\"Bridge Highway Direction\",\n",
    "             \"Road Ramp\",\"Bridge Highway Segment\",\"Garage Lot Name\",\"Ferry Direction\",\n",
    "             \"Ferry Terminal Name\"]\n",
    "df_subset=df.drop(columns=drop_columns,axis=1)"
   ]
  },
  {
   "cell_type": "code",
   "execution_count": 12,
   "id": "e33cdb57",
   "metadata": {},
   "outputs": [
    {
     "data": {
      "text/plain": [
       "(300698, 42)"
      ]
     },
     "execution_count": 12,
     "metadata": {},
     "output_type": "execute_result"
    }
   ],
   "source": [
    "#new shape of the dataset after dropping columns\n",
    "df_subset.shape"
   ]
  },
  {
   "cell_type": "code",
   "execution_count": 13,
   "id": "892c374c",
   "metadata": {},
   "outputs": [
    {
     "name": "stdout",
     "output_type": "stream",
     "text": [
      "<class 'pandas.core.frame.DataFrame'>\n",
      "RangeIndex: 300698 entries, 0 to 300697\n",
      "Data columns (total 42 columns):\n",
      " #   Column                          Non-Null Count   Dtype  \n",
      "---  ------                          --------------   -----  \n",
      " 0   Unique Key                      300698 non-null  int64  \n",
      " 1   Created Date                    300698 non-null  object \n",
      " 2   Closed Date                     298534 non-null  object \n",
      " 3   Agency                          300698 non-null  object \n",
      " 4   Agency Name                     300698 non-null  object \n",
      " 5   Complaint Type                  300698 non-null  object \n",
      " 6   Descriptor                      294784 non-null  object \n",
      " 7   Location Type                   300567 non-null  object \n",
      " 8   Incident Zip                    298083 non-null  float64\n",
      " 9   Incident Address                256288 non-null  object \n",
      " 10  Street Name                     256288 non-null  object \n",
      " 11  Cross Street 1                  251419 non-null  object \n",
      " 12  Cross Street 2                  250919 non-null  object \n",
      " 13  Intersection Street 1           43858 non-null   object \n",
      " 14  Intersection Street 2           43362 non-null   object \n",
      " 15  Address Type                    297883 non-null  object \n",
      " 16  City                            298084 non-null  object \n",
      " 17  Facility Type                   298527 non-null  object \n",
      " 18  Status                          300698 non-null  object \n",
      " 19  Due Date                        300695 non-null  object \n",
      " 20  Resolution Description          300698 non-null  object \n",
      " 21  Resolution Action Updated Date  298511 non-null  object \n",
      " 22  Community Board                 300698 non-null  object \n",
      " 23  Borough                         300698 non-null  object \n",
      " 24  X Coordinate (State Plane)      297158 non-null  float64\n",
      " 25  Y Coordinate (State Plane)      297158 non-null  float64\n",
      " 26  Park Facility Name              300698 non-null  object \n",
      " 27  Park Borough                    300698 non-null  object \n",
      " 28  School Name                     300698 non-null  object \n",
      " 29  School Number                   300698 non-null  object \n",
      " 30  School Region                   300697 non-null  object \n",
      " 31  School Code                     300697 non-null  object \n",
      " 32  School Phone Number             300698 non-null  object \n",
      " 33  School Address                  300698 non-null  object \n",
      " 34  School City                     300698 non-null  object \n",
      " 35  School State                    300698 non-null  object \n",
      " 36  School Zip                      300697 non-null  object \n",
      " 37  School Not Found                300698 non-null  object \n",
      " 38  Latitude                        297158 non-null  float64\n",
      " 39  Longitude                       297158 non-null  float64\n",
      " 40  Location                        297158 non-null  object \n",
      " 41  count                           300698 non-null  int64  \n",
      "dtypes: float64(5), int64(2), object(35)\n",
      "memory usage: 96.4+ MB\n"
     ]
    }
   ],
   "source": [
    "df_subset.info()"
   ]
  },
  {
   "cell_type": "code",
   "execution_count": 14,
   "id": "2629dd2b",
   "metadata": {},
   "outputs": [
    {
     "data": {
      "text/plain": [
       "Blocked Driveway             77044\n",
       "Illegal Parking              75361\n",
       "Noise - Street/Sidewalk      48612\n",
       "Noise - Commercial           35577\n",
       "Derelict Vehicle             17718\n",
       "Noise - Vehicle              17083\n",
       "Animal Abuse                  7778\n",
       "Traffic                       4498\n",
       "Homeless Encampment           4416\n",
       "Noise - Park                  4042\n",
       "Vending                       3802\n",
       "Drinking                      1280\n",
       "Noise - House of Worship       931\n",
       "Posting Advertisement          650\n",
       "Urinating in Public            592\n",
       "Bike/Roller/Skate Chronic      427\n",
       "Panhandling                    307\n",
       "Disorderly Youth               286\n",
       "Illegal Fireworks              168\n",
       "Graffiti                       113\n",
       "Agency Issues                    6\n",
       "Squeegee                         4\n",
       "Ferry Complaint                  2\n",
       "Animal in a Park                 1\n",
       "Name: Complaint Type, dtype: int64"
      ]
     },
     "execution_count": 14,
     "metadata": {},
     "output_type": "execute_result"
    }
   ],
   "source": [
    "#number of records in each category, user value_counts\n",
    "df_subset[\"Complaint Type\"].value_counts()"
   ]
  },
  {
   "cell_type": "code",
   "execution_count": 15,
   "id": "41d1a303",
   "metadata": {},
   "outputs": [
    {
     "name": "stdout",
     "output_type": "stream",
     "text": [
      "| Complaint Type            |   count |\n",
      "|:--------------------------|--------:|\n",
      "| Blocked Driveway          |   77044 |\n",
      "| Illegal Parking           |   75361 |\n",
      "| Noise - Street/Sidewalk   |   48612 |\n",
      "| Noise - Commercial        |   35577 |\n",
      "| Derelict Vehicle          |   17718 |\n",
      "| Noise - Vehicle           |   17083 |\n",
      "| Animal Abuse              |    7778 |\n",
      "| Traffic                   |    4498 |\n",
      "| Homeless Encampment       |    4416 |\n",
      "| Noise - Park              |    4042 |\n",
      "| Vending                   |    3802 |\n",
      "| Drinking                  |    1280 |\n",
      "| Noise - House of Worship  |     931 |\n",
      "| Posting Advertisement     |     650 |\n",
      "| Urinating in Public       |     592 |\n",
      "| Bike/Roller/Skate Chronic |     427 |\n",
      "| Panhandling               |     307 |\n",
      "| Disorderly Youth          |     286 |\n",
      "| Illegal Fireworks         |     168 |\n",
      "| Graffiti                  |     113 |\n",
      "| Agency Issues             |       6 |\n",
      "| Squeegee                  |       4 |\n",
      "| Ferry Complaint           |       2 |\n",
      "| Animal in a Park          |       1 |\n"
     ]
    }
   ],
   "source": [
    "pivot1=(pd.pivot_table(df_subset,index='Complaint Type',values='count',aggfunc='sum')\n",
    "        .sort_values(by='count',ascending=False)\n",
    "        .to_markdown()\n",
    "       )\n",
    "\n",
    "print(pivot1)"
   ]
  },
  {
   "cell_type": "code",
   "execution_count": 16,
   "id": "9dee373d",
   "metadata": {},
   "outputs": [
    {
     "data": {
      "text/plain": [
       "Loud Music/Party                  61430\n",
       "No Access                         56976\n",
       "Posted Parking Sign Violation     22440\n",
       "Loud Talking                      21584\n",
       "Partial Access                    20068\n",
       "With License Plate                17718\n",
       "Blocked Hydrant                   16081\n",
       "Commercial Overnight Parking      12189\n",
       "Car/Truck Music                   11273\n",
       "Blocked Sidewalk                  11121\n",
       "Double Parked Blocking Traffic     5731\n",
       "Double Parked Blocking Vehicle     4211\n",
       "Engine Idling                      4189\n",
       "Banging/Pounding                   4165\n",
       "Neglected                          3787\n",
       "Car/Truck Horn                     3511\n",
       "Congestion/Gridlock                2761\n",
       "In Prohibited Area                 2025\n",
       "Other (complaint details)          1969\n",
       "Unlicensed                         1777\n",
       "Overnight Commercial Storage       1757\n",
       "Unauthorized Bus Layover           1367\n",
       "Truck Route Violation              1014\n",
       "In Public                           932\n",
       "Tortured                            854\n",
       "Vehicle                             590\n",
       "Chained                             535\n",
       "Detached Trailer                    464\n",
       "No Shelter                          382\n",
       "Chronic Stoplight Violation         280\n",
       "Underage - Licensed Est             271\n",
       "Chronic Speeding                    268\n",
       "In Car                              251\n",
       "Playing in Unsuitable Place         245\n",
       "Drag Racing                         175\n",
       "Loud Television                      93\n",
       "Police Report Requested              90\n",
       "After Hours - Licensed Est           77\n",
       "Building                             60\n",
       "Nuisance/Truant                      41\n",
       "Police Report Not Requested          23\n",
       "Language Access Complaint             6\n",
       "Disruptive Passenger                  1\n",
       "Homeless Issue                        1\n",
       "Animal Waste                          1\n",
       "Name: Descriptor, dtype: int64"
      ]
     },
     "execution_count": 16,
     "metadata": {},
     "output_type": "execute_result"
    }
   ],
   "source": [
    "#Descriptor\tLocation Type\n",
    "df_subset[\"Descriptor\"].value_counts()"
   ]
  },
  {
   "cell_type": "code",
   "execution_count": 17,
   "id": "9acd3b10",
   "metadata": {},
   "outputs": [
    {
     "data": {
      "text/plain": [
       "Street/Sidewalk               249299\n",
       "Store/Commercial               20381\n",
       "Club/Bar/Restaurant            17360\n",
       "Residential Building/House      6960\n",
       "Park/Playground                 4773\n",
       "House of Worship                 929\n",
       "Residential Building             227\n",
       "Highway                          215\n",
       "Parking Lot                      117\n",
       "House and Store                   93\n",
       "Vacant Lot                        77\n",
       "Commercial                        62\n",
       "Roadway Tunnel                    35\n",
       "Subway Station                    34\n",
       "Bridge                             2\n",
       "Park                               1\n",
       "Terminal                           1\n",
       "Ferry                              1\n",
       "Name: Location Type, dtype: int64"
      ]
     },
     "execution_count": 17,
     "metadata": {},
     "output_type": "execute_result"
    }
   ],
   "source": [
    "df_subset[\"Location Type\"].value_counts()"
   ]
  },
  {
   "cell_type": "code",
   "execution_count": 18,
   "id": "bad39f9f",
   "metadata": {},
   "outputs": [
    {
     "data": {
      "text/plain": [
       "array(['NYPD'], dtype=object)"
      ]
     },
     "execution_count": 18,
     "metadata": {},
     "output_type": "execute_result"
    }
   ],
   "source": [
    "pd.unique(df_subset[\"Agency\"])"
   ]
  },
  {
   "cell_type": "code",
   "execution_count": 19,
   "id": "6688adfb",
   "metadata": {},
   "outputs": [
    {
     "data": {
      "text/plain": [
       "array(['New York City Police Department', 'NYPD',\n",
       "       'Internal Affairs Bureau'], dtype=object)"
      ]
     },
     "execution_count": 19,
     "metadata": {},
     "output_type": "execute_result"
    }
   ],
   "source": [
    "pd.unique(df_subset[\"Agency Name\"])"
   ]
  },
  {
   "cell_type": "code",
   "execution_count": 20,
   "id": "cc38c370",
   "metadata": {},
   "outputs": [
    {
     "data": {
      "text/plain": [
       "array(['12 MANHATTAN', '01 QUEENS', '07 BRONX', '10 BRONX', '04 QUEENS',\n",
       "       '07 BROOKLYN', '03 BRONX', '09 QUEENS', '11 BROOKLYN', '03 QUEENS',\n",
       "       '05 BRONX', '05 BROOKLYN', '05 QUEENS', '06 QUEENS', '12 QUEENS',\n",
       "       '06 BROOKLYN', '18 BROOKLYN', '10 MANHATTAN', '04 BRONX',\n",
       "       '12 BRONX', '09 MANHATTAN', '10 QUEENS', '07 MANHATTAN',\n",
       "       '02 BROOKLYN', '03 BROOKLYN', '11 BRONX', '0 Unspecified',\n",
       "       '08 BROOKLYN', '01 BROOKLYN', '03 STATEN ISLAND', '06 MANHATTAN',\n",
       "       '03 MANHATTAN', '10 BROOKLYN', '11 MANHATTAN', '07 QUEENS',\n",
       "       '11 QUEENS', '17 BROOKLYN', '13 QUEENS', '06 BRONX',\n",
       "       '04 MANHATTAN', '14 BROOKLYN', '12 BROOKLYN', '08 MANHATTAN',\n",
       "       '13 BROOKLYN', '15 BROOKLYN', '01 STATEN ISLAND', '09 BRONX',\n",
       "       '02 STATEN ISLAND', '02 QUEENS', '16 BROOKLYN', '08 QUEENS',\n",
       "       '09 BROOKLYN', '04 BROOKLYN', '14 QUEENS', '05 MANHATTAN',\n",
       "       '08 BRONX', '02 BRONX', '02 MANHATTAN', '01 BRONX', '01 MANHATTAN',\n",
       "       '83 QUEENS', '95 STATEN ISLAND', '81 QUEENS', '27 BRONX',\n",
       "       'Unspecified STATEN ISLAND', '64 MANHATTAN', '80 QUEENS',\n",
       "       '55 BROOKLYN', '26 BRONX', '82 QUEENS', '56 BROOKLYN', '28 BRONX',\n",
       "       'Unspecified QUEENS', 'Unspecified MANHATTAN', '84 QUEENS'],\n",
       "      dtype=object)"
      ]
     },
     "execution_count": 20,
     "metadata": {},
     "output_type": "execute_result"
    }
   ],
   "source": [
    "pd.unique(df_subset[\"Community Board\"])"
   ]
  },
  {
   "cell_type": "code",
   "execution_count": 21,
   "id": "31734aa8",
   "metadata": {},
   "outputs": [
    {
     "data": {
      "text/plain": [
       "New York City Police Department    300690\n",
       "Internal Affairs Bureau                 6\n",
       "NYPD                                    2\n",
       "Name: Agency Name, dtype: int64"
      ]
     },
     "execution_count": 21,
     "metadata": {},
     "output_type": "execute_result"
    }
   ],
   "source": [
    "df_subset[\"Agency Name\"].value_counts()"
   ]
  },
  {
   "cell_type": "code",
   "execution_count": 22,
   "id": "7519174a",
   "metadata": {},
   "outputs": [
    {
     "data": {
      "text/plain": [
       "New York City Police Department    300692\n",
       "Internal Affairs Bureau                 6\n",
       "Name: Agency Name, dtype: int64"
      ]
     },
     "execution_count": 22,
     "metadata": {},
     "output_type": "execute_result"
    }
   ],
   "source": [
    "#find NYPD in the column and replace with New York City Police department. Using the replace() method\n",
    "#check if the replace method has worked\n",
    "df_subset[\"Agency Name\"]=df_subset[\"Agency Name\"].replace({\"NYPD\":\"New York City Police Department\"})\n",
    "df_subset[\"Agency Name\"].value_counts()"
   ]
  },
  {
   "cell_type": "code",
   "execution_count": 23,
   "id": "4e7dd006",
   "metadata": {},
   "outputs": [
    {
     "data": {
      "text/plain": [
       "BROOKLYN               98307\n",
       "NEW YORK               65994\n",
       "BRONX                  40702\n",
       "STATEN ISLAND          12343\n",
       "JAMAICA                 7296\n",
       "ASTORIA                 6330\n",
       "FLUSHING                5971\n",
       "RIDGEWOOD               5163\n",
       "CORONA                  4295\n",
       "WOODSIDE                3544\n",
       "SOUTH RICHMOND HILL     2774\n",
       "OZONE PARK              2755\n",
       "EAST ELMHURST           2734\n",
       "ELMHURST                2673\n",
       "WOODHAVEN               2464\n",
       "MASPETH                 2462\n",
       "LONG ISLAND CITY        2437\n",
       "SOUTH OZONE PARK        2173\n",
       "RICHMOND HILL           1904\n",
       "FRESH MEADOWS           1899\n",
       "QUEENS VILLAGE          1814\n",
       "MIDDLE VILLAGE          1765\n",
       "JACKSON HEIGHTS         1689\n",
       "FOREST HILLS            1688\n",
       "REGO PARK               1486\n",
       "BAYSIDE                 1221\n",
       "COLLEGE POINT           1220\n",
       "FAR ROCKAWAY            1179\n",
       "WHITESTONE              1098\n",
       "HOLLIS                  1012\n",
       "HOWARD BEACH             931\n",
       "ROSEDALE                 922\n",
       "SPRINGFIELD GARDENS      883\n",
       "SAINT ALBANS             834\n",
       "KEW GARDENS              771\n",
       "ROCKAWAY PARK            745\n",
       "SUNNYSIDE                723\n",
       "Astoria                  717\n",
       "LITTLE NECK              559\n",
       "OAKLAND GARDENS          551\n",
       "CAMBRIA HEIGHTS          477\n",
       "BELLEROSE                375\n",
       "GLEN OAKS                306\n",
       "ARVERNE                  220\n",
       "FLORAL PARK              152\n",
       "Long Island City         134\n",
       "Woodside                 120\n",
       "NEW HYDE PARK             98\n",
       "CENTRAL PARK              97\n",
       "QUEENS                    32\n",
       "BREEZY POINT              30\n",
       "East Elmhurst             14\n",
       "Howard Beach               1\n",
       "Name: City, dtype: int64"
      ]
     },
     "execution_count": 23,
     "metadata": {},
     "output_type": "execute_result"
    }
   ],
   "source": [
    "df_subset[\"City\"].value_counts()"
   ]
  },
  {
   "cell_type": "code",
   "execution_count": 24,
   "id": "d55a4402",
   "metadata": {},
   "outputs": [
    {
     "data": {
      "text/plain": [
       "BROOKLYN         98307\n",
       "QUEENS           80641\n",
       "MANHATTAN        66131\n",
       "BRONX            40702\n",
       "STATEN ISLAND    12343\n",
       "Unspecified       2574\n",
       "Name: Borough, dtype: int64"
      ]
     },
     "execution_count": 24,
     "metadata": {},
     "output_type": "execute_result"
    }
   ],
   "source": [
    "df_subset['Borough'].value_counts()\n"
   ]
  },
  {
   "cell_type": "code",
   "execution_count": 25,
   "id": "5ff7dbd9",
   "metadata": {},
   "outputs": [
    {
     "data": {
      "text/html": [
       "<div>\n",
       "<style scoped>\n",
       "    .dataframe tbody tr th:only-of-type {\n",
       "        vertical-align: middle;\n",
       "    }\n",
       "\n",
       "    .dataframe tbody tr th {\n",
       "        vertical-align: top;\n",
       "    }\n",
       "\n",
       "    .dataframe thead th {\n",
       "        text-align: right;\n",
       "    }\n",
       "</style>\n",
       "<table border=\"1\" class=\"dataframe\">\n",
       "  <thead>\n",
       "    <tr style=\"text-align: right;\">\n",
       "      <th></th>\n",
       "      <th>number_of_record</th>\n",
       "    </tr>\n",
       "    <tr>\n",
       "      <th>Borough</th>\n",
       "      <th></th>\n",
       "    </tr>\n",
       "  </thead>\n",
       "  <tbody>\n",
       "    <tr>\n",
       "      <th>BRONX</th>\n",
       "      <td>40702</td>\n",
       "    </tr>\n",
       "    <tr>\n",
       "      <th>BROOKLYN</th>\n",
       "      <td>98307</td>\n",
       "    </tr>\n",
       "    <tr>\n",
       "      <th>MANHATTAN</th>\n",
       "      <td>66131</td>\n",
       "    </tr>\n",
       "    <tr>\n",
       "      <th>QUEENS</th>\n",
       "      <td>80641</td>\n",
       "    </tr>\n",
       "    <tr>\n",
       "      <th>STATEN ISLAND</th>\n",
       "      <td>12343</td>\n",
       "    </tr>\n",
       "  </tbody>\n",
       "</table>\n",
       "</div>"
      ],
      "text/plain": [
       "               number_of_record\n",
       "Borough                        \n",
       "BRONX                     40702\n",
       "BROOKLYN                  98307\n",
       "MANHATTAN                 66131\n",
       "QUEENS                    80641\n",
       "STATEN ISLAND             12343"
      ]
     },
     "execution_count": 25,
     "metadata": {},
     "output_type": "execute_result"
    }
   ],
   "source": [
    "#filters rows to exclude records where Borough is not equal to Unspecified\n",
    "df_subset_borough=(\n",
    "    df_subset[df_subset['Borough']!='Unspecified']\n",
    "    .groupby(['Borough'])['Borough'].count()\n",
    "    .to_frame()\n",
    "    .rename(columns={'Borough':'number_of_record'})\n",
    "    )\n",
    "df_subset_borough"
   ]
  },
  {
   "cell_type": "code",
   "execution_count": 26,
   "id": "4c971b4e",
   "metadata": {},
   "outputs": [
    {
     "data": {
      "text/html": [
       "<div>\n",
       "<style scoped>\n",
       "    .dataframe tbody tr th:only-of-type {\n",
       "        vertical-align: middle;\n",
       "    }\n",
       "\n",
       "    .dataframe tbody tr th {\n",
       "        vertical-align: top;\n",
       "    }\n",
       "\n",
       "    .dataframe thead th {\n",
       "        text-align: right;\n",
       "    }\n",
       "</style>\n",
       "<table border=\"1\" class=\"dataframe\">\n",
       "  <thead>\n",
       "    <tr style=\"text-align: right;\">\n",
       "      <th></th>\n",
       "      <th>Borough</th>\n",
       "      <th>number_of_record</th>\n",
       "      <th>geometry</th>\n",
       "    </tr>\n",
       "  </thead>\n",
       "  <tbody>\n",
       "    <tr>\n",
       "      <th>0</th>\n",
       "      <td>BRONX</td>\n",
       "      <td>40702</td>\n",
       "      <td>MULTIPOLYGON (((1012821.806 229228.265, 101278...</td>\n",
       "    </tr>\n",
       "    <tr>\n",
       "      <th>1</th>\n",
       "      <td>BROOKLYN</td>\n",
       "      <td>98307</td>\n",
       "      <td>MULTIPOLYGON (((1021176.479 151374.797, 102100...</td>\n",
       "    </tr>\n",
       "    <tr>\n",
       "      <th>2</th>\n",
       "      <td>MANHATTAN</td>\n",
       "      <td>66131</td>\n",
       "      <td>MULTIPOLYGON (((981219.056 188655.316, 980940....</td>\n",
       "    </tr>\n",
       "    <tr>\n",
       "      <th>3</th>\n",
       "      <td>QUEENS</td>\n",
       "      <td>80641</td>\n",
       "      <td>MULTIPOLYGON (((1029606.077 156073.814, 102957...</td>\n",
       "    </tr>\n",
       "    <tr>\n",
       "      <th>4</th>\n",
       "      <td>STATEN ISLAND</td>\n",
       "      <td>12343</td>\n",
       "      <td>MULTIPOLYGON (((970217.022 145643.332, 970227....</td>\n",
       "    </tr>\n",
       "  </tbody>\n",
       "</table>\n",
       "</div>"
      ],
      "text/plain": [
       "         Borough  number_of_record  \\\n",
       "0          BRONX             40702   \n",
       "1       BROOKLYN             98307   \n",
       "2      MANHATTAN             66131   \n",
       "3         QUEENS             80641   \n",
       "4  STATEN ISLAND             12343   \n",
       "\n",
       "                                            geometry  \n",
       "0  MULTIPOLYGON (((1012821.806 229228.265, 101278...  \n",
       "1  MULTIPOLYGON (((1021176.479 151374.797, 102100...  \n",
       "2  MULTIPOLYGON (((981219.056 188655.316, 980940....  \n",
       "3  MULTIPOLYGON (((1029606.077 156073.814, 102957...  \n",
       "4  MULTIPOLYGON (((970217.022 145643.332, 970227....  "
      ]
     },
     "execution_count": 26,
     "metadata": {},
     "output_type": "execute_result"
    }
   ],
   "source": [
    "#add polygon data to the dataframe df_subset_merge\n",
    "df_subset_merge=pd.merge(df_subset_borough,gdf_subset_rename, on=\"Borough\",how=\"left\")\n",
    "df_subset_merge"
   ]
  },
  {
   "cell_type": "code",
   "execution_count": 27,
   "id": "1f8d3850",
   "metadata": {},
   "outputs": [
    {
     "data": {
      "text/plain": [
       "(MANHATTAN        1\n",
       " STATEN ISLAND    1\n",
       " QUEENS           1\n",
       " BRONX            1\n",
       " BROOKLYN         1\n",
       " Name: Borough, dtype: int64,\n",
       " (5, 3))"
      ]
     },
     "execution_count": 27,
     "metadata": {},
     "output_type": "execute_result"
    }
   ],
   "source": [
    "df_subset_merge['Borough'].value_counts(), df_subset_merge.shape"
   ]
  },
  {
   "cell_type": "code",
   "execution_count": 28,
   "id": "b3f40299",
   "metadata": {},
   "outputs": [],
   "source": [
    "gdf_burough=geopandas.GeoDataFrame(df_subset_merge, geometry='geometry')\n"
   ]
  },
  {
   "cell_type": "code",
   "execution_count": 29,
   "id": "c2a2d2d8",
   "metadata": {},
   "outputs": [
    {
     "data": {
      "text/html": [
       "<div>\n",
       "<style scoped>\n",
       "    .dataframe tbody tr th:only-of-type {\n",
       "        vertical-align: middle;\n",
       "    }\n",
       "\n",
       "    .dataframe tbody tr th {\n",
       "        vertical-align: top;\n",
       "    }\n",
       "\n",
       "    .dataframe thead th {\n",
       "        text-align: right;\n",
       "    }\n",
       "</style>\n",
       "<table border=\"1\" class=\"dataframe\">\n",
       "  <thead>\n",
       "    <tr style=\"text-align: right;\">\n",
       "      <th></th>\n",
       "      <th>Borough</th>\n",
       "      <th>number_of_record</th>\n",
       "      <th>geometry</th>\n",
       "    </tr>\n",
       "  </thead>\n",
       "  <tbody>\n",
       "    <tr>\n",
       "      <th>0</th>\n",
       "      <td>BRONX</td>\n",
       "      <td>40702</td>\n",
       "      <td>MULTIPOLYGON (((1012821.806 229228.265, 101278...</td>\n",
       "    </tr>\n",
       "    <tr>\n",
       "      <th>1</th>\n",
       "      <td>BROOKLYN</td>\n",
       "      <td>98307</td>\n",
       "      <td>MULTIPOLYGON (((1021176.479 151374.797, 102100...</td>\n",
       "    </tr>\n",
       "    <tr>\n",
       "      <th>2</th>\n",
       "      <td>MANHATTAN</td>\n",
       "      <td>66131</td>\n",
       "      <td>MULTIPOLYGON (((981219.056 188655.316, 980940....</td>\n",
       "    </tr>\n",
       "    <tr>\n",
       "      <th>3</th>\n",
       "      <td>QUEENS</td>\n",
       "      <td>80641</td>\n",
       "      <td>MULTIPOLYGON (((1029606.077 156073.814, 102957...</td>\n",
       "    </tr>\n",
       "    <tr>\n",
       "      <th>4</th>\n",
       "      <td>STATEN ISLAND</td>\n",
       "      <td>12343</td>\n",
       "      <td>MULTIPOLYGON (((970217.022 145643.332, 970227....</td>\n",
       "    </tr>\n",
       "  </tbody>\n",
       "</table>\n",
       "</div>"
      ],
      "text/plain": [
       "         Borough  number_of_record  \\\n",
       "0          BRONX             40702   \n",
       "1       BROOKLYN             98307   \n",
       "2      MANHATTAN             66131   \n",
       "3         QUEENS             80641   \n",
       "4  STATEN ISLAND             12343   \n",
       "\n",
       "                                            geometry  \n",
       "0  MULTIPOLYGON (((1012821.806 229228.265, 101278...  \n",
       "1  MULTIPOLYGON (((1021176.479 151374.797, 102100...  \n",
       "2  MULTIPOLYGON (((981219.056 188655.316, 980940....  \n",
       "3  MULTIPOLYGON (((1029606.077 156073.814, 102957...  \n",
       "4  MULTIPOLYGON (((970217.022 145643.332, 970227....  "
      ]
     },
     "execution_count": 29,
     "metadata": {},
     "output_type": "execute_result"
    }
   ],
   "source": [
    "gdf_burough"
   ]
  },
  {
   "cell_type": "code",
   "execution_count": 30,
   "id": "42b4d85d",
   "metadata": {},
   "outputs": [
    {
     "data": {
      "text/html": [
       "<div>\n",
       "<style scoped>\n",
       "    .dataframe tbody tr th:only-of-type {\n",
       "        vertical-align: middle;\n",
       "    }\n",
       "\n",
       "    .dataframe tbody tr th {\n",
       "        vertical-align: top;\n",
       "    }\n",
       "\n",
       "    .dataframe thead th {\n",
       "        text-align: right;\n",
       "    }\n",
       "</style>\n",
       "<table border=\"1\" class=\"dataframe\">\n",
       "  <thead>\n",
       "    <tr style=\"text-align: right;\">\n",
       "      <th></th>\n",
       "      <th>Borough</th>\n",
       "      <th>number_of_record</th>\n",
       "      <th>geometry</th>\n",
       "      <th>coords</th>\n",
       "    </tr>\n",
       "  </thead>\n",
       "  <tbody>\n",
       "    <tr>\n",
       "      <th>0</th>\n",
       "      <td>BRONX</td>\n",
       "      <td>40702</td>\n",
       "      <td>MULTIPOLYGON (((1012821.806 229228.265, 101278...</td>\n",
       "      <td>(1021230.8252189507, 251186.33629250404)</td>\n",
       "    </tr>\n",
       "    <tr>\n",
       "      <th>1</th>\n",
       "      <td>BROOKLYN</td>\n",
       "      <td>98307</td>\n",
       "      <td>MULTIPOLYGON (((1021176.479 151374.797, 102100...</td>\n",
       "      <td>(998506.9400731353, 177674.6976928711)</td>\n",
       "    </tr>\n",
       "    <tr>\n",
       "      <th>2</th>\n",
       "      <td>MANHATTAN</td>\n",
       "      <td>66131</td>\n",
       "      <td>MULTIPOLYGON (((981219.056 188655.316, 980940....</td>\n",
       "      <td>(995258.5039826182, 226631.0523071289)</td>\n",
       "    </tr>\n",
       "    <tr>\n",
       "      <th>3</th>\n",
       "      <td>QUEENS</td>\n",
       "      <td>80641</td>\n",
       "      <td>MULTIPOLYGON (((1029606.077 156073.814, 102957...</td>\n",
       "      <td>(1033983.965822806, 196127.3905029297)</td>\n",
       "    </tr>\n",
       "    <tr>\n",
       "      <th>4</th>\n",
       "      <td>STATEN ISLAND</td>\n",
       "      <td>12343</td>\n",
       "      <td>MULTIPOLYGON (((970217.022 145643.332, 970227....</td>\n",
       "      <td>(943802.6851148934, 147890.05410766602)</td>\n",
       "    </tr>\n",
       "  </tbody>\n",
       "</table>\n",
       "</div>"
      ],
      "text/plain": [
       "         Borough  number_of_record  \\\n",
       "0          BRONX             40702   \n",
       "1       BROOKLYN             98307   \n",
       "2      MANHATTAN             66131   \n",
       "3         QUEENS             80641   \n",
       "4  STATEN ISLAND             12343   \n",
       "\n",
       "                                            geometry  \\\n",
       "0  MULTIPOLYGON (((1012821.806 229228.265, 101278...   \n",
       "1  MULTIPOLYGON (((1021176.479 151374.797, 102100...   \n",
       "2  MULTIPOLYGON (((981219.056 188655.316, 980940....   \n",
       "3  MULTIPOLYGON (((1029606.077 156073.814, 102957...   \n",
       "4  MULTIPOLYGON (((970217.022 145643.332, 970227....   \n",
       "\n",
       "                                     coords  \n",
       "0  (1021230.8252189507, 251186.33629250404)  \n",
       "1    (998506.9400731353, 177674.6976928711)  \n",
       "2    (995258.5039826182, 226631.0523071289)  \n",
       "3    (1033983.965822806, 196127.3905029297)  \n",
       "4   (943802.6851148934, 147890.05410766602)  "
      ]
     },
     "execution_count": 30,
     "metadata": {},
     "output_type": "execute_result"
    }
   ],
   "source": [
    "gdf_burough['coords']=gdf_burough['geometry'].apply(lambda x:x.representative_point().coords[:])\n",
    "gdf_burough['coords'] = [coords[0] for coords in gdf_burough['coords']]\n",
    "gdf_burough"
   ]
  },
  {
   "cell_type": "code",
   "execution_count": 31,
   "id": "d872ed19",
   "metadata": {},
   "outputs": [
    {
     "data": {
      "image/png": "[encoded data removed]",
      "text/plain": [
       "<Figure size 1080x576 with 2 Axes>"
      ]
     },
     "metadata": {
      "needs_background": "light"
     },
     "output_type": "display_data"
    }
   ],
   "source": [
    "gdf_burough.plot(column='number_of_record',cmap='Greens',legend=True,figsize = (15,8),edgecolor='k')\n",
    "for idx, row in gdf_burough.iterrows():\n",
    "    plt.annotate(text=row['Borough'], xy=row['coords'],\n",
    "                 horizontalalignment='center')\n",
    "plt.savefig('figures/buroughs_complaint_count.png',bbox_inches=\"tight\")"
   ]
  },
  {
   "cell_type": "code",
   "execution_count": 32,
   "id": "c7f5ce72",
   "metadata": {},
   "outputs": [
    {
     "name": "stdout",
     "output_type": "stream",
     "text": [
      "| Borough       |   count |\n",
      "|:--------------|--------:|\n",
      "| BROOKLYN      |   98307 |\n",
      "| QUEENS        |   80641 |\n",
      "| MANHATTAN     |   66131 |\n",
      "| BRONX         |   40702 |\n",
      "| STATEN ISLAND |   12343 |\n",
      "| Unspecified   |    2574 |\n"
     ]
    }
   ],
   "source": [
    "pivot2=(pd.pivot_table(df_subset,index='Borough',values='count',aggfunc='sum')\n",
    "        .sort_values(by='count',ascending=False)\n",
    "        .to_markdown()\n",
    "       )\n",
    "\n",
    "print(pivot2)"
   ]
  },
  {
   "cell_type": "code",
   "execution_count": 33,
   "id": "6a336281",
   "metadata": {},
   "outputs": [
    {
     "data": {
      "text/plain": [
       "(Closed      298471\n",
       " Open          1439\n",
       " Assigned       786\n",
       " Draft            2\n",
       " Name: Status, dtype: int64,\n",
       " Precinct    298527\n",
       " Name: Facility Type, dtype: int64)"
      ]
     },
     "execution_count": 33,
     "metadata": {},
     "output_type": "execute_result"
    }
   ],
   "source": [
    "df_subset[\"Status\"].value_counts(),df_subset[\"Facility Type\"].value_counts()"
   ]
  },
  {
   "cell_type": "code",
   "execution_count": 34,
   "id": "873a9f78",
   "metadata": {},
   "outputs": [
    {
     "data": {
      "text/html": [
       "<div>\n",
       "<style scoped>\n",
       "    .dataframe tbody tr th:only-of-type {\n",
       "        vertical-align: middle;\n",
       "    }\n",
       "\n",
       "    .dataframe tbody tr th {\n",
       "        vertical-align: top;\n",
       "    }\n",
       "\n",
       "    .dataframe thead th {\n",
       "        text-align: right;\n",
       "    }\n",
       "</style>\n",
       "<table border=\"1\" class=\"dataframe\">\n",
       "  <thead>\n",
       "    <tr style=\"text-align: right;\">\n",
       "      <th></th>\n",
       "      <th></th>\n",
       "      <th>count</th>\n",
       "    </tr>\n",
       "    <tr>\n",
       "      <th>Location Type</th>\n",
       "      <th>Complaint Type</th>\n",
       "      <th></th>\n",
       "    </tr>\n",
       "  </thead>\n",
       "  <tbody>\n",
       "    <tr>\n",
       "      <th rowspan=\"3\" valign=\"top\">Street/Sidewalk</th>\n",
       "      <th>Blocked Driveway</th>\n",
       "      <td>77007</td>\n",
       "    </tr>\n",
       "    <tr>\n",
       "      <th>Illegal Parking</th>\n",
       "      <td>75326</td>\n",
       "    </tr>\n",
       "    <tr>\n",
       "      <th>Noise - Street/Sidewalk</th>\n",
       "      <td>48601</td>\n",
       "    </tr>\n",
       "    <tr>\n",
       "      <th>Store/Commercial</th>\n",
       "      <th>Noise - Commercial</th>\n",
       "      <td>18598</td>\n",
       "    </tr>\n",
       "    <tr>\n",
       "      <th rowspan=\"2\" valign=\"top\">Street/Sidewalk</th>\n",
       "      <th>Derelict Vehicle</th>\n",
       "      <td>17614</td>\n",
       "    </tr>\n",
       "    <tr>\n",
       "      <th>Noise - Vehicle</th>\n",
       "      <td>17080</td>\n",
       "    </tr>\n",
       "    <tr>\n",
       "      <th>Club/Bar/Restaurant</th>\n",
       "      <th>Noise - Commercial</th>\n",
       "      <td>16973</td>\n",
       "    </tr>\n",
       "    <tr>\n",
       "      <th>Residential Building/House</th>\n",
       "      <th>Animal Abuse</th>\n",
       "      <td>5085</td>\n",
       "    </tr>\n",
       "    <tr>\n",
       "      <th>Street/Sidewalk</th>\n",
       "      <th>Traffic</th>\n",
       "      <td>4278</td>\n",
       "    </tr>\n",
       "    <tr>\n",
       "      <th>Park/Playground</th>\n",
       "      <th>Noise - Park</th>\n",
       "      <td>4041</td>\n",
       "    </tr>\n",
       "    <tr>\n",
       "      <th rowspan=\"3\" valign=\"top\">Street/Sidewalk</th>\n",
       "      <th>Vending</th>\n",
       "      <td>3061</td>\n",
       "    </tr>\n",
       "    <tr>\n",
       "      <th>Homeless Encampment</th>\n",
       "      <td>2541</td>\n",
       "    </tr>\n",
       "    <tr>\n",
       "      <th>Animal Abuse</th>\n",
       "      <td>1531</td>\n",
       "    </tr>\n",
       "    <tr>\n",
       "      <th>Residential Building/House</th>\n",
       "      <th>Homeless Encampment</th>\n",
       "      <td>983</td>\n",
       "    </tr>\n",
       "    <tr>\n",
       "      <th>House of Worship</th>\n",
       "      <th>Noise - House of Worship</th>\n",
       "      <td>929</td>\n",
       "    </tr>\n",
       "    <tr>\n",
       "      <th>Street/Sidewalk</th>\n",
       "      <th>Posting Advertisement</th>\n",
       "      <td>582</td>\n",
       "    </tr>\n",
       "    <tr>\n",
       "      <th rowspan=\"2\" valign=\"top\">Store/Commercial</th>\n",
       "      <th>Animal Abuse</th>\n",
       "      <td>522</td>\n",
       "    </tr>\n",
       "    <tr>\n",
       "      <th>Homeless Encampment</th>\n",
       "      <td>512</td>\n",
       "    </tr>\n",
       "    <tr>\n",
       "      <th>Street/Sidewalk</th>\n",
       "      <th>Drinking</th>\n",
       "      <td>434</td>\n",
       "    </tr>\n",
       "    <tr>\n",
       "      <th>Store/Commercial</th>\n",
       "      <th>Vending</th>\n",
       "      <td>432</td>\n",
       "    </tr>\n",
       "  </tbody>\n",
       "</table>\n",
       "</div>"
      ],
      "text/plain": [
       "                                                     count\n",
       "Location Type              Complaint Type                 \n",
       "Street/Sidewalk            Blocked Driveway          77007\n",
       "                           Illegal Parking           75326\n",
       "                           Noise - Street/Sidewalk   48601\n",
       "Store/Commercial           Noise - Commercial        18598\n",
       "Street/Sidewalk            Derelict Vehicle          17614\n",
       "                           Noise - Vehicle           17080\n",
       "Club/Bar/Restaurant        Noise - Commercial        16973\n",
       "Residential Building/House Animal Abuse               5085\n",
       "Street/Sidewalk            Traffic                    4278\n",
       "Park/Playground            Noise - Park               4041\n",
       "Street/Sidewalk            Vending                    3061\n",
       "                           Homeless Encampment        2541\n",
       "                           Animal Abuse               1531\n",
       "Residential Building/House Homeless Encampment         983\n",
       "House of Worship           Noise - House of Worship    929\n",
       "Street/Sidewalk            Posting Advertisement       582\n",
       "Store/Commercial           Animal Abuse                522\n",
       "                           Homeless Encampment         512\n",
       "Street/Sidewalk            Drinking                    434\n",
       "Store/Commercial           Vending                     432"
      ]
     },
     "execution_count": 34,
     "metadata": {},
     "output_type": "execute_result"
    }
   ],
   "source": [
    "pivot3=(\n",
    "    pd.pivot_table(df_subset,index=['Location Type','Complaint Type'],values='count',aggfunc='sum')\n",
    "    .sort_values(by='count',ascending=False)\n",
    "    .head(20)\n",
    ")\n",
    "pivot3"
   ]
  },
  {
   "cell_type": "code",
   "execution_count": 35,
   "id": "79ea35bf",
   "metadata": {},
   "outputs": [
    {
     "data": {
      "text/plain": [
       "The Police Department responded to the complaint and with the information available observed no evidence of the violation at that time.                                                                                                                                                                                                                                                                                                                                                                               90490\n",
       "The Police Department responded to the complaint and took action to fix the condition.                                                                                                                                                                                                                                                                                                                                                                                                                                61624\n",
       "The Police Department responded and upon arrival those responsible for the condition were gone.                                                                                                                                                                                                                                                                                                                                                                                                                       58031\n",
       "The Police Department responded to the complaint and determined that police action was not necessary.                                                                                                                                                                                                                                                                                                                                                                                                                 38211\n",
       "The Police Department issued a summons in response to the complaint.                                                                                                                                                                                                                                                                                                                                                                                                                                                  28246\n",
       "The Police Department reviewed your complaint and provided additional information below.                                                                                                                                                                                                                                                                                                                                                                                                                              13821\n",
       "Your request can not be processed at this time because of insufficient contact information. Please create a new Service Request on NYC.gov and provide more detailed contact information.                                                                                                                                                                                                                                                                                                                              4310\n",
       "Your complaint has been forwarded to the New York Police Department for a non-emergency response. 311 will have additional information in 8 hours. Please note your service request number for future reference.                                                                                                                                                                                                                                                                                                       1916\n",
       "This complaint does not fall under the Police Department's jurisdiction.                                                                                                                                                                                                                                                                                                                                                                                                                                               1797\n",
       "The Police Department responded to the complaint but officers were unable to gain entry into the premises.                                                                                                                                                                                                                                                                                                                                                                                                             1211\n",
       "The Police Department responded to the complaint and a report was prepared.                                                                                                                                                                                                                                                                                                                                                                                                                                             675\n",
       "Your complaint has been forwarded to the New York Police Department for a non-emergency response. If the police determine the vehicle is illegally parked, they will ticket the vehicle and then you may either contact a private towing company to remove the vehicle or ask your local precinct to contact 'rotation tow'. Any fees charged for towing will have to be paid by the vehicle owner. 311 will have additional information in 8 hours. Please note your service request number for future reference.      232\n",
       "The Police Department made an arrest in response to the complaint.                                                                                                                                                                                                                                                                                                                                                                                                                                                      124\n",
       "The New York City Police Department received your comments and forwarded them to the appropriate unit for resolution. You may follow up by calling (646) 610-6952 after 60 days from submitting your agency issue.                                                                                                                                                                                                                                                                                                        6\n",
       "Your complaint has been received by the Police Department and it has been determined that a long-term investigation may be necessary.  Additional information will be available at the conclusion of the investigation.                                                                                                                                                                                                                                                                                                   1\n",
       "The Department of Transportation contacted the customer and resolved the Service Request or provided the information requested.                                                                                                                                                                                                                                                                                                                                                                                           1\n",
       "The Department of Transportation requires 30 days to respond to this type of complaint.  Please note your Service Request number for future reference.                                                                                                                                                                                                                                                                                                                                                                    1\n",
       "The condition was determined to be an issue appropriate for handling by an alternate entity.  The Department of Parks and Recreation has notified the appropriate resource.                                                                                                                                                                                                                                                                                                                                               1\n",
       "Name: Resolution Description, dtype: int64"
      ]
     },
     "execution_count": 35,
     "metadata": {},
     "output_type": "execute_result"
    }
   ],
   "source": [
    "df_subset['Resolution Description'].value_counts()"
   ]
  },
  {
   "cell_type": "code",
   "execution_count": 36,
   "id": "73a83666",
   "metadata": {},
   "outputs": [
    {
     "data": {
      "text/html": [
       "<div>\n",
       "<style scoped>\n",
       "    .dataframe tbody tr th:only-of-type {\n",
       "        vertical-align: middle;\n",
       "    }\n",
       "\n",
       "    .dataframe tbody tr th {\n",
       "        vertical-align: top;\n",
       "    }\n",
       "\n",
       "    .dataframe thead th {\n",
       "        text-align: right;\n",
       "    }\n",
       "</style>\n",
       "<table border=\"1\" class=\"dataframe\">\n",
       "  <thead>\n",
       "    <tr style=\"text-align: right;\">\n",
       "      <th></th>\n",
       "      <th>Created Date</th>\n",
       "      <th>Due Date</th>\n",
       "      <th>Resolution Action Updated Date</th>\n",
       "      <th>Closed Date</th>\n",
       "    </tr>\n",
       "  </thead>\n",
       "  <tbody>\n",
       "    <tr>\n",
       "      <th>0</th>\n",
       "      <td>12/31/2015 11:59:45 PM</td>\n",
       "      <td>01-01-16 7:59</td>\n",
       "      <td>01-01-16 0:55</td>\n",
       "      <td>01-01-16 0:55</td>\n",
       "    </tr>\n",
       "    <tr>\n",
       "      <th>1</th>\n",
       "      <td>12/31/2015 11:59:44 PM</td>\n",
       "      <td>01-01-16 7:59</td>\n",
       "      <td>01-01-16 1:26</td>\n",
       "      <td>01-01-16 1:26</td>\n",
       "    </tr>\n",
       "    <tr>\n",
       "      <th>2</th>\n",
       "      <td>12/31/2015 11:59:29 PM</td>\n",
       "      <td>01-01-16 7:59</td>\n",
       "      <td>01-01-16 4:51</td>\n",
       "      <td>01-01-16 4:51</td>\n",
       "    </tr>\n",
       "    <tr>\n",
       "      <th>3</th>\n",
       "      <td>12/31/2015 11:57:46 PM</td>\n",
       "      <td>01-01-16 7:57</td>\n",
       "      <td>01-01-16 7:43</td>\n",
       "      <td>01-01-16 7:43</td>\n",
       "    </tr>\n",
       "    <tr>\n",
       "      <th>4</th>\n",
       "      <td>12/31/2015 11:56:58 PM</td>\n",
       "      <td>01-01-16 7:56</td>\n",
       "      <td>01-01-16 3:24</td>\n",
       "      <td>01-01-16 3:24</td>\n",
       "    </tr>\n",
       "  </tbody>\n",
       "</table>\n",
       "</div>"
      ],
      "text/plain": [
       "             Created Date       Due Date Resolution Action Updated Date  \\\n",
       "0  12/31/2015 11:59:45 PM  01-01-16 7:59                  01-01-16 0:55   \n",
       "1  12/31/2015 11:59:44 PM  01-01-16 7:59                  01-01-16 1:26   \n",
       "2  12/31/2015 11:59:29 PM  01-01-16 7:59                  01-01-16 4:51   \n",
       "3  12/31/2015 11:57:46 PM  01-01-16 7:57                  01-01-16 7:43   \n",
       "4  12/31/2015 11:56:58 PM  01-01-16 7:56                  01-01-16 3:24   \n",
       "\n",
       "     Closed Date  \n",
       "0  01-01-16 0:55  \n",
       "1  01-01-16 1:26  \n",
       "2  01-01-16 4:51  \n",
       "3  01-01-16 7:43  \n",
       "4  01-01-16 3:24  "
      ]
     },
     "execution_count": 36,
     "metadata": {},
     "output_type": "execute_result"
    }
   ],
   "source": [
    "df_subset[['Created Date','Due Date','Resolution Action Updated Date','Closed Date']].head()"
   ]
  },
  {
   "cell_type": "code",
   "execution_count": 37,
   "id": "11226602",
   "metadata": {},
   "outputs": [
    {
     "data": {
      "text/plain": [
       "0    The Police Department responded and upon arriv...\n",
       "1    The Police Department responded to the complai...\n",
       "2    The Police Department responded and upon arriv...\n",
       "3    The Police Department responded to the complai...\n",
       "4    The Police Department responded and upon arriv...\n",
       "Name: Resolution Description, dtype: object"
      ]
     },
     "execution_count": 37,
     "metadata": {},
     "output_type": "execute_result"
    }
   ],
   "source": [
    "df_subset['Resolution Description'].head()"
   ]
  },
  {
   "cell_type": "code",
   "execution_count": 15,
   "id": "18cd070b",
   "metadata": {},
   "outputs": [],
   "source": [
    "#change data types of Created Date, Due Date, Resolution Action Updated Date, Closed Date\n",
    "df_subset[\"Created Date\"]=pd.to_datetime(df_subset[\"Created Date\"])\n",
    "df_subset[\"Closed Date\"]=pd.to_datetime(df_subset[\"Closed Date\"])\n",
    "df_subset['Due Date']=pd.to_datetime(df_subset['Due Date'])\n",
    "df_subset['Resolution Action Updated Date']=pd.to_datetime(df_subset['Resolution Action Updated Date'])"
   ]
  },
  {
   "cell_type": "code",
   "execution_count": 16,
   "id": "fd931b4c",
   "metadata": {},
   "outputs": [
    {
     "data": {
      "text/plain": [
       "Unique Key                                 int64\n",
       "Created Date                      datetime64[ns]\n",
       "Closed Date                       datetime64[ns]\n",
       "Agency                                    object\n",
       "Agency Name                               object\n",
       "Complaint Type                            object\n",
       "Descriptor                                object\n",
       "Location Type                             object\n",
       "Incident Zip                             float64\n",
       "Incident Address                          object\n",
       "Street Name                               object\n",
       "Cross Street 1                            object\n",
       "Cross Street 2                            object\n",
       "Intersection Street 1                     object\n",
       "Intersection Street 2                     object\n",
       "Address Type                              object\n",
       "City                                      object\n",
       "Facility Type                             object\n",
       "Status                                    object\n",
       "Due Date                          datetime64[ns]\n",
       "Resolution Description                    object\n",
       "Resolution Action Updated Date    datetime64[ns]\n",
       "Community Board                           object\n",
       "Borough                                   object\n",
       "X Coordinate (State Plane)               float64\n",
       "Y Coordinate (State Plane)               float64\n",
       "Park Facility Name                        object\n",
       "Park Borough                              object\n",
       "School Name                               object\n",
       "School Number                             object\n",
       "School Region                             object\n",
       "School Code                               object\n",
       "School Phone Number                       object\n",
       "School Address                            object\n",
       "School City                               object\n",
       "School State                              object\n",
       "School Zip                                object\n",
       "School Not Found                          object\n",
       "Latitude                                 float64\n",
       "Longitude                                float64\n",
       "Location                                  object\n",
       "count                                      int64\n",
       "dtype: object"
      ]
     },
     "execution_count": 16,
     "metadata": {},
     "output_type": "execute_result"
    }
   ],
   "source": [
    "df_subset.dtypes"
   ]
  },
  {
   "cell_type": "code",
   "execution_count": 40,
   "id": "d70f8c87",
   "metadata": {},
   "outputs": [],
   "source": [
    "#check if Resolution Action Updated Date & Closed Date columns are the same\n",
    "df_subset['equal_resolution_closed_date']=(np.where(df_subset['Closed Date']==df_subset['Resolution Action Updated Date'],True,False))\n"
   ]
  },
  {
   "cell_type": "code",
   "execution_count": 41,
   "id": "610db3f7",
   "metadata": {},
   "outputs": [
    {
     "data": {
      "text/plain": [
       "True     275075\n",
       "False     25623\n",
       "Name: equal_resolution_closed_date, dtype: int64"
      ]
     },
     "execution_count": 41,
     "metadata": {},
     "output_type": "execute_result"
    }
   ],
   "source": [
    "df_subset['equal_resolution_closed_date'].value_counts()"
   ]
  },
  {
   "cell_type": "code",
   "execution_count": 42,
   "id": "a50507ba",
   "metadata": {},
   "outputs": [
    {
     "data": {
      "text/plain": [
       "(Timestamp('2015-03-29 00:33:01'), Timestamp('2015-12-31 23:59:45'))"
      ]
     },
     "execution_count": 42,
     "metadata": {},
     "output_type": "execute_result"
    }
   ],
   "source": [
    "df_subset[\"Created Date\"].min(), df_subset[\"Created Date\"].max()"
   ]
  },
  {
   "cell_type": "code",
   "execution_count": 43,
   "id": "5ee32c2b",
   "metadata": {},
   "outputs": [
    {
     "name": "stdout",
     "output_type": "stream",
     "text": [
      "277 days 23:26:44\n"
     ]
    }
   ],
   "source": [
    "time_delta=df_subset[\"Created Date\"].max() - df_subset[\"Created Date\"].min()\n",
    "print(time_delta)"
   ]
  },
  {
   "cell_type": "code",
   "execution_count": 17,
   "id": "869f4f98",
   "metadata": {},
   "outputs": [
    {
     "data": {
      "text/plain": [
       "0          55.250000\n",
       "1          86.266667\n",
       "2         291.516667\n",
       "3         465.233333\n",
       "4         207.033333\n",
       "             ...    \n",
       "300693           NaN\n",
       "300694    120.516667\n",
       "300695    187.283333\n",
       "300696    245.550000\n",
       "300697    248.816667\n",
       "Name: Request_Closing_Time (mins), Length: 300698, dtype: float64"
      ]
     },
     "execution_count": 17,
     "metadata": {},
     "output_type": "execute_result"
    }
   ],
   "source": [
    "#Add column Request Closing Time\n",
    "df_subset['Request_Closing_Time']=df_subset['Closed Date']-df_subset['Created Date']\n",
    "df_subset['Request_Closing_Time (mins)']=df_subset['Request_Closing_Time']/np.timedelta64(1,'m')\n",
    "df_subset['Request_Closing_Time (mins)']"
   ]
  },
  {
   "cell_type": "code",
   "execution_count": 45,
   "id": "a1c49f2f",
   "metadata": {},
   "outputs": [
    {
     "data": {
      "text/plain": [
       "0         December\n",
       "1         December\n",
       "2         December\n",
       "3         December\n",
       "4         December\n",
       "            ...   \n",
       "300693       March\n",
       "300694       March\n",
       "300695       March\n",
       "300696       March\n",
       "300697       March\n",
       "Name: created_date_month, Length: 300698, dtype: object"
      ]
     },
     "execution_count": 45,
     "metadata": {},
     "output_type": "execute_result"
    }
   ],
   "source": [
    "#parse month name from created date. Issue: the month name is parsed as a string and not month\n",
    "df_subset['created_date_month']=df_subset['Created Date'].dt.month_name()#to_period('M')\n",
    "df_subset['created_date_month']"
   ]
  },
  {
   "cell_type": "code",
   "execution_count": 46,
   "id": "bc50c33a",
   "metadata": {},
   "outputs": [
    {
     "data": {
      "text/plain": [
       "0        2015-12-31 23:59:45\n",
       "1        2015-12-31 23:59:44\n",
       "2        2015-12-31 23:59:29\n",
       "3        2015-12-31 23:57:46\n",
       "4        2015-12-31 23:56:58\n",
       "                 ...        \n",
       "300693   2015-03-29 00:33:41\n",
       "300694   2015-03-29 00:33:28\n",
       "300695   2015-03-29 00:33:03\n",
       "300696   2015-03-29 00:33:02\n",
       "300697   2015-03-29 00:33:01\n",
       "Name: test, Length: 300698, dtype: datetime64[ns]"
      ]
     },
     "execution_count": 46,
     "metadata": {},
     "output_type": "execute_result"
    }
   ],
   "source": [
    "df_subset['test']=pd.to_datetime(df_subset['Created Date'],format='%d-%b')\n",
    "df_subset['test']"
   ]
  },
  {
   "cell_type": "code",
   "execution_count": 47,
   "id": "efa50946",
   "metadata": {},
   "outputs": [
    {
     "data": {
      "text/plain": [
       "0         12\n",
       "1         12\n",
       "2         12\n",
       "3         12\n",
       "4         12\n",
       "          ..\n",
       "300693     3\n",
       "300694     3\n",
       "300695     3\n",
       "300696     3\n",
       "300697     3\n",
       "Name: created_date_monthindex, Length: 300698, dtype: int64"
      ]
     },
     "execution_count": 47,
     "metadata": {},
     "output_type": "execute_result"
    }
   ],
   "source": [
    "# parse month index from created date\n",
    "df_subset['created_date_monthindex']=df_subset['Created Date'].dt.month\n",
    "df_subset['created_date_monthindex']"
   ]
  },
  {
   "cell_type": "code",
   "execution_count": 49,
   "id": "6bdde637",
   "metadata": {},
   "outputs": [
    {
     "data": {
      "text/html": [
       "<div>\n",
       "<style scoped>\n",
       "    .dataframe tbody tr th:only-of-type {\n",
       "        vertical-align: middle;\n",
       "    }\n",
       "\n",
       "    .dataframe tbody tr th {\n",
       "        vertical-align: top;\n",
       "    }\n",
       "\n",
       "    .dataframe thead th {\n",
       "        text-align: right;\n",
       "    }\n",
       "</style>\n",
       "<table border=\"1\" class=\"dataframe\">\n",
       "  <thead>\n",
       "    <tr style=\"text-align: right;\">\n",
       "      <th></th>\n",
       "      <th>Unique Key</th>\n",
       "      <th>Created Date</th>\n",
       "      <th>Closed Date</th>\n",
       "      <th>Agency</th>\n",
       "      <th>Agency Name</th>\n",
       "      <th>Complaint Type</th>\n",
       "      <th>Descriptor</th>\n",
       "      <th>Location Type</th>\n",
       "      <th>Incident Zip</th>\n",
       "      <th>Incident Address</th>\n",
       "      <th>...</th>\n",
       "      <th>Latitude</th>\n",
       "      <th>Longitude</th>\n",
       "      <th>Location</th>\n",
       "      <th>count</th>\n",
       "      <th>equal_resolution_closed_date</th>\n",
       "      <th>Request_Closing_Time</th>\n",
       "      <th>Request_Closing_Time (mins)</th>\n",
       "      <th>created_date_month</th>\n",
       "      <th>test</th>\n",
       "      <th>created_date_monthindex</th>\n",
       "    </tr>\n",
       "  </thead>\n",
       "  <tbody>\n",
       "    <tr>\n",
       "      <th>300697</th>\n",
       "      <td>30281825</td>\n",
       "      <td>2015-03-29 00:33:01</td>\n",
       "      <td>2015-03-29 04:41:50</td>\n",
       "      <td>NYPD</td>\n",
       "      <td>New York City Police Department</td>\n",
       "      <td>Noise - Commercial</td>\n",
       "      <td>Loud Music/Party</td>\n",
       "      <td>Store/Commercial</td>\n",
       "      <td>10036.0</td>\n",
       "      <td>251 WEST 48 STREET</td>\n",
       "      <td>...</td>\n",
       "      <td>40.760583</td>\n",
       "      <td>-73.985922</td>\n",
       "      <td>(40.76058322950115, -73.98592204392392)</td>\n",
       "      <td>1</td>\n",
       "      <td>True</td>\n",
       "      <td>0 days 04:08:49</td>\n",
       "      <td>248.816667</td>\n",
       "      <td>March</td>\n",
       "      <td>2015-03-29 00:33:01</td>\n",
       "      <td>3</td>\n",
       "    </tr>\n",
       "    <tr>\n",
       "      <th>299053</th>\n",
       "      <td>30297425</td>\n",
       "      <td>2015-03-31 01:36:17</td>\n",
       "      <td>2015-03-31 02:56:44</td>\n",
       "      <td>NYPD</td>\n",
       "      <td>New York City Police Department</td>\n",
       "      <td>Noise - Commercial</td>\n",
       "      <td>Loud Music/Party</td>\n",
       "      <td>Club/Bar/Restaurant</td>\n",
       "      <td>10029.0</td>\n",
       "      <td>118 EAST 116 STREET</td>\n",
       "      <td>...</td>\n",
       "      <td>40.798949</td>\n",
       "      <td>-73.942417</td>\n",
       "      <td>(40.7989493438091, -73.94241686500288)</td>\n",
       "      <td>1</td>\n",
       "      <td>True</td>\n",
       "      <td>0 days 01:20:27</td>\n",
       "      <td>80.450000</td>\n",
       "      <td>March</td>\n",
       "      <td>2015-03-31 01:36:17</td>\n",
       "      <td>3</td>\n",
       "    </tr>\n",
       "    <tr>\n",
       "      <th>299052</th>\n",
       "      <td>30296278</td>\n",
       "      <td>2015-03-31 01:40:09</td>\n",
       "      <td>2015-03-31 02:02:28</td>\n",
       "      <td>NYPD</td>\n",
       "      <td>New York City Police Department</td>\n",
       "      <td>Noise - Commercial</td>\n",
       "      <td>Loud Talking</td>\n",
       "      <td>Club/Bar/Restaurant</td>\n",
       "      <td>10012.0</td>\n",
       "      <td>219 MULBERRY STREET</td>\n",
       "      <td>...</td>\n",
       "      <td>40.722308</td>\n",
       "      <td>-73.996140</td>\n",
       "      <td>(40.72230847272815, -73.99613980463909)</td>\n",
       "      <td>1</td>\n",
       "      <td>False</td>\n",
       "      <td>0 days 00:22:19</td>\n",
       "      <td>22.316667</td>\n",
       "      <td>March</td>\n",
       "      <td>2015-03-31 01:40:09</td>\n",
       "      <td>3</td>\n",
       "    </tr>\n",
       "    <tr>\n",
       "      <th>299051</th>\n",
       "      <td>30294322</td>\n",
       "      <td>2015-03-31 01:42:30</td>\n",
       "      <td>2015-03-31 02:30:48</td>\n",
       "      <td>NYPD</td>\n",
       "      <td>New York City Police Department</td>\n",
       "      <td>Noise - Street/Sidewalk</td>\n",
       "      <td>Loud Music/Party</td>\n",
       "      <td>Street/Sidewalk</td>\n",
       "      <td>11385.0</td>\n",
       "      <td>60-57 CATALPA AVENUE</td>\n",
       "      <td>...</td>\n",
       "      <td>40.703565</td>\n",
       "      <td>-73.897138</td>\n",
       "      <td>(40.70356526007681, -73.89713846415955)</td>\n",
       "      <td>1</td>\n",
       "      <td>True</td>\n",
       "      <td>0 days 00:48:18</td>\n",
       "      <td>48.300000</td>\n",
       "      <td>March</td>\n",
       "      <td>2015-03-31 01:42:30</td>\n",
       "      <td>3</td>\n",
       "    </tr>\n",
       "    <tr>\n",
       "      <th>299050</th>\n",
       "      <td>30297422</td>\n",
       "      <td>2015-03-31 01:43:35</td>\n",
       "      <td>2015-03-31 02:32:53</td>\n",
       "      <td>NYPD</td>\n",
       "      <td>New York City Police Department</td>\n",
       "      <td>Illegal Parking</td>\n",
       "      <td>Blocked Hydrant</td>\n",
       "      <td>Street/Sidewalk</td>\n",
       "      <td>11385.0</td>\n",
       "      <td>NaN</td>\n",
       "      <td>...</td>\n",
       "      <td>40.705197</td>\n",
       "      <td>-73.898535</td>\n",
       "      <td>(40.70519689129971, -73.8985353599385)</td>\n",
       "      <td>1</td>\n",
       "      <td>True</td>\n",
       "      <td>0 days 00:49:18</td>\n",
       "      <td>49.300000</td>\n",
       "      <td>March</td>\n",
       "      <td>2015-03-31 01:43:35</td>\n",
       "      <td>3</td>\n",
       "    </tr>\n",
       "  </tbody>\n",
       "</table>\n",
       "<p>5 rows × 48 columns</p>\n",
       "</div>"
      ],
      "text/plain": [
       "        Unique Key        Created Date         Closed Date Agency  \\\n",
       "300697    30281825 2015-03-29 00:33:01 2015-03-29 04:41:50   NYPD   \n",
       "299053    30297425 2015-03-31 01:36:17 2015-03-31 02:56:44   NYPD   \n",
       "299052    30296278 2015-03-31 01:40:09 2015-03-31 02:02:28   NYPD   \n",
       "299051    30294322 2015-03-31 01:42:30 2015-03-31 02:30:48   NYPD   \n",
       "299050    30297422 2015-03-31 01:43:35 2015-03-31 02:32:53   NYPD   \n",
       "\n",
       "                            Agency Name           Complaint Type  \\\n",
       "300697  New York City Police Department       Noise - Commercial   \n",
       "299053  New York City Police Department       Noise - Commercial   \n",
       "299052  New York City Police Department       Noise - Commercial   \n",
       "299051  New York City Police Department  Noise - Street/Sidewalk   \n",
       "299050  New York City Police Department          Illegal Parking   \n",
       "\n",
       "              Descriptor        Location Type  Incident Zip  \\\n",
       "300697  Loud Music/Party     Store/Commercial       10036.0   \n",
       "299053  Loud Music/Party  Club/Bar/Restaurant       10029.0   \n",
       "299052      Loud Talking  Club/Bar/Restaurant       10012.0   \n",
       "299051  Loud Music/Party      Street/Sidewalk       11385.0   \n",
       "299050   Blocked Hydrant      Street/Sidewalk       11385.0   \n",
       "\n",
       "            Incident Address  ...   Latitude  Longitude  \\\n",
       "300697    251 WEST 48 STREET  ...  40.760583 -73.985922   \n",
       "299053   118 EAST 116 STREET  ...  40.798949 -73.942417   \n",
       "299052   219 MULBERRY STREET  ...  40.722308 -73.996140   \n",
       "299051  60-57 CATALPA AVENUE  ...  40.703565 -73.897138   \n",
       "299050                   NaN  ...  40.705197 -73.898535   \n",
       "\n",
       "                                       Location count  \\\n",
       "300697  (40.76058322950115, -73.98592204392392)     1   \n",
       "299053   (40.7989493438091, -73.94241686500288)     1   \n",
       "299052  (40.72230847272815, -73.99613980463909)     1   \n",
       "299051  (40.70356526007681, -73.89713846415955)     1   \n",
       "299050   (40.70519689129971, -73.8985353599385)     1   \n",
       "\n",
       "       equal_resolution_closed_date Request_Closing_Time  \\\n",
       "300697                         True      0 days 04:08:49   \n",
       "299053                         True      0 days 01:20:27   \n",
       "299052                        False      0 days 00:22:19   \n",
       "299051                         True      0 days 00:48:18   \n",
       "299050                         True      0 days 00:49:18   \n",
       "\n",
       "       Request_Closing_Time (mins) created_date_month                test  \\\n",
       "300697                  248.816667              March 2015-03-29 00:33:01   \n",
       "299053                   80.450000              March 2015-03-31 01:36:17   \n",
       "299052                   22.316667              March 2015-03-31 01:40:09   \n",
       "299051                   48.300000              March 2015-03-31 01:42:30   \n",
       "299050                   49.300000              March 2015-03-31 01:43:35   \n",
       "\n",
       "       created_date_monthindex  \n",
       "300697                       3  \n",
       "299053                       3  \n",
       "299052                       3  \n",
       "299051                       3  \n",
       "299050                       3  \n",
       "\n",
       "[5 rows x 48 columns]"
      ]
     },
     "execution_count": 49,
     "metadata": {},
     "output_type": "execute_result"
    }
   ],
   "source": [
    "#sort value by month index\n",
    "df_subset_sort=df_subset.sort_values(by='created_date_monthindex')\n",
    "df_subset_sort.head()"
   ]
  },
  {
   "cell_type": "code",
   "execution_count": 65,
   "id": "a0fd918a",
   "metadata": {},
   "outputs": [
    {
     "data": {
      "text/html": [
       "<div>\n",
       "<style scoped>\n",
       "    .dataframe tbody tr th:only-of-type {\n",
       "        vertical-align: middle;\n",
       "    }\n",
       "\n",
       "    .dataframe tbody tr th {\n",
       "        vertical-align: top;\n",
       "    }\n",
       "\n",
       "    .dataframe thead th {\n",
       "        text-align: right;\n",
       "    }\n",
       "</style>\n",
       "<table border=\"1\" class=\"dataframe\">\n",
       "  <thead>\n",
       "    <tr style=\"text-align: right;\">\n",
       "      <th>Borough</th>\n",
       "      <th>BRONX</th>\n",
       "      <th>BROOKLYN</th>\n",
       "      <th>MANHATTAN</th>\n",
       "      <th>QUEENS</th>\n",
       "      <th>STATEN ISLAND</th>\n",
       "      <th>Unspecified</th>\n",
       "    </tr>\n",
       "    <tr>\n",
       "      <th>created_date_month</th>\n",
       "      <th></th>\n",
       "      <th></th>\n",
       "      <th></th>\n",
       "      <th></th>\n",
       "      <th></th>\n",
       "      <th></th>\n",
       "    </tr>\n",
       "  </thead>\n",
       "  <tbody>\n",
       "    <tr>\n",
       "      <th>March</th>\n",
       "      <td>297</td>\n",
       "      <td>832</td>\n",
       "      <td>499</td>\n",
       "      <td>720</td>\n",
       "      <td>105</td>\n",
       "      <td>18</td>\n",
       "    </tr>\n",
       "    <tr>\n",
       "      <th>April</th>\n",
       "      <td>3212</td>\n",
       "      <td>8771</td>\n",
       "      <td>6621</td>\n",
       "      <td>7453</td>\n",
       "      <td>1050</td>\n",
       "      <td>198</td>\n",
       "    </tr>\n",
       "    <tr>\n",
       "      <th>May</th>\n",
       "      <td>5126</td>\n",
       "      <td>11623</td>\n",
       "      <td>8851</td>\n",
       "      <td>9156</td>\n",
       "      <td>1263</td>\n",
       "      <td>418</td>\n",
       "    </tr>\n",
       "    <tr>\n",
       "      <th>June</th>\n",
       "      <td>4848</td>\n",
       "      <td>11887</td>\n",
       "      <td>7497</td>\n",
       "      <td>9464</td>\n",
       "      <td>1385</td>\n",
       "      <td>234</td>\n",
       "    </tr>\n",
       "    <tr>\n",
       "      <th>July</th>\n",
       "      <td>5556</td>\n",
       "      <td>10693</td>\n",
       "      <td>7568</td>\n",
       "      <td>9218</td>\n",
       "      <td>1335</td>\n",
       "      <td>518</td>\n",
       "    </tr>\n",
       "    <tr>\n",
       "      <th>August</th>\n",
       "      <td>5439</td>\n",
       "      <td>10847</td>\n",
       "      <td>7768</td>\n",
       "      <td>9121</td>\n",
       "      <td>1523</td>\n",
       "      <td>258</td>\n",
       "    </tr>\n",
       "    <tr>\n",
       "      <th>September</th>\n",
       "      <td>4798</td>\n",
       "      <td>12039</td>\n",
       "      <td>7631</td>\n",
       "      <td>9203</td>\n",
       "      <td>1457</td>\n",
       "      <td>299</td>\n",
       "    </tr>\n",
       "    <tr>\n",
       "      <th>October</th>\n",
       "      <td>3963</td>\n",
       "      <td>10641</td>\n",
       "      <td>7227</td>\n",
       "      <td>9139</td>\n",
       "      <td>1408</td>\n",
       "      <td>227</td>\n",
       "    </tr>\n",
       "    <tr>\n",
       "      <th>November</th>\n",
       "      <td>3682</td>\n",
       "      <td>10550</td>\n",
       "      <td>6352</td>\n",
       "      <td>8554</td>\n",
       "      <td>1436</td>\n",
       "      <td>199</td>\n",
       "    </tr>\n",
       "    <tr>\n",
       "      <th>December</th>\n",
       "      <td>3781</td>\n",
       "      <td>10424</td>\n",
       "      <td>6117</td>\n",
       "      <td>8613</td>\n",
       "      <td>1381</td>\n",
       "      <td>205</td>\n",
       "    </tr>\n",
       "  </tbody>\n",
       "</table>\n",
       "</div>"
      ],
      "text/plain": [
       "Borough             BRONX  BROOKLYN  MANHATTAN  QUEENS  STATEN ISLAND  \\\n",
       "created_date_month                                                      \n",
       "March                 297       832        499     720            105   \n",
       "April                3212      8771       6621    7453           1050   \n",
       "May                  5126     11623       8851    9156           1263   \n",
       "June                 4848     11887       7497    9464           1385   \n",
       "July                 5556     10693       7568    9218           1335   \n",
       "August               5439     10847       7768    9121           1523   \n",
       "September            4798     12039       7631    9203           1457   \n",
       "October              3963     10641       7227    9139           1408   \n",
       "November             3682     10550       6352    8554           1436   \n",
       "December             3781     10424       6117    8613           1381   \n",
       "\n",
       "Borough             Unspecified  \n",
       "created_date_month               \n",
       "March                        18  \n",
       "April                       198  \n",
       "May                         418  \n",
       "June                        234  \n",
       "July                        518  \n",
       "August                      258  \n",
       "September                   299  \n",
       "October                     227  \n",
       "November                    199  \n",
       "December                    205  "
      ]
     },
     "execution_count": 65,
     "metadata": {},
     "output_type": "execute_result"
    }
   ],
   "source": [
    "sort_month=['March','April','May','June','July','August','September','October','November','December']\n",
    "pivot4=(\n",
    "    pd.pivot_table(df_subset,\n",
    "                   index='created_date_month',\n",
    "                   columns=['Borough'],\n",
    "                   values='count',\n",
    "                   aggfunc='sum')\n",
    "    .reindex(sort_month,axis=0)\n",
    "    #.sort_values(by='created_date_monthindex')\n",
    ")\n",
    "pivot4"
   ]
  },
  {
   "cell_type": "code",
   "execution_count": 66,
   "id": "c49f2b1e",
   "metadata": {},
   "outputs": [
    {
     "data": {
      "text/plain": [
       "Index(['BRONX', 'BROOKLYN', 'MANHATTAN', 'QUEENS', 'STATEN ISLAND',\n",
       "       'Unspecified'],\n",
       "      dtype='object', name='Borough')"
      ]
     },
     "execution_count": 66,
     "metadata": {},
     "output_type": "execute_result"
    }
   ],
   "source": [
    "pivot4.columns"
   ]
  },
  {
   "cell_type": "code",
   "execution_count": 70,
   "id": "22878fe4",
   "metadata": {},
   "outputs": [
    {
     "data": {
      "image/png": "[encoded data removed]",
      "text/plain": [
       "<Figure size 1080x576 with 1 Axes>"
      ]
     },
     "metadata": {
      "needs_background": "light"
     },
     "output_type": "display_data"
    }
   ],
   "source": [
    "pivot4.plot(figsize = (15,8))\n",
    "plt.savefig('figures/buroughs_monthlytrrend_complaint.png',bbox_inches=\"tight\")"
   ]
  },
  {
   "cell_type": "code",
   "execution_count": null,
   "id": "e7eb7563",
   "metadata": {
    "collapsed": true,
    "jupyter": {
     "outputs_hidden": true
    }
   },
   "outputs": [],
   "source": [
    "# Average Response Time for each complaint type\n",
    "df_subset.groupby('Complaint Type')['Request_Closing_Time'].agg(lambda x: x.mean()).sort_values(ascending=False)"
   ]
  },
  {
   "cell_type": "code",
   "execution_count": null,
   "id": "2824e503",
   "metadata": {
    "collapsed": true,
    "jupyter": {
     "outputs_hidden": true
    }
   },
   "outputs": [],
   "source": [
    "pd.set_option('display.max_rows',None)"
   ]
  },
  {
   "cell_type": "code",
   "execution_count": null,
   "id": "2f191538",
   "metadata": {
    "collapsed": true,
    "jupyter": {
     "outputs_hidden": true
    }
   },
   "outputs": [],
   "source": [
    "df_subset.groupby(['Complaint Type','Location Type'])['Request_Closing_Time'].agg(lambda x: x.mean())"
   ]
  },
  {
   "cell_type": "code",
   "execution_count": 72,
   "id": "781eeaff",
   "metadata": {},
   "outputs": [
    {
     "data": {
      "text/plain": [
       "array(['Closed', 'Open', 'Assigned', 'Draft'], dtype=object)"
      ]
     },
     "execution_count": 72,
     "metadata": {},
     "output_type": "execute_result"
    }
   ],
   "source": [
    "pd.unique(df_subset['Status'])"
   ]
  },
  {
   "cell_type": "code",
   "execution_count": 73,
   "id": "e022ec02",
   "metadata": {},
   "outputs": [
    {
     "data": {
      "text/plain": [
       "Status    Complaint Type           \n",
       "Assigned  Animal Abuse                     4\n",
       "          Bike/Roller/Skate Chronic        1\n",
       "          Blocked Driveway                98\n",
       "          Derelict Vehicle                27\n",
       "          Homeless Encampment              4\n",
       "          Illegal Parking                257\n",
       "          Noise - Commercial             156\n",
       "          Noise - Park                    11\n",
       "          Noise - Street/Sidewalk        201\n",
       "          Noise - Vehicle                 20\n",
       "          Panhandling                      1\n",
       "          Posting Advertisement            1\n",
       "          Traffic                          2\n",
       "          Vending                          3\n",
       "Closed    Agency Issues                    6\n",
       "          Animal Abuse                  7766\n",
       "          Animal in a Park                 1\n",
       "          Bike/Roller/Skate Chronic      424\n",
       "          Blocked Driveway             76793\n",
       "          Derelict Vehicle             17585\n",
       "          Disorderly Youth               286\n",
       "          Drinking                      1275\n",
       "          Graffiti                       113\n",
       "          Homeless Encampment           4410\n",
       "          Illegal Fireworks              168\n",
       "          Illegal Parking              74515\n",
       "          Noise - Commercial           35245\n",
       "          Noise - House of Worship       929\n",
       "          Noise - Park                  4021\n",
       "          Noise - Street/Sidewalk      48068\n",
       "          Noise - Vehicle              17032\n",
       "          Panhandling                    305\n",
       "          Posting Advertisement          647\n",
       "          Squeegee                         4\n",
       "          Traffic                       4493\n",
       "          Urinating in Public            592\n",
       "          Vending                       3793\n",
       "Draft     Blocked Driveway                 1\n",
       "          Noise - Street/Sidewalk          1\n",
       "Open      Animal Abuse                     8\n",
       "          Bike/Roller/Skate Chronic        2\n",
       "          Blocked Driveway               152\n",
       "          Derelict Vehicle               106\n",
       "          Drinking                         5\n",
       "          Ferry Complaint                  2\n",
       "          Homeless Encampment              2\n",
       "          Illegal Parking                589\n",
       "          Noise - Commercial             176\n",
       "          Noise - House of Worship         2\n",
       "          Noise - Park                    10\n",
       "          Noise - Street/Sidewalk        342\n",
       "          Noise - Vehicle                 31\n",
       "          Panhandling                      1\n",
       "          Posting Advertisement            2\n",
       "          Traffic                          3\n",
       "          Vending                          6\n",
       "Name: Status, dtype: int64"
      ]
     },
     "execution_count": 73,
     "metadata": {},
     "output_type": "execute_result"
    }
   ],
   "source": [
    "df_subset.groupby(['Status','Complaint Type'])['Status'].count()"
   ]
  },
  {
   "cell_type": "code",
   "execution_count": 18,
   "id": "57e2a78f",
   "metadata": {},
   "outputs": [
    {
     "data": {
      "image/png": "[encoded data removed]",
      "text/plain": [
       "<Figure size 864x864 with 6 Axes>"
      ]
     },
     "metadata": {
      "needs_background": "light"
     },
     "output_type": "display_data"
    }
   ],
   "source": [
    "Complaint_Type_Borough = df_subset.groupby(['Complaint Type','Borough'])[['Request_Closing_Time (mins)']].mean().unstack() #this line of code is converting a series data to a dataframe...because of the unstack method. We were getting a series, by applying the unstack method it convets to a dataframe. We need a dataframe to make plotting easy\n",
    " \n",
    "col_number = 2\n",
    "row_number = 3\n",
    "fig, axes = plt.subplots(row_number,col_number, figsize=(12,12))\n",
    " \n",
    "for i, (label,col) in enumerate(Complaint_Type_Borough.iteritems()): # this loop is iterating through every row in the dataframe. Dataframe is just a dictionary with key value pair.. Enumerate exposes the loop index \n",
    "    ax = axes[int(i/col_number), i%col_number]\n",
    "    col = col.sort_values(ascending=True)[:5]\n",
    "    col.plot(kind='barh', ax=ax)\n",
    "    ax.set_title(label)\n",
    "    \n",
    "plt.tight_layout()\n",
    "plt.savefig('figures/request_closing_time_burough.png',bbox_inches=\"tight\")"
   ]
  },
  {
   "cell_type": "code",
   "execution_count": null,
   "id": "864fc0b7",
   "metadata": {},
   "outputs": [],
   "source": [
    "df_subset.groupby(['Complaint Type','Borough'])[['Request_Closing_Time (mins)']].mean().unstack()"
   ]
  },
  {
   "cell_type": "code",
   "execution_count": null,
   "id": "e884fa3e",
   "metadata": {},
   "outputs": [],
   "source": [
    "pivot"
   ]
  }
 ],
 "metadata": {
  "kernelspec": {
   "display_name": "Python 3",
   "language": "python",
   "name": "python3"
  },
  "language_info": {
   "codemirror_mode": {
    "name": "ipython",
    "version": 3
   },
   "file_extension": ".py",
   "mimetype": "text/x-python",
   "name": "python",
   "nbconvert_exporter": "python",
   "pygments_lexer": "ipython3",
   "version": "3.8.10"
  }
 },
 "nbformat": 4,
 "nbformat_minor": 5
}
