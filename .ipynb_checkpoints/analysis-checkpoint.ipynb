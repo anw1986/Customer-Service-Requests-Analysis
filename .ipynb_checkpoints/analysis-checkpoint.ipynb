{
 "cells": [
  {
   "cell_type": "markdown",
   "metadata": {},
   "source": [
    "# NYC311 - Customer Service Requests Analysis"
   ]
  },
  {
   "cell_type": "markdown",
   "metadata": {},
   "source": [
    "## DESCRIPTION\n",
    "\n",
    "**Background of Problem Statement :**\n",
    "\n",
    "NYC 311's mission is to provide the public with quick and easy access to all New York City government services and information while offering the best customer service. Each day, NYC311 receives thousands of requests related to several hundred types of non-emergency services, including noise complaints, plumbing issues, and illegally parked cars. These requests are received by NYC311 and forwarded to the relevant agencies such as the police, buildings, or transportation. The agency responds to the request, addresses it, and then closes it.\n",
    "\n",
    "**Problem Objective :**\n",
    "\n",
    "Perform a service request data analysis of New York City 311 calls. You will focus on the data wrangling techniques to understand the pattern in the data and also visualize the major complaint types.\n",
    "Domain: Customer Service\n",
    "\n",
    "**Analysis Tasks to be performed:**\n",
    "\n",
    "(Perform a service request data analysis of New York City 311 calls) \n",
    "\n",
    "Import a 311 NYC service request.\n",
    "Read or convert the columns ‘Created Date’ and Closed Date’ to datetime datatype and create a new column ‘Request_Closing_Time’ as the time elapsed between request creation and request closing. (Hint: Explore the package/module datetime)\n",
    "Provide major insights/patterns that you can offer in a visual format (graphs or tables); at least 4 major conclusions that you can come up with after generic data mining.\n",
    "Order the complaint types based on the average ‘Request_Closing_Time’, grouping them for different locations.\n",
    "Perform a statistical test for the following:"
   ]
  },
  {
   "cell_type": "code",
   "execution_count": 1,
   "metadata": {},
   "outputs": [],
   "source": [
    "#import library\n",
    "import pandas as pd\n",
    "import numpy as np\n",
    "import seaborn as sns\n",
    "import matplotlib.pyplot as plt"
   ]
  },
  {
   "cell_type": "code",
   "execution_count": 2,
   "metadata": {},
   "outputs": [
    {
     "name": "stderr",
     "output_type": "stream",
     "text": [
      "C:\\Users\\anw_1\\anaconda3\\lib\\site-packages\\IPython\\core\\interactiveshell.py:3146: DtypeWarning: Columns (48,49) have mixed types.Specify dtype option on import or set low_memory=False.\n",
      "  has_raised = await self.run_ast_nodes(code_ast.body, cell_name,\n"
     ]
    },
    {
     "data": {
      "text/html": [
       "<div>\n",
       "<style scoped>\n",
       "    .dataframe tbody tr th:only-of-type {\n",
       "        vertical-align: middle;\n",
       "    }\n",
       "\n",
       "    .dataframe tbody tr th {\n",
       "        vertical-align: top;\n",
       "    }\n",
       "\n",
       "    .dataframe thead th {\n",
       "        text-align: right;\n",
       "    }\n",
       "</style>\n",
       "<table border=\"1\" class=\"dataframe\">\n",
       "  <thead>\n",
       "    <tr style=\"text-align: right;\">\n",
       "      <th></th>\n",
       "      <th>Unique Key</th>\n",
       "      <th>Created Date</th>\n",
       "      <th>Closed Date</th>\n",
       "      <th>Agency</th>\n",
       "      <th>Agency Name</th>\n",
       "      <th>Complaint Type</th>\n",
       "      <th>Descriptor</th>\n",
       "      <th>Location Type</th>\n",
       "      <th>Incident Zip</th>\n",
       "      <th>Incident Address</th>\n",
       "      <th>...</th>\n",
       "      <th>Bridge Highway Name</th>\n",
       "      <th>Bridge Highway Direction</th>\n",
       "      <th>Road Ramp</th>\n",
       "      <th>Bridge Highway Segment</th>\n",
       "      <th>Garage Lot Name</th>\n",
       "      <th>Ferry Direction</th>\n",
       "      <th>Ferry Terminal Name</th>\n",
       "      <th>Latitude</th>\n",
       "      <th>Longitude</th>\n",
       "      <th>Location</th>\n",
       "    </tr>\n",
       "  </thead>\n",
       "  <tbody>\n",
       "    <tr>\n",
       "      <th>0</th>\n",
       "      <td>32310363</td>\n",
       "      <td>12/31/2015 11:59:45 PM</td>\n",
       "      <td>01-01-16 0:55</td>\n",
       "      <td>NYPD</td>\n",
       "      <td>New York City Police Department</td>\n",
       "      <td>Noise - Street/Sidewalk</td>\n",
       "      <td>Loud Music/Party</td>\n",
       "      <td>Street/Sidewalk</td>\n",
       "      <td>10034.0</td>\n",
       "      <td>71 VERMILYEA AVENUE</td>\n",
       "      <td>...</td>\n",
       "      <td>NaN</td>\n",
       "      <td>NaN</td>\n",
       "      <td>NaN</td>\n",
       "      <td>NaN</td>\n",
       "      <td>NaN</td>\n",
       "      <td>NaN</td>\n",
       "      <td>NaN</td>\n",
       "      <td>40.865682</td>\n",
       "      <td>-73.923501</td>\n",
       "      <td>(40.86568153633767, -73.92350095571744)</td>\n",
       "    </tr>\n",
       "    <tr>\n",
       "      <th>1</th>\n",
       "      <td>32309934</td>\n",
       "      <td>12/31/2015 11:59:44 PM</td>\n",
       "      <td>01-01-16 1:26</td>\n",
       "      <td>NYPD</td>\n",
       "      <td>New York City Police Department</td>\n",
       "      <td>Blocked Driveway</td>\n",
       "      <td>No Access</td>\n",
       "      <td>Street/Sidewalk</td>\n",
       "      <td>11105.0</td>\n",
       "      <td>27-07 23 AVENUE</td>\n",
       "      <td>...</td>\n",
       "      <td>NaN</td>\n",
       "      <td>NaN</td>\n",
       "      <td>NaN</td>\n",
       "      <td>NaN</td>\n",
       "      <td>NaN</td>\n",
       "      <td>NaN</td>\n",
       "      <td>NaN</td>\n",
       "      <td>40.775945</td>\n",
       "      <td>-73.915094</td>\n",
       "      <td>(40.775945312321085, -73.91509393898605)</td>\n",
       "    </tr>\n",
       "    <tr>\n",
       "      <th>2</th>\n",
       "      <td>32309159</td>\n",
       "      <td>12/31/2015 11:59:29 PM</td>\n",
       "      <td>01-01-16 4:51</td>\n",
       "      <td>NYPD</td>\n",
       "      <td>New York City Police Department</td>\n",
       "      <td>Blocked Driveway</td>\n",
       "      <td>No Access</td>\n",
       "      <td>Street/Sidewalk</td>\n",
       "      <td>10458.0</td>\n",
       "      <td>2897 VALENTINE AVENUE</td>\n",
       "      <td>...</td>\n",
       "      <td>NaN</td>\n",
       "      <td>NaN</td>\n",
       "      <td>NaN</td>\n",
       "      <td>NaN</td>\n",
       "      <td>NaN</td>\n",
       "      <td>NaN</td>\n",
       "      <td>NaN</td>\n",
       "      <td>40.870325</td>\n",
       "      <td>-73.888525</td>\n",
       "      <td>(40.870324522111424, -73.88852464418646)</td>\n",
       "    </tr>\n",
       "    <tr>\n",
       "      <th>3</th>\n",
       "      <td>32305098</td>\n",
       "      <td>12/31/2015 11:57:46 PM</td>\n",
       "      <td>01-01-16 7:43</td>\n",
       "      <td>NYPD</td>\n",
       "      <td>New York City Police Department</td>\n",
       "      <td>Illegal Parking</td>\n",
       "      <td>Commercial Overnight Parking</td>\n",
       "      <td>Street/Sidewalk</td>\n",
       "      <td>10461.0</td>\n",
       "      <td>2940 BAISLEY AVENUE</td>\n",
       "      <td>...</td>\n",
       "      <td>NaN</td>\n",
       "      <td>NaN</td>\n",
       "      <td>NaN</td>\n",
       "      <td>NaN</td>\n",
       "      <td>NaN</td>\n",
       "      <td>NaN</td>\n",
       "      <td>NaN</td>\n",
       "      <td>40.835994</td>\n",
       "      <td>-73.828379</td>\n",
       "      <td>(40.83599404683083, -73.82837939584206)</td>\n",
       "    </tr>\n",
       "    <tr>\n",
       "      <th>4</th>\n",
       "      <td>32306529</td>\n",
       "      <td>12/31/2015 11:56:58 PM</td>\n",
       "      <td>01-01-16 3:24</td>\n",
       "      <td>NYPD</td>\n",
       "      <td>New York City Police Department</td>\n",
       "      <td>Illegal Parking</td>\n",
       "      <td>Blocked Sidewalk</td>\n",
       "      <td>Street/Sidewalk</td>\n",
       "      <td>11373.0</td>\n",
       "      <td>87-14 57 ROAD</td>\n",
       "      <td>...</td>\n",
       "      <td>NaN</td>\n",
       "      <td>NaN</td>\n",
       "      <td>NaN</td>\n",
       "      <td>NaN</td>\n",
       "      <td>NaN</td>\n",
       "      <td>NaN</td>\n",
       "      <td>NaN</td>\n",
       "      <td>40.733060</td>\n",
       "      <td>-73.874170</td>\n",
       "      <td>(40.733059618956815, -73.87416975810375)</td>\n",
       "    </tr>\n",
       "  </tbody>\n",
       "</table>\n",
       "<p>5 rows × 53 columns</p>\n",
       "</div>"
      ],
      "text/plain": [
       "   Unique Key            Created Date    Closed Date Agency  \\\n",
       "0    32310363  12/31/2015 11:59:45 PM  01-01-16 0:55   NYPD   \n",
       "1    32309934  12/31/2015 11:59:44 PM  01-01-16 1:26   NYPD   \n",
       "2    32309159  12/31/2015 11:59:29 PM  01-01-16 4:51   NYPD   \n",
       "3    32305098  12/31/2015 11:57:46 PM  01-01-16 7:43   NYPD   \n",
       "4    32306529  12/31/2015 11:56:58 PM  01-01-16 3:24   NYPD   \n",
       "\n",
       "                       Agency Name           Complaint Type  \\\n",
       "0  New York City Police Department  Noise - Street/Sidewalk   \n",
       "1  New York City Police Department         Blocked Driveway   \n",
       "2  New York City Police Department         Blocked Driveway   \n",
       "3  New York City Police Department          Illegal Parking   \n",
       "4  New York City Police Department          Illegal Parking   \n",
       "\n",
       "                     Descriptor    Location Type  Incident Zip  \\\n",
       "0              Loud Music/Party  Street/Sidewalk       10034.0   \n",
       "1                     No Access  Street/Sidewalk       11105.0   \n",
       "2                     No Access  Street/Sidewalk       10458.0   \n",
       "3  Commercial Overnight Parking  Street/Sidewalk       10461.0   \n",
       "4              Blocked Sidewalk  Street/Sidewalk       11373.0   \n",
       "\n",
       "        Incident Address  ... Bridge Highway Name Bridge Highway Direction  \\\n",
       "0    71 VERMILYEA AVENUE  ...                 NaN                      NaN   \n",
       "1        27-07 23 AVENUE  ...                 NaN                      NaN   \n",
       "2  2897 VALENTINE AVENUE  ...                 NaN                      NaN   \n",
       "3    2940 BAISLEY AVENUE  ...                 NaN                      NaN   \n",
       "4          87-14 57 ROAD  ...                 NaN                      NaN   \n",
       "\n",
       "  Road Ramp Bridge Highway Segment Garage Lot Name Ferry Direction  \\\n",
       "0       NaN                    NaN             NaN             NaN   \n",
       "1       NaN                    NaN             NaN             NaN   \n",
       "2       NaN                    NaN             NaN             NaN   \n",
       "3       NaN                    NaN             NaN             NaN   \n",
       "4       NaN                    NaN             NaN             NaN   \n",
       "\n",
       "  Ferry Terminal Name   Latitude  Longitude  \\\n",
       "0                 NaN  40.865682 -73.923501   \n",
       "1                 NaN  40.775945 -73.915094   \n",
       "2                 NaN  40.870325 -73.888525   \n",
       "3                 NaN  40.835994 -73.828379   \n",
       "4                 NaN  40.733060 -73.874170   \n",
       "\n",
       "                                   Location  \n",
       "0   (40.86568153633767, -73.92350095571744)  \n",
       "1  (40.775945312321085, -73.91509393898605)  \n",
       "2  (40.870324522111424, -73.88852464418646)  \n",
       "3   (40.83599404683083, -73.82837939584206)  \n",
       "4  (40.733059618956815, -73.87416975810375)  \n",
       "\n",
       "[5 rows x 53 columns]"
      ]
     },
     "execution_count": 2,
     "metadata": {},
     "output_type": "execute_result"
    }
   ],
   "source": [
    "#read csv file\n",
    "df=pd.read_csv('s3://simplilearn-project/311_Service_Requests_from_2010_to_Present.csv')\n",
    "df.head()"
   ]
  },
  {
   "cell_type": "code",
   "execution_count": 3,
   "metadata": {},
   "outputs": [
    {
     "data": {
      "text/plain": [
       "(300698, 53)"
      ]
     },
     "execution_count": 3,
     "metadata": {},
     "output_type": "execute_result"
    }
   ],
   "source": [
    "#determine the number of rows and columns\n",
    "df.shape"
   ]
  },
  {
   "cell_type": "code",
   "execution_count": 4,
   "metadata": {},
   "outputs": [
    {
     "data": {
      "text/html": [
       "<div>\n",
       "<style scoped>\n",
       "    .dataframe tbody tr th:only-of-type {\n",
       "        vertical-align: middle;\n",
       "    }\n",
       "\n",
       "    .dataframe tbody tr th {\n",
       "        vertical-align: top;\n",
       "    }\n",
       "\n",
       "    .dataframe thead th {\n",
       "        text-align: right;\n",
       "    }\n",
       "</style>\n",
       "<table border=\"1\" class=\"dataframe\">\n",
       "  <thead>\n",
       "    <tr style=\"text-align: right;\">\n",
       "      <th></th>\n",
       "      <th>Unique Key</th>\n",
       "      <th>Incident Zip</th>\n",
       "      <th>X Coordinate (State Plane)</th>\n",
       "      <th>Y Coordinate (State Plane)</th>\n",
       "      <th>School or Citywide Complaint</th>\n",
       "      <th>Vehicle Type</th>\n",
       "      <th>Taxi Company Borough</th>\n",
       "      <th>Taxi Pick Up Location</th>\n",
       "      <th>Garage Lot Name</th>\n",
       "      <th>Latitude</th>\n",
       "      <th>Longitude</th>\n",
       "    </tr>\n",
       "  </thead>\n",
       "  <tbody>\n",
       "    <tr>\n",
       "      <th>count</th>\n",
       "      <td>3.006980e+05</td>\n",
       "      <td>298083.000000</td>\n",
       "      <td>2.971580e+05</td>\n",
       "      <td>297158.000000</td>\n",
       "      <td>0.0</td>\n",
       "      <td>0.0</td>\n",
       "      <td>0.0</td>\n",
       "      <td>0.0</td>\n",
       "      <td>0.0</td>\n",
       "      <td>297158.000000</td>\n",
       "      <td>297158.000000</td>\n",
       "    </tr>\n",
       "    <tr>\n",
       "      <th>mean</th>\n",
       "      <td>3.130054e+07</td>\n",
       "      <td>10848.888645</td>\n",
       "      <td>1.004854e+06</td>\n",
       "      <td>203754.534416</td>\n",
       "      <td>NaN</td>\n",
       "      <td>NaN</td>\n",
       "      <td>NaN</td>\n",
       "      <td>NaN</td>\n",
       "      <td>NaN</td>\n",
       "      <td>40.725885</td>\n",
       "      <td>-73.925630</td>\n",
       "    </tr>\n",
       "    <tr>\n",
       "      <th>std</th>\n",
       "      <td>5.738547e+05</td>\n",
       "      <td>583.182081</td>\n",
       "      <td>2.175338e+04</td>\n",
       "      <td>29880.183529</td>\n",
       "      <td>NaN</td>\n",
       "      <td>NaN</td>\n",
       "      <td>NaN</td>\n",
       "      <td>NaN</td>\n",
       "      <td>NaN</td>\n",
       "      <td>0.082012</td>\n",
       "      <td>0.078454</td>\n",
       "    </tr>\n",
       "    <tr>\n",
       "      <th>min</th>\n",
       "      <td>3.027948e+07</td>\n",
       "      <td>83.000000</td>\n",
       "      <td>9.133570e+05</td>\n",
       "      <td>121219.000000</td>\n",
       "      <td>NaN</td>\n",
       "      <td>NaN</td>\n",
       "      <td>NaN</td>\n",
       "      <td>NaN</td>\n",
       "      <td>NaN</td>\n",
       "      <td>40.499135</td>\n",
       "      <td>-74.254937</td>\n",
       "    </tr>\n",
       "    <tr>\n",
       "      <th>25%</th>\n",
       "      <td>3.080118e+07</td>\n",
       "      <td>10310.000000</td>\n",
       "      <td>9.919752e+05</td>\n",
       "      <td>183343.000000</td>\n",
       "      <td>NaN</td>\n",
       "      <td>NaN</td>\n",
       "      <td>NaN</td>\n",
       "      <td>NaN</td>\n",
       "      <td>NaN</td>\n",
       "      <td>40.669796</td>\n",
       "      <td>-73.972142</td>\n",
       "    </tr>\n",
       "    <tr>\n",
       "      <th>50%</th>\n",
       "      <td>3.130436e+07</td>\n",
       "      <td>11208.000000</td>\n",
       "      <td>1.003158e+06</td>\n",
       "      <td>201110.500000</td>\n",
       "      <td>NaN</td>\n",
       "      <td>NaN</td>\n",
       "      <td>NaN</td>\n",
       "      <td>NaN</td>\n",
       "      <td>NaN</td>\n",
       "      <td>40.718661</td>\n",
       "      <td>-73.931781</td>\n",
       "    </tr>\n",
       "    <tr>\n",
       "      <th>75%</th>\n",
       "      <td>3.178446e+07</td>\n",
       "      <td>11238.000000</td>\n",
       "      <td>1.018372e+06</td>\n",
       "      <td>224125.250000</td>\n",
       "      <td>NaN</td>\n",
       "      <td>NaN</td>\n",
       "      <td>NaN</td>\n",
       "      <td>NaN</td>\n",
       "      <td>NaN</td>\n",
       "      <td>40.781840</td>\n",
       "      <td>-73.876805</td>\n",
       "    </tr>\n",
       "    <tr>\n",
       "      <th>max</th>\n",
       "      <td>3.231065e+07</td>\n",
       "      <td>11697.000000</td>\n",
       "      <td>1.067173e+06</td>\n",
       "      <td>271876.000000</td>\n",
       "      <td>NaN</td>\n",
       "      <td>NaN</td>\n",
       "      <td>NaN</td>\n",
       "      <td>NaN</td>\n",
       "      <td>NaN</td>\n",
       "      <td>40.912869</td>\n",
       "      <td>-73.700760</td>\n",
       "    </tr>\n",
       "  </tbody>\n",
       "</table>\n",
       "</div>"
      ],
      "text/plain": [
       "         Unique Key   Incident Zip  X Coordinate (State Plane)  \\\n",
       "count  3.006980e+05  298083.000000                2.971580e+05   \n",
       "mean   3.130054e+07   10848.888645                1.004854e+06   \n",
       "std    5.738547e+05     583.182081                2.175338e+04   \n",
       "min    3.027948e+07      83.000000                9.133570e+05   \n",
       "25%    3.080118e+07   10310.000000                9.919752e+05   \n",
       "50%    3.130436e+07   11208.000000                1.003158e+06   \n",
       "75%    3.178446e+07   11238.000000                1.018372e+06   \n",
       "max    3.231065e+07   11697.000000                1.067173e+06   \n",
       "\n",
       "       Y Coordinate (State Plane)  School or Citywide Complaint  Vehicle Type  \\\n",
       "count               297158.000000                           0.0           0.0   \n",
       "mean                203754.534416                           NaN           NaN   \n",
       "std                  29880.183529                           NaN           NaN   \n",
       "min                 121219.000000                           NaN           NaN   \n",
       "25%                 183343.000000                           NaN           NaN   \n",
       "50%                 201110.500000                           NaN           NaN   \n",
       "75%                 224125.250000                           NaN           NaN   \n",
       "max                 271876.000000                           NaN           NaN   \n",
       "\n",
       "       Taxi Company Borough  Taxi Pick Up Location  Garage Lot Name  \\\n",
       "count                   0.0                    0.0              0.0   \n",
       "mean                    NaN                    NaN              NaN   \n",
       "std                     NaN                    NaN              NaN   \n",
       "min                     NaN                    NaN              NaN   \n",
       "25%                     NaN                    NaN              NaN   \n",
       "50%                     NaN                    NaN              NaN   \n",
       "75%                     NaN                    NaN              NaN   \n",
       "max                     NaN                    NaN              NaN   \n",
       "\n",
       "            Latitude      Longitude  \n",
       "count  297158.000000  297158.000000  \n",
       "mean       40.725885     -73.925630  \n",
       "std         0.082012       0.078454  \n",
       "min        40.499135     -74.254937  \n",
       "25%        40.669796     -73.972142  \n",
       "50%        40.718661     -73.931781  \n",
       "75%        40.781840     -73.876805  \n",
       "max        40.912869     -73.700760  "
      ]
     },
     "execution_count": 4,
     "metadata": {},
     "output_type": "execute_result"
    }
   ],
   "source": [
    "df.describe()"
   ]
  },
  {
   "cell_type": "code",
   "execution_count": 4,
   "metadata": {},
   "outputs": [
    {
     "name": "stdout",
     "output_type": "stream",
     "text": [
      "<class 'pandas.core.frame.DataFrame'>\n",
      "RangeIndex: 300698 entries, 0 to 300697\n",
      "Data columns (total 53 columns):\n",
      " #   Column                          Non-Null Count   Dtype  \n",
      "---  ------                          --------------   -----  \n",
      " 0   Unique Key                      300698 non-null  int64  \n",
      " 1   Created Date                    300698 non-null  object \n",
      " 2   Closed Date                     298534 non-null  object \n",
      " 3   Agency                          300698 non-null  object \n",
      " 4   Agency Name                     300698 non-null  object \n",
      " 5   Complaint Type                  300698 non-null  object \n",
      " 6   Descriptor                      294784 non-null  object \n",
      " 7   Location Type                   300567 non-null  object \n",
      " 8   Incident Zip                    298083 non-null  float64\n",
      " 9   Incident Address                256288 non-null  object \n",
      " 10  Street Name                     256288 non-null  object \n",
      " 11  Cross Street 1                  251419 non-null  object \n",
      " 12  Cross Street 2                  250919 non-null  object \n",
      " 13  Intersection Street 1           43858 non-null   object \n",
      " 14  Intersection Street 2           43362 non-null   object \n",
      " 15  Address Type                    297883 non-null  object \n",
      " 16  City                            298084 non-null  object \n",
      " 17  Landmark                        349 non-null     object \n",
      " 18  Facility Type                   298527 non-null  object \n",
      " 19  Status                          300698 non-null  object \n",
      " 20  Due Date                        300695 non-null  object \n",
      " 21  Resolution Description          300698 non-null  object \n",
      " 22  Resolution Action Updated Date  298511 non-null  object \n",
      " 23  Community Board                 300698 non-null  object \n",
      " 24  Borough                         300698 non-null  object \n",
      " 25  X Coordinate (State Plane)      297158 non-null  float64\n",
      " 26  Y Coordinate (State Plane)      297158 non-null  float64\n",
      " 27  Park Facility Name              300698 non-null  object \n",
      " 28  Park Borough                    300698 non-null  object \n",
      " 29  School Name                     300698 non-null  object \n",
      " 30  School Number                   300698 non-null  object \n",
      " 31  School Region                   300697 non-null  object \n",
      " 32  School Code                     300697 non-null  object \n",
      " 33  School Phone Number             300698 non-null  object \n",
      " 34  School Address                  300698 non-null  object \n",
      " 35  School City                     300698 non-null  object \n",
      " 36  School State                    300698 non-null  object \n",
      " 37  School Zip                      300697 non-null  object \n",
      " 38  School Not Found                300698 non-null  object \n",
      " 39  School or Citywide Complaint    0 non-null       float64\n",
      " 40  Vehicle Type                    0 non-null       float64\n",
      " 41  Taxi Company Borough            0 non-null       float64\n",
      " 42  Taxi Pick Up Location           0 non-null       float64\n",
      " 43  Bridge Highway Name             243 non-null     object \n",
      " 44  Bridge Highway Direction        243 non-null     object \n",
      " 45  Road Ramp                       213 non-null     object \n",
      " 46  Bridge Highway Segment          213 non-null     object \n",
      " 47  Garage Lot Name                 0 non-null       float64\n",
      " 48  Ferry Direction                 1 non-null       object \n",
      " 49  Ferry Terminal Name             2 non-null       object \n",
      " 50  Latitude                        297158 non-null  float64\n",
      " 51  Longitude                       297158 non-null  float64\n",
      " 52  Location                        297158 non-null  object \n",
      "dtypes: float64(10), int64(1), object(42)\n",
      "memory usage: 121.6+ MB\n"
     ]
    }
   ],
   "source": [
    "df.info()"
   ]
  },
  {
   "cell_type": "code",
   "execution_count": 6,
   "metadata": {},
   "outputs": [
    {
     "data": {
      "text/plain": [
       "Unique Key                        False\n",
       "Created Date                      False\n",
       "Closed Date                        True\n",
       "Agency                            False\n",
       "Agency Name                       False\n",
       "Complaint Type                    False\n",
       "Descriptor                         True\n",
       "Location Type                      True\n",
       "Incident Zip                       True\n",
       "Incident Address                   True\n",
       "Street Name                        True\n",
       "Cross Street 1                     True\n",
       "Cross Street 2                     True\n",
       "Intersection Street 1              True\n",
       "Intersection Street 2              True\n",
       "Address Type                       True\n",
       "City                               True\n",
       "Landmark                           True\n",
       "Facility Type                      True\n",
       "Status                            False\n",
       "Due Date                           True\n",
       "Resolution Description            False\n",
       "Resolution Action Updated Date     True\n",
       "Community Board                   False\n",
       "Borough                           False\n",
       "X Coordinate (State Plane)         True\n",
       "Y Coordinate (State Plane)         True\n",
       "Park Facility Name                False\n",
       "Park Borough                      False\n",
       "School Name                       False\n",
       "School Number                     False\n",
       "School Region                      True\n",
       "School Code                        True\n",
       "School Phone Number               False\n",
       "School Address                    False\n",
       "School City                       False\n",
       "School State                      False\n",
       "School Zip                         True\n",
       "School Not Found                  False\n",
       "School or Citywide Complaint       True\n",
       "Vehicle Type                       True\n",
       "Taxi Company Borough               True\n",
       "Taxi Pick Up Location              True\n",
       "Bridge Highway Name                True\n",
       "Bridge Highway Direction           True\n",
       "Road Ramp                          True\n",
       "Bridge Highway Segment             True\n",
       "Garage Lot Name                    True\n",
       "Ferry Direction                    True\n",
       "Ferry Terminal Name                True\n",
       "Latitude                           True\n",
       "Longitude                          True\n",
       "Location                           True\n",
       "dtype: bool"
      ]
     },
     "execution_count": 6,
     "metadata": {},
     "output_type": "execute_result"
    }
   ],
   "source": [
    "#determine if there are missing values\n",
    "df.isna().any()"
   ]
  },
  {
   "cell_type": "code",
   "execution_count": 7,
   "metadata": {},
   "outputs": [
    {
     "data": {
      "text/plain": [
       "Unique Key                             0\n",
       "Created Date                           0\n",
       "Closed Date                         2164\n",
       "Agency                                 0\n",
       "Agency Name                            0\n",
       "Complaint Type                         0\n",
       "Descriptor                          5914\n",
       "Location Type                        131\n",
       "Incident Zip                        2615\n",
       "Incident Address                   44410\n",
       "Street Name                        44410\n",
       "Cross Street 1                     49279\n",
       "Cross Street 2                     49779\n",
       "Intersection Street 1             256840\n",
       "Intersection Street 2             257336\n",
       "Address Type                        2815\n",
       "City                                2614\n",
       "Landmark                          300349\n",
       "Facility Type                       2171\n",
       "Status                                 0\n",
       "Due Date                               3\n",
       "Resolution Description                 0\n",
       "Resolution Action Updated Date      2187\n",
       "Community Board                        0\n",
       "Borough                                0\n",
       "X Coordinate (State Plane)          3540\n",
       "Y Coordinate (State Plane)          3540\n",
       "Park Facility Name                     0\n",
       "Park Borough                           0\n",
       "School Name                            0\n",
       "School Number                          0\n",
       "School Region                          1\n",
       "School Code                            1\n",
       "School Phone Number                    0\n",
       "School Address                         0\n",
       "School City                            0\n",
       "School State                           0\n",
       "School Zip                             1\n",
       "School Not Found                       0\n",
       "School or Citywide Complaint      300698\n",
       "Vehicle Type                      300698\n",
       "Taxi Company Borough              300698\n",
       "Taxi Pick Up Location             300698\n",
       "Bridge Highway Name               300455\n",
       "Bridge Highway Direction          300455\n",
       "Road Ramp                         300485\n",
       "Bridge Highway Segment            300485\n",
       "Garage Lot Name                   300698\n",
       "Ferry Direction                   300697\n",
       "Ferry Terminal Name               300696\n",
       "Latitude                            3540\n",
       "Longitude                           3540\n",
       "Location                            3540\n",
       "dtype: int64"
      ]
     },
     "execution_count": 7,
     "metadata": {},
     "output_type": "execute_result"
    }
   ],
   "source": [
    "df.isna().sum()"
   ]
  },
  {
   "cell_type": "markdown",
   "metadata": {},
   "source": [
    "Apply method chaining\n",
    "https://towardsdatascience.com/the-unreasonable-effectiveness-of-method-chaining-in-pandas-15c2109e3c69"
   ]
  },
  {
   "cell_type": "code",
   "execution_count": 5,
   "metadata": {},
   "outputs": [],
   "source": [
    "#drop columns with no data\n",
    "#drop column Landmark ,School or Citywide Complaint, Vehicle Type, Taxi Company Borough, \n",
    "#Taxi Pick Up Location, Bridge Highway Name, Bridge Highway Direction\n",
    "#Road Ramp Bridge Highway Segment Garage Lot Name Ferry Direction Ferry Terminal Name\n",
    "drop_columns=[\"Landmark\",\"School or Citywide Complaint\",\"Vehicle Type\",\"Taxi Company Borough\"\n",
    "             ,\"Taxi Pick Up Location\",\"Bridge Highway Name\",\"Bridge Highway Direction\",\n",
    "             \"Road Ramp\",\"Bridge Highway Segment\",\"Garage Lot Name\",\"Ferry Direction\",\n",
    "             \"Ferry Terminal Name\"]\n",
    "df_subset=df.drop(columns=drop_columns,axis=1)"
   ]
  },
  {
   "cell_type": "code",
   "execution_count": 6,
   "metadata": {},
   "outputs": [
    {
     "data": {
      "text/plain": [
       "(300698, 41)"
      ]
     },
     "execution_count": 6,
     "metadata": {},
     "output_type": "execute_result"
    }
   ],
   "source": [
    "#new shape of the dataset after dropping columns\n",
    "df_subset.shape"
   ]
  },
  {
   "cell_type": "code",
   "execution_count": 7,
   "metadata": {},
   "outputs": [
    {
     "data": {
      "text/plain": [
       "Blocked Driveway             77044\n",
       "Illegal Parking              75361\n",
       "Noise - Street/Sidewalk      48612\n",
       "Noise - Commercial           35577\n",
       "Derelict Vehicle             17718\n",
       "Noise - Vehicle              17083\n",
       "Animal Abuse                  7778\n",
       "Traffic                       4498\n",
       "Homeless Encampment           4416\n",
       "Noise - Park                  4042\n",
       "Vending                       3802\n",
       "Drinking                      1280\n",
       "Noise - House of Worship       931\n",
       "Posting Advertisement          650\n",
       "Urinating in Public            592\n",
       "Bike/Roller/Skate Chronic      427\n",
       "Panhandling                    307\n",
       "Disorderly Youth               286\n",
       "Illegal Fireworks              168\n",
       "Graffiti                       113\n",
       "Agency Issues                    6\n",
       "Squeegee                         4\n",
       "Ferry Complaint                  2\n",
       "Animal in a Park                 1\n",
       "Name: Complaint Type, dtype: int64"
      ]
     },
     "execution_count": 7,
     "metadata": {},
     "output_type": "execute_result"
    }
   ],
   "source": [
    "#number of records in each category, user value_counts\n",
    "df_subset[\"Complaint Type\"].value_counts()"
   ]
  },
  {
   "cell_type": "code",
   "execution_count": 13,
   "metadata": {},
   "outputs": [
    {
     "data": {
      "text/plain": [
       "Loud Music/Party                  61430\n",
       "No Access                         56976\n",
       "Posted Parking Sign Violation     22440\n",
       "Loud Talking                      21584\n",
       "Partial Access                    20068\n",
       "With License Plate                17718\n",
       "Blocked Hydrant                   16081\n",
       "Commercial Overnight Parking      12189\n",
       "Car/Truck Music                   11273\n",
       "Blocked Sidewalk                  11121\n",
       "Double Parked Blocking Traffic     5731\n",
       "Double Parked Blocking Vehicle     4211\n",
       "Engine Idling                      4189\n",
       "Banging/Pounding                   4165\n",
       "Neglected                          3787\n",
       "Car/Truck Horn                     3511\n",
       "Congestion/Gridlock                2761\n",
       "In Prohibited Area                 2025\n",
       "Other (complaint details)          1969\n",
       "Unlicensed                         1777\n",
       "Overnight Commercial Storage       1757\n",
       "Unauthorized Bus Layover           1367\n",
       "Truck Route Violation              1014\n",
       "In Public                           932\n",
       "Tortured                            854\n",
       "Vehicle                             590\n",
       "Chained                             535\n",
       "Detached Trailer                    464\n",
       "No Shelter                          382\n",
       "Chronic Stoplight Violation         280\n",
       "Underage - Licensed Est             271\n",
       "Chronic Speeding                    268\n",
       "In Car                              251\n",
       "Playing in Unsuitable Place         245\n",
       "Drag Racing                         175\n",
       "Loud Television                      93\n",
       "Police Report Requested              90\n",
       "After Hours - Licensed Est           77\n",
       "Building                             60\n",
       "Nuisance/Truant                      41\n",
       "Police Report Not Requested          23\n",
       "Language Access Complaint             6\n",
       "Homeless Issue                        1\n",
       "Disruptive Passenger                  1\n",
       "Animal Waste                          1\n",
       "Name: Descriptor, dtype: int64"
      ]
     },
     "execution_count": 13,
     "metadata": {},
     "output_type": "execute_result"
    }
   ],
   "source": [
    "#Descriptor\tLocation Type\n",
    "df_subset[\"Descriptor\"].value_counts()"
   ]
  },
  {
   "cell_type": "code",
   "execution_count": 14,
   "metadata": {},
   "outputs": [
    {
     "data": {
      "text/plain": [
       "Street/Sidewalk               249299\n",
       "Store/Commercial               20381\n",
       "Club/Bar/Restaurant            17360\n",
       "Residential Building/House      6960\n",
       "Park/Playground                 4773\n",
       "House of Worship                 929\n",
       "Residential Building             227\n",
       "Highway                          215\n",
       "Parking Lot                      117\n",
       "House and Store                   93\n",
       "Vacant Lot                        77\n",
       "Commercial                        62\n",
       "Roadway Tunnel                    35\n",
       "Subway Station                    34\n",
       "Bridge                             2\n",
       "Terminal                           1\n",
       "Ferry                              1\n",
       "Park                               1\n",
       "Name: Location Type, dtype: int64"
      ]
     },
     "execution_count": 14,
     "metadata": {},
     "output_type": "execute_result"
    }
   ],
   "source": [
    "df_subset[\"Location Type\"].value_counts()"
   ]
  },
  {
   "cell_type": "code",
   "execution_count": 15,
   "metadata": {},
   "outputs": [
    {
     "data": {
      "text/plain": [
       "array(['NYPD'], dtype=object)"
      ]
     },
     "execution_count": 15,
     "metadata": {},
     "output_type": "execute_result"
    }
   ],
   "source": [
    "pd.unique(df_subset[\"Agency\"])"
   ]
  },
  {
   "cell_type": "code",
   "execution_count": 16,
   "metadata": {},
   "outputs": [
    {
     "data": {
      "text/plain": [
       "array(['New York City Police Department', 'NYPD',\n",
       "       'Internal Affairs Bureau'], dtype=object)"
      ]
     },
     "execution_count": 16,
     "metadata": {},
     "output_type": "execute_result"
    }
   ],
   "source": [
    "pd.unique(df_subset[\"Agency Name\"])"
   ]
  },
  {
   "cell_type": "code",
   "execution_count": 18,
   "metadata": {},
   "outputs": [
    {
     "data": {
      "text/plain": [
       "New York City Police Department    300690\n",
       "Internal Affairs Bureau                 6\n",
       "NYPD                                    2\n",
       "Name: Agency Name, dtype: int64"
      ]
     },
     "execution_count": 18,
     "metadata": {},
     "output_type": "execute_result"
    }
   ],
   "source": [
    "df_subset[\"Agency Name\"].value_counts()"
   ]
  },
  {
   "cell_type": "code",
   "execution_count": 19,
   "metadata": {},
   "outputs": [
    {
     "data": {
      "text/plain": [
       "New York City Police Department    300692\n",
       "Internal Affairs Bureau                 6\n",
       "Name: Agency Name, dtype: int64"
      ]
     },
     "execution_count": 19,
     "metadata": {},
     "output_type": "execute_result"
    }
   ],
   "source": [
    "#find NYPD in the column and replace with New York City Police department. Using the replace() method\n",
    "#check if the replace method has worked\n",
    "df_subset[\"Agency Name\"]=df_subset[\"Agency Name\"].replace({\"NYPD\":\"New York City Police Department\"})\n",
    "df_subset[\"Agency Name\"].value_counts()"
   ]
  },
  {
   "cell_type": "code",
   "execution_count": 17,
   "metadata": {},
   "outputs": [
    {
     "data": {
      "text/plain": [
       "BROOKLYN               98307\n",
       "NEW YORK               65994\n",
       "BRONX                  40702\n",
       "STATEN ISLAND          12343\n",
       "JAMAICA                 7296\n",
       "ASTORIA                 6330\n",
       "FLUSHING                5971\n",
       "RIDGEWOOD               5163\n",
       "CORONA                  4295\n",
       "WOODSIDE                3544\n",
       "SOUTH RICHMOND HILL     2774\n",
       "OZONE PARK              2755\n",
       "EAST ELMHURST           2734\n",
       "ELMHURST                2673\n",
       "WOODHAVEN               2464\n",
       "MASPETH                 2462\n",
       "LONG ISLAND CITY        2437\n",
       "SOUTH OZONE PARK        2173\n",
       "RICHMOND HILL           1904\n",
       "FRESH MEADOWS           1899\n",
       "QUEENS VILLAGE          1814\n",
       "MIDDLE VILLAGE          1765\n",
       "JACKSON HEIGHTS         1689\n",
       "FOREST HILLS            1688\n",
       "REGO PARK               1486\n",
       "BAYSIDE                 1221\n",
       "COLLEGE POINT           1220\n",
       "FAR ROCKAWAY            1179\n",
       "WHITESTONE              1098\n",
       "HOLLIS                  1012\n",
       "HOWARD BEACH             931\n",
       "ROSEDALE                 922\n",
       "SPRINGFIELD GARDENS      883\n",
       "SAINT ALBANS             834\n",
       "KEW GARDENS              771\n",
       "ROCKAWAY PARK            745\n",
       "SUNNYSIDE                723\n",
       "Astoria                  717\n",
       "LITTLE NECK              559\n",
       "OAKLAND GARDENS          551\n",
       "CAMBRIA HEIGHTS          477\n",
       "BELLEROSE                375\n",
       "GLEN OAKS                306\n",
       "ARVERNE                  220\n",
       "FLORAL PARK              152\n",
       "Long Island City         134\n",
       "Woodside                 120\n",
       "NEW HYDE PARK             98\n",
       "CENTRAL PARK              97\n",
       "QUEENS                    32\n",
       "BREEZY POINT              30\n",
       "East Elmhurst             14\n",
       "Howard Beach               1\n",
       "Name: City, dtype: int64"
      ]
     },
     "execution_count": 17,
     "metadata": {},
     "output_type": "execute_result"
    }
   ],
   "source": [
    "df_subset[\"City\"].value_counts()"
   ]
  },
  {
   "cell_type": "code",
   "execution_count": 8,
   "metadata": {},
   "outputs": [],
   "source": [
    "#change data types of Created Date and Closed Date\n",
    "df_subset[\"Created Date\"]=pd.to_datetime(df_subset[\"Created Date\"])\n",
    "df_subset[\"Closed Date\"]=pd.to_datetime(df_subset[\"Closed Date\"])"
   ]
  },
  {
   "cell_type": "code",
   "execution_count": 9,
   "metadata": {},
   "outputs": [
    {
     "data": {
      "text/plain": [
       "Unique Key                                 int64\n",
       "Created Date                      datetime64[ns]\n",
       "Closed Date                       datetime64[ns]\n",
       "Agency                                    object\n",
       "Agency Name                               object\n",
       "Complaint Type                            object\n",
       "Descriptor                                object\n",
       "Location Type                             object\n",
       "Incident Zip                             float64\n",
       "Incident Address                          object\n",
       "Street Name                               object\n",
       "Cross Street 1                            object\n",
       "Cross Street 2                            object\n",
       "Intersection Street 1                     object\n",
       "Intersection Street 2                     object\n",
       "Address Type                              object\n",
       "City                                      object\n",
       "Facility Type                             object\n",
       "Status                                    object\n",
       "Due Date                                  object\n",
       "Resolution Description                    object\n",
       "Resolution Action Updated Date            object\n",
       "Community Board                           object\n",
       "Borough                                   object\n",
       "X Coordinate (State Plane)               float64\n",
       "Y Coordinate (State Plane)               float64\n",
       "Park Facility Name                        object\n",
       "Park Borough                              object\n",
       "School Name                               object\n",
       "School Number                             object\n",
       "School Region                             object\n",
       "School Code                               object\n",
       "School Phone Number                       object\n",
       "School Address                            object\n",
       "School City                               object\n",
       "School State                              object\n",
       "School Zip                                object\n",
       "School Not Found                          object\n",
       "Latitude                                 float64\n",
       "Longitude                                float64\n",
       "Location                                  object\n",
       "dtype: object"
      ]
     },
     "execution_count": 9,
     "metadata": {},
     "output_type": "execute_result"
    }
   ],
   "source": [
    "df_subset.dtypes"
   ]
  },
  {
   "cell_type": "code",
   "execution_count": 13,
   "metadata": {},
   "outputs": [
    {
     "data": {
      "text/plain": [
       "(Timestamp('2015-03-29 00:33:01'), Timestamp('2015-12-31 23:59:45'))"
      ]
     },
     "execution_count": 13,
     "metadata": {},
     "output_type": "execute_result"
    }
   ],
   "source": [
    "df_subset[\"Created Date\"].min(), df_subset[\"Created Date\"].max()"
   ]
  },
  {
   "cell_type": "code",
   "execution_count": 14,
   "metadata": {},
   "outputs": [
    {
     "name": "stdout",
     "output_type": "stream",
     "text": [
      "277 days 23:26:44\n"
     ]
    }
   ],
   "source": [
    "time_delta=df_subset[\"Created Date\"].max() - df_subset[\"Created Date\"].min()\n",
    "print(time_delta)"
   ]
  },
  {
   "cell_type": "code",
   "execution_count": 15,
   "metadata": {},
   "outputs": [
    {
     "data": {
      "text/html": [
       "<div>\n",
       "<style scoped>\n",
       "    .dataframe tbody tr th:only-of-type {\n",
       "        vertical-align: middle;\n",
       "    }\n",
       "\n",
       "    .dataframe tbody tr th {\n",
       "        vertical-align: top;\n",
       "    }\n",
       "\n",
       "    .dataframe thead th {\n",
       "        text-align: right;\n",
       "    }\n",
       "</style>\n",
       "<table border=\"1\" class=\"dataframe\">\n",
       "  <thead>\n",
       "    <tr style=\"text-align: right;\">\n",
       "      <th></th>\n",
       "      <th>Unique Key</th>\n",
       "      <th>Created Date</th>\n",
       "      <th>Closed Date</th>\n",
       "      <th>Agency</th>\n",
       "      <th>Agency Name</th>\n",
       "      <th>Complaint Type</th>\n",
       "      <th>Descriptor</th>\n",
       "      <th>Location Type</th>\n",
       "      <th>Incident Zip</th>\n",
       "      <th>Incident Address</th>\n",
       "      <th>...</th>\n",
       "      <th>School Phone Number</th>\n",
       "      <th>School Address</th>\n",
       "      <th>School City</th>\n",
       "      <th>School State</th>\n",
       "      <th>School Zip</th>\n",
       "      <th>School Not Found</th>\n",
       "      <th>Latitude</th>\n",
       "      <th>Longitude</th>\n",
       "      <th>Location</th>\n",
       "      <th>Request_Closing_Time</th>\n",
       "    </tr>\n",
       "  </thead>\n",
       "  <tbody>\n",
       "    <tr>\n",
       "      <th>0</th>\n",
       "      <td>32310363</td>\n",
       "      <td>2015-12-31 23:59:45</td>\n",
       "      <td>2016-01-01 00:55:00</td>\n",
       "      <td>NYPD</td>\n",
       "      <td>New York City Police Department</td>\n",
       "      <td>Noise - Street/Sidewalk</td>\n",
       "      <td>Loud Music/Party</td>\n",
       "      <td>Street/Sidewalk</td>\n",
       "      <td>10034.0</td>\n",
       "      <td>71 VERMILYEA AVENUE</td>\n",
       "      <td>...</td>\n",
       "      <td>Unspecified</td>\n",
       "      <td>Unspecified</td>\n",
       "      <td>Unspecified</td>\n",
       "      <td>Unspecified</td>\n",
       "      <td>Unspecified</td>\n",
       "      <td>N</td>\n",
       "      <td>40.865682</td>\n",
       "      <td>-73.923501</td>\n",
       "      <td>(40.86568153633767, -73.92350095571744)</td>\n",
       "      <td>0 days 00:55:15</td>\n",
       "    </tr>\n",
       "    <tr>\n",
       "      <th>1</th>\n",
       "      <td>32309934</td>\n",
       "      <td>2015-12-31 23:59:44</td>\n",
       "      <td>2016-01-01 01:26:00</td>\n",
       "      <td>NYPD</td>\n",
       "      <td>New York City Police Department</td>\n",
       "      <td>Blocked Driveway</td>\n",
       "      <td>No Access</td>\n",
       "      <td>Street/Sidewalk</td>\n",
       "      <td>11105.0</td>\n",
       "      <td>27-07 23 AVENUE</td>\n",
       "      <td>...</td>\n",
       "      <td>Unspecified</td>\n",
       "      <td>Unspecified</td>\n",
       "      <td>Unspecified</td>\n",
       "      <td>Unspecified</td>\n",
       "      <td>Unspecified</td>\n",
       "      <td>N</td>\n",
       "      <td>40.775945</td>\n",
       "      <td>-73.915094</td>\n",
       "      <td>(40.775945312321085, -73.91509393898605)</td>\n",
       "      <td>0 days 01:26:16</td>\n",
       "    </tr>\n",
       "    <tr>\n",
       "      <th>2</th>\n",
       "      <td>32309159</td>\n",
       "      <td>2015-12-31 23:59:29</td>\n",
       "      <td>2016-01-01 04:51:00</td>\n",
       "      <td>NYPD</td>\n",
       "      <td>New York City Police Department</td>\n",
       "      <td>Blocked Driveway</td>\n",
       "      <td>No Access</td>\n",
       "      <td>Street/Sidewalk</td>\n",
       "      <td>10458.0</td>\n",
       "      <td>2897 VALENTINE AVENUE</td>\n",
       "      <td>...</td>\n",
       "      <td>Unspecified</td>\n",
       "      <td>Unspecified</td>\n",
       "      <td>Unspecified</td>\n",
       "      <td>Unspecified</td>\n",
       "      <td>Unspecified</td>\n",
       "      <td>N</td>\n",
       "      <td>40.870325</td>\n",
       "      <td>-73.888525</td>\n",
       "      <td>(40.870324522111424, -73.88852464418646)</td>\n",
       "      <td>0 days 04:51:31</td>\n",
       "    </tr>\n",
       "    <tr>\n",
       "      <th>3</th>\n",
       "      <td>32305098</td>\n",
       "      <td>2015-12-31 23:57:46</td>\n",
       "      <td>2016-01-01 07:43:00</td>\n",
       "      <td>NYPD</td>\n",
       "      <td>New York City Police Department</td>\n",
       "      <td>Illegal Parking</td>\n",
       "      <td>Commercial Overnight Parking</td>\n",
       "      <td>Street/Sidewalk</td>\n",
       "      <td>10461.0</td>\n",
       "      <td>2940 BAISLEY AVENUE</td>\n",
       "      <td>...</td>\n",
       "      <td>Unspecified</td>\n",
       "      <td>Unspecified</td>\n",
       "      <td>Unspecified</td>\n",
       "      <td>Unspecified</td>\n",
       "      <td>Unspecified</td>\n",
       "      <td>N</td>\n",
       "      <td>40.835994</td>\n",
       "      <td>-73.828379</td>\n",
       "      <td>(40.83599404683083, -73.82837939584206)</td>\n",
       "      <td>0 days 07:45:14</td>\n",
       "    </tr>\n",
       "    <tr>\n",
       "      <th>4</th>\n",
       "      <td>32306529</td>\n",
       "      <td>2015-12-31 23:56:58</td>\n",
       "      <td>2016-01-01 03:24:00</td>\n",
       "      <td>NYPD</td>\n",
       "      <td>New York City Police Department</td>\n",
       "      <td>Illegal Parking</td>\n",
       "      <td>Blocked Sidewalk</td>\n",
       "      <td>Street/Sidewalk</td>\n",
       "      <td>11373.0</td>\n",
       "      <td>87-14 57 ROAD</td>\n",
       "      <td>...</td>\n",
       "      <td>Unspecified</td>\n",
       "      <td>Unspecified</td>\n",
       "      <td>Unspecified</td>\n",
       "      <td>Unspecified</td>\n",
       "      <td>Unspecified</td>\n",
       "      <td>N</td>\n",
       "      <td>40.733060</td>\n",
       "      <td>-73.874170</td>\n",
       "      <td>(40.733059618956815, -73.87416975810375)</td>\n",
       "      <td>0 days 03:27:02</td>\n",
       "    </tr>\n",
       "  </tbody>\n",
       "</table>\n",
       "<p>5 rows × 42 columns</p>\n",
       "</div>"
      ],
      "text/plain": [
       "   Unique Key        Created Date         Closed Date Agency  \\\n",
       "0    32310363 2015-12-31 23:59:45 2016-01-01 00:55:00   NYPD   \n",
       "1    32309934 2015-12-31 23:59:44 2016-01-01 01:26:00   NYPD   \n",
       "2    32309159 2015-12-31 23:59:29 2016-01-01 04:51:00   NYPD   \n",
       "3    32305098 2015-12-31 23:57:46 2016-01-01 07:43:00   NYPD   \n",
       "4    32306529 2015-12-31 23:56:58 2016-01-01 03:24:00   NYPD   \n",
       "\n",
       "                       Agency Name           Complaint Type  \\\n",
       "0  New York City Police Department  Noise - Street/Sidewalk   \n",
       "1  New York City Police Department         Blocked Driveway   \n",
       "2  New York City Police Department         Blocked Driveway   \n",
       "3  New York City Police Department          Illegal Parking   \n",
       "4  New York City Police Department          Illegal Parking   \n",
       "\n",
       "                     Descriptor    Location Type  Incident Zip  \\\n",
       "0              Loud Music/Party  Street/Sidewalk       10034.0   \n",
       "1                     No Access  Street/Sidewalk       11105.0   \n",
       "2                     No Access  Street/Sidewalk       10458.0   \n",
       "3  Commercial Overnight Parking  Street/Sidewalk       10461.0   \n",
       "4              Blocked Sidewalk  Street/Sidewalk       11373.0   \n",
       "\n",
       "        Incident Address  ... School Phone Number School Address  School City  \\\n",
       "0    71 VERMILYEA AVENUE  ...         Unspecified    Unspecified  Unspecified   \n",
       "1        27-07 23 AVENUE  ...         Unspecified    Unspecified  Unspecified   \n",
       "2  2897 VALENTINE AVENUE  ...         Unspecified    Unspecified  Unspecified   \n",
       "3    2940 BAISLEY AVENUE  ...         Unspecified    Unspecified  Unspecified   \n",
       "4          87-14 57 ROAD  ...         Unspecified    Unspecified  Unspecified   \n",
       "\n",
       "  School State   School Zip School Not Found   Latitude  Longitude  \\\n",
       "0  Unspecified  Unspecified                N  40.865682 -73.923501   \n",
       "1  Unspecified  Unspecified                N  40.775945 -73.915094   \n",
       "2  Unspecified  Unspecified                N  40.870325 -73.888525   \n",
       "3  Unspecified  Unspecified                N  40.835994 -73.828379   \n",
       "4  Unspecified  Unspecified                N  40.733060 -73.874170   \n",
       "\n",
       "                                   Location Request_Closing_Time  \n",
       "0   (40.86568153633767, -73.92350095571744)      0 days 00:55:15  \n",
       "1  (40.775945312321085, -73.91509393898605)      0 days 01:26:16  \n",
       "2  (40.870324522111424, -73.88852464418646)      0 days 04:51:31  \n",
       "3   (40.83599404683083, -73.82837939584206)      0 days 07:45:14  \n",
       "4  (40.733059618956815, -73.87416975810375)      0 days 03:27:02  \n",
       "\n",
       "[5 rows x 42 columns]"
      ]
     },
     "execution_count": 15,
     "metadata": {},
     "output_type": "execute_result"
    }
   ],
   "source": [
    "#Add column Request Closing Time\n",
    "df_subset['Request_Closing_Time']=df_subset['Closed Date']-df_subset['Created Date']\n",
    "df_subset.head()"
   ]
  },
  {
   "cell_type": "code",
   "execution_count": 23,
   "metadata": {},
   "outputs": [
    {
     "data": {
      "text/plain": [
       "Complaint Type\n",
       "Animal in a Park                     14 days 00:50:05\n",
       "Derelict Vehicle            0 days 07:21:50.902717762\n",
       "Graffiti                    0 days 07:09:04.504424778\n",
       "Agency Issues               0 days 05:15:37.166666666\n",
       "Animal Abuse                0 days 05:12:47.677780638\n",
       "Blocked Driveway            0 days 04:44:27.258638198\n",
       "Illegal Parking             0 days 04:30:04.145454301\n",
       "Panhandling                 0 days 04:22:21.963934426\n",
       "Homeless Encampment         0 days 04:21:56.052536231\n",
       "Squeegee                       0 days 04:02:44.250000\n",
       "Vending                     0 days 04:00:50.107246376\n",
       "Drinking                    0 days 03:51:42.598431372\n",
       "Bike/Roller/Skate Chronic   0 days 03:45:59.264150943\n",
       "Urinating in Public         0 days 03:37:35.991554054\n",
       "Noise - Vehicle             0 days 03:35:20.376269594\n",
       "Disorderly Youth            0 days 03:33:30.902097902\n",
       "Traffic                     0 days 03:26:55.252001779\n",
       "Noise - Street/Sidewalk     0 days 03:26:42.806681088\n",
       "Noise - Park                0 days 03:24:38.636996519\n",
       "Noise - House of Worship    0 days 03:11:35.874058127\n",
       "Noise - Commercial          0 days 03:08:49.755979232\n",
       "Illegal Fireworks           0 days 02:45:40.101190476\n",
       "Posting Advertisement       0 days 01:58:32.891975308\n",
       "Ferry Complaint                                   NaT\n",
       "Name: Request_Closing_Time, dtype: timedelta64[ns]"
      ]
     },
     "execution_count": 23,
     "metadata": {},
     "output_type": "execute_result"
    }
   ],
   "source": [
    "# Average Response Time for each complaint type\n",
    "df_subset.groupby('Complaint Type')['Request_Closing_Time'].agg(lambda x: x.mean()).sort_values(ascending=False)"
   ]
  },
  {
   "cell_type": "code",
   "execution_count": 26,
   "metadata": {},
   "outputs": [],
   "source": [
    "pd.set_option('display.max_rows',None)"
   ]
  },
  {
   "cell_type": "code",
   "execution_count": 33,
   "metadata": {},
   "outputs": [
    {
     "data": {
      "text/plain": [
       "Complaint Type             Location Type             \n",
       "Animal Abuse               Commercial                   0 days 05:20:33.967741935\n",
       "                           House and Store              0 days 05:00:47.741935483\n",
       "                           Park/Playground              0 days 03:42:08.975409836\n",
       "                           Parking Lot                  0 days 05:32:25.436363636\n",
       "                           Residential Building         0 days 04:49:05.396475770\n",
       "                           Residential Building/House   0 days 05:23:58.263924424\n",
       "                           Store/Commercial             0 days 04:16:22.109404990\n",
       "                           Street/Sidewalk              0 days 05:06:38.977734119\n",
       "                           Subway Station               0 days 03:02:08.181818181\n",
       "Animal in a Park           Park                                  14 days 00:50:05\n",
       "Bike/Roller/Skate Chronic  Residential Building/House      0 days 03:36:40.680000\n",
       "                           Store/Commercial                       0 days 03:50:24\n",
       "                           Street/Sidewalk              0 days 03:45:59.072254335\n",
       "Blocked Driveway           Street/Sidewalk              0 days 04:44:27.674677295\n",
       "Derelict Vehicle           Highway                      0 days 08:11:44.538461538\n",
       "                           Roadway Tunnel                         0 days 17:57:51\n",
       "                           Street/Sidewalk              0 days 07:21:38.166885902\n",
       "                           Vacant Lot                   0 days 07:28:26.129870129\n",
       "Disorderly Youth           Residential Building/House   0 days 03:51:16.116883116\n",
       "                           Store/Commercial                0 days 02:50:22.125000\n",
       "                           Street/Sidewalk              0 days 03:28:25.870646766\n",
       "Drinking                   Club/Bar/Restaurant          0 days 04:32:44.923287671\n",
       "                           Park/Playground              0 days 03:26:28.785714285\n",
       "                           Residential Building/House   0 days 03:40:41.813148788\n",
       "                           Store/Commercial             0 days 03:15:09.344444444\n",
       "                           Street/Sidewalk              0 days 03:37:51.009259259\n",
       "Ferry Complaint            Ferry                                              NaT\n",
       "                           Terminal                                           NaT\n",
       "Graffiti                   Residential Building/House   0 days 05:52:43.678571428\n",
       "                           Store/Commercial                0 days 05:33:38.312500\n",
       "                           Street/Sidewalk                 0 days 12:02:15.080000\n",
       "Homeless Encampment        Bridge                          0 days 03:49:09.500000\n",
       "                           Highway                         0 days 03:16:16.200000\n",
       "                           Park/Playground              0 days 03:55:25.787535410\n",
       "                           Residential Building/House   0 days 04:55:26.776195320\n",
       "                           Roadway Tunnel                         0 days 02:31:05\n",
       "                           Store/Commercial             0 days 04:14:14.476562500\n",
       "                           Street/Sidewalk              0 days 04:13:47.726879181\n",
       "Illegal Fireworks          Park/Playground                        0 days 05:00:11\n",
       "                           Residential Building/House   0 days 03:05:58.969696969\n",
       "                           Store/Commercial                       0 days 01:55:27\n",
       "                           Street/Sidewalk                 0 days 02:32:29.992000\n",
       "Illegal Parking            Street/Sidewalk              0 days 04:30:02.851416835\n",
       "Noise - Commercial         Club/Bar/Restaurant          0 days 03:03:50.116976426\n",
       "                           Store/Commercial             0 days 03:13:25.207597413\n",
       "Noise - House of Worship   House of Worship             0 days 03:11:49.996763754\n",
       "Noise - Park               Park/Playground              0 days 03:24:32.394429246\n",
       "Noise - Street/Sidewalk    Street/Sidewalk              0 days 03:26:43.506813406\n",
       "Noise - Vehicle            Street/Sidewalk              0 days 03:35:20.531826189\n",
       "Panhandling                Park/Playground              0 days 01:13:07.166666666\n",
       "                           Residential Building/House             0 days 05:09:56\n",
       "                           Store/Commercial             0 days 04:20:46.833333333\n",
       "                           Street/Sidewalk              0 days 04:24:28.295964125\n",
       "Posting Advertisement      Parking Lot                  0 days 02:06:56.714285714\n",
       "                           Residential Building/House   0 days 03:36:01.833333333\n",
       "                           Store/Commercial                       0 days 02:22:09\n",
       "                           Street/Sidewalk              0 days 01:49:08.375862068\n",
       "Squeegee                   Street/Sidewalk                 0 days 04:02:44.250000\n",
       "Traffic                    Highway                      0 days 03:26:51.639784946\n",
       "                           Roadway Tunnel               0 days 02:10:37.379310344\n",
       "                           Street/Sidewalk              0 days 03:27:35.132834424\n",
       "Urinating in Public        Club/Bar/Restaurant                    0 days 07:55:12\n",
       "                           Park/Playground              0 days 02:51:44.973684210\n",
       "                           Residential Building/House   0 days 04:16:02.898550724\n",
       "                           Store/Commercial             0 days 03:26:23.075757575\n",
       "                           Street/Sidewalk              0 days 03:17:06.835443037\n",
       "                           Subway Station               0 days 01:09:07.666666666\n",
       "Vending                    Park/Playground              0 days 03:28:01.647619047\n",
       "                           Residential Building/House   0 days 04:11:49.502487562\n",
       "                           Store/Commercial             0 days 03:58:25.817129629\n",
       "                           Street/Sidewalk              0 days 04:01:36.091980360\n",
       "Name: Request_Closing_Time, dtype: timedelta64[ns]"
      ]
     },
     "execution_count": 33,
     "metadata": {},
     "output_type": "execute_result"
    }
   ],
   "source": [
    "df_subset.groupby(['Complaint Type','Location Type'])['Request_Closing_Time'].agg(lambda x: x.mean())"
   ]
  },
  {
   "cell_type": "code",
   "execution_count": null,
   "metadata": {},
   "outputs": [],
   "source": [
    "df_fillna=df_subset.fillna(\n",
    "    value={\n",
    "        'Closed Date':0\n",
    "    }\n",
    ")"
   ]
  },
  {
   "cell_type": "code",
   "execution_count": null,
   "metadata": {},
   "outputs": [],
   "source": [
    "df_fillna.agg(\n",
    "    {\n",
    "        \"Created Date\":[\"min\",\"max\"]\n",
    "        \"Closed Date\":[\"min\",\"max\"],\n",
    "    }\n",
    ")"
   ]
  },
  {
   "cell_type": "code",
   "execution_count": null,
   "metadata": {},
   "outputs": [],
   "source": [
    "df_isna_closed_date=df_subset[df_subset[\"Closed Date\"].isna()==True]\n",
    "df_isna_closed_date.head()"
   ]
  },
  {
   "cell_type": "code",
   "execution_count": null,
   "metadata": {},
   "outputs": [],
   "source": [
    "df_subset[\"Closed Date\"].isna()"
   ]
  },
  {
   "cell_type": "code",
   "execution_count": null,
   "metadata": {},
   "outputs": [],
   "source": [
    "df_isna_closed_date.agg({\n",
    "    \"Closed Date\":[\"min\",\"max\"]\n",
    "})"
   ]
  },
  {
   "cell_type": "code",
   "execution_count": null,
   "metadata": {},
   "outputs": [],
   "source": [
    "df_isna_closed_date[\"Closed Date\"].fillna(0)\n",
    "df_isna_closed_date.head()"
   ]
  },
  {
   "cell_type": "code",
   "execution_count": null,
   "metadata": {},
   "outputs": [],
   "source": [
    "df_isna_closed_date_0=df_isna_closed_date[\"Closed Date\"].fillna(0)"
   ]
  },
  {
   "cell_type": "code",
   "execution_count": null,
   "metadata": {},
   "outputs": [],
   "source": [
    "df_isna_closed_date_0.head()"
   ]
  },
  {
   "cell_type": "code",
   "execution_count": null,
   "metadata": {},
   "outputs": [],
   "source": [
    "df_fillna=df_isna_closed_date.fillna(\n",
    "    value={\n",
    "        'Closed Date':0\n",
    "    }\n",
    ")"
   ]
  },
  {
   "cell_type": "code",
   "execution_count": null,
   "metadata": {},
   "outputs": [],
   "source": [
    "df_isna_closed_date.agg({\n",
    "    \"Closed Date\":[\"min\",\"max\"]\n",
    "})"
   ]
  },
  {
   "cell_type": "code",
   "execution_count": null,
   "metadata": {},
   "outputs": [],
   "source": [
    "df_fillna.head()"
   ]
  },
  {
   "cell_type": "code",
   "execution_count": null,
   "metadata": {},
   "outputs": [],
   "source": [
    "df_fillna.agg({\n",
    "    \"Closed Date\":[\"min\",\"max\"]\n",
    "})"
   ]
  },
  {
   "cell_type": "code",
   "execution_count": 10,
   "metadata": {},
   "outputs": [
    {
     "data": {
      "text/plain": [
       "array(['Closed', 'Open', 'Assigned', 'Draft'], dtype=object)"
      ]
     },
     "execution_count": 10,
     "metadata": {},
     "output_type": "execute_result"
    }
   ],
   "source": [
    "pd.unique(df_subset['Status'])"
   ]
  },
  {
   "cell_type": "code",
   "execution_count": 12,
   "metadata": {},
   "outputs": [
    {
     "data": {
      "text/plain": [
       "Status    Complaint Type           \n",
       "Assigned  Animal Abuse                     4\n",
       "          Bike/Roller/Skate Chronic        1\n",
       "          Blocked Driveway                98\n",
       "          Derelict Vehicle                27\n",
       "          Homeless Encampment              4\n",
       "          Illegal Parking                257\n",
       "          Noise - Commercial             156\n",
       "          Noise - Park                    11\n",
       "          Noise - Street/Sidewalk        201\n",
       "          Noise - Vehicle                 20\n",
       "          Panhandling                      1\n",
       "          Posting Advertisement            1\n",
       "          Traffic                          2\n",
       "          Vending                          3\n",
       "Closed    Agency Issues                    6\n",
       "          Animal Abuse                  7766\n",
       "          Animal in a Park                 1\n",
       "          Bike/Roller/Skate Chronic      424\n",
       "          Blocked Driveway             76793\n",
       "          Derelict Vehicle             17585\n",
       "          Disorderly Youth               286\n",
       "          Drinking                      1275\n",
       "          Graffiti                       113\n",
       "          Homeless Encampment           4410\n",
       "          Illegal Fireworks              168\n",
       "          Illegal Parking              74515\n",
       "          Noise - Commercial           35245\n",
       "          Noise - House of Worship       929\n",
       "          Noise - Park                  4021\n",
       "          Noise - Street/Sidewalk      48068\n",
       "          Noise - Vehicle              17032\n",
       "          Panhandling                    305\n",
       "          Posting Advertisement          647\n",
       "          Squeegee                         4\n",
       "          Traffic                       4493\n",
       "          Urinating in Public            592\n",
       "          Vending                       3793\n",
       "Draft     Blocked Driveway                 1\n",
       "          Noise - Street/Sidewalk          1\n",
       "Open      Animal Abuse                     8\n",
       "          Bike/Roller/Skate Chronic        2\n",
       "          Blocked Driveway               152\n",
       "          Derelict Vehicle               106\n",
       "          Drinking                         5\n",
       "          Ferry Complaint                  2\n",
       "          Homeless Encampment              2\n",
       "          Illegal Parking                589\n",
       "          Noise - Commercial             176\n",
       "          Noise - House of Worship         2\n",
       "          Noise - Park                    10\n",
       "          Noise - Street/Sidewalk        342\n",
       "          Noise - Vehicle                 31\n",
       "          Panhandling                      1\n",
       "          Posting Advertisement            2\n",
       "          Traffic                          3\n",
       "          Vending                          6\n",
       "Name: Status, dtype: int64"
      ]
     },
     "execution_count": 12,
     "metadata": {},
     "output_type": "execute_result"
    }
   ],
   "source": [
    "df_subset.groupby(['Status','Complaint Type'])['Status'].count()"
   ]
  },
  {
   "cell_type": "code",
   "execution_count": null,
   "metadata": {},
   "outputs": [],
   "source": []
  },
  {
   "cell_type": "code",
   "execution_count": null,
   "metadata": {},
   "outputs": [],
   "source": []
  }
 ],
 "metadata": {
  "kernelspec": {
   "display_name": "Python 3",
   "language": "python",
   "name": "python3"
  },
  "language_info": {
   "codemirror_mode": {
    "name": "ipython",
    "version": 3
   },
   "file_extension": ".py",
   "mimetype": "text/x-python",
   "name": "python",
   "nbconvert_exporter": "python",
   "pygments_lexer": "ipython3",
   "version": "3.8.5"
  }
 },
 "nbformat": 4,
 "nbformat_minor": 5
}
