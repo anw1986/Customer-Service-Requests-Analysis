{
 "cells": [
  {
   "cell_type": "markdown",
   "id": "ef7dd260",
   "metadata": {},
   "source": [
    "# NYC311 - Customer Service Requests Analysis"
   ]
  },
  {
   "cell_type": "markdown",
   "id": "fad4890b",
   "metadata": {},
   "source": [
    "## DESCRIPTION\n",
    "\n",
    "**Background of Problem Statement :**\n",
    "\n",
    "NYC 311's mission is to provide the public with quick and easy access to all New York City government services and information while offering the best customer service. Each day, NYC311 receives thousands of requests related to several hundred types of non-emergency services, including noise complaints, plumbing issues, and illegally parked cars. These requests are received by NYC311 and forwarded to the relevant agencies such as the police, buildings, or transportation. The agency responds to the request, addresses it, and then closes it.\n",
    "\n",
    "\n"
   ]
  },
  {
   "cell_type": "code",
   "execution_count": 1,
   "id": "39e2c431",
   "metadata": {},
   "outputs": [],
   "source": [
    "#import library\n",
    "import pandas as pd\n",
    "import numpy as np\n",
    "#import seaborn as sns\n",
    "import geopandas\n",
    "import matplotlib.pyplot as plt\n",
    "import contextily as cx"
   ]
  },
  {
   "cell_type": "code",
   "execution_count": 2,
   "id": "1b7e3e2e",
   "metadata": {},
   "outputs": [
    {
     "data": {
      "text/html": [
       "<div>\n",
       "<style scoped>\n",
       "    .dataframe tbody tr th:only-of-type {\n",
       "        vertical-align: middle;\n",
       "    }\n",
       "\n",
       "    .dataframe tbody tr th {\n",
       "        vertical-align: top;\n",
       "    }\n",
       "\n",
       "    .dataframe thead th {\n",
       "        text-align: right;\n",
       "    }\n",
       "</style>\n",
       "<table border=\"1\" class=\"dataframe\">\n",
       "  <thead>\n",
       "    <tr style=\"text-align: right;\">\n",
       "      <th></th>\n",
       "      <th>BoroCode</th>\n",
       "      <th>BoroName</th>\n",
       "      <th>Shape_Leng</th>\n",
       "      <th>Shape_Area</th>\n",
       "      <th>geometry</th>\n",
       "      <th>area</th>\n",
       "    </tr>\n",
       "  </thead>\n",
       "  <tbody>\n",
       "    <tr>\n",
       "      <th>0</th>\n",
       "      <td>5</td>\n",
       "      <td>Staten Island</td>\n",
       "      <td>330470.010332</td>\n",
       "      <td>1.623820e+09</td>\n",
       "      <td>MULTIPOLYGON (((970217.022 145643.332, 970227....</td>\n",
       "      <td>1.623822e+09</td>\n",
       "    </tr>\n",
       "    <tr>\n",
       "      <th>1</th>\n",
       "      <td>4</td>\n",
       "      <td>Queens</td>\n",
       "      <td>896344.047763</td>\n",
       "      <td>3.045213e+09</td>\n",
       "      <td>MULTIPOLYGON (((1029606.077 156073.814, 102957...</td>\n",
       "      <td>3.045214e+09</td>\n",
       "    </tr>\n",
       "    <tr>\n",
       "      <th>2</th>\n",
       "      <td>3</td>\n",
       "      <td>Brooklyn</td>\n",
       "      <td>741080.523166</td>\n",
       "      <td>1.937479e+09</td>\n",
       "      <td>MULTIPOLYGON (((1021176.479 151374.797, 102100...</td>\n",
       "      <td>1.937478e+09</td>\n",
       "    </tr>\n",
       "    <tr>\n",
       "      <th>3</th>\n",
       "      <td>1</td>\n",
       "      <td>Manhattan</td>\n",
       "      <td>359299.096471</td>\n",
       "      <td>6.364715e+08</td>\n",
       "      <td>MULTIPOLYGON (((981219.056 188655.316, 980940....</td>\n",
       "      <td>6.364712e+08</td>\n",
       "    </tr>\n",
       "    <tr>\n",
       "      <th>4</th>\n",
       "      <td>2</td>\n",
       "      <td>Bronx</td>\n",
       "      <td>464392.991824</td>\n",
       "      <td>1.186925e+09</td>\n",
       "      <td>MULTIPOLYGON (((1012821.806 229228.265, 101278...</td>\n",
       "      <td>1.186926e+09</td>\n",
       "    </tr>\n",
       "  </tbody>\n",
       "</table>\n",
       "</div>"
      ],
      "text/plain": [
       "   BoroCode       BoroName     Shape_Leng    Shape_Area  \\\n",
       "0         5  Staten Island  330470.010332  1.623820e+09   \n",
       "1         4         Queens  896344.047763  3.045213e+09   \n",
       "2         3       Brooklyn  741080.523166  1.937479e+09   \n",
       "3         1      Manhattan  359299.096471  6.364715e+08   \n",
       "4         2          Bronx  464392.991824  1.186925e+09   \n",
       "\n",
       "                                            geometry          area  \n",
       "0  MULTIPOLYGON (((970217.022 145643.332, 970227....  1.623822e+09  \n",
       "1  MULTIPOLYGON (((1029606.077 156073.814, 102957...  3.045214e+09  \n",
       "2  MULTIPOLYGON (((1021176.479 151374.797, 102100...  1.937478e+09  \n",
       "3  MULTIPOLYGON (((981219.056 188655.316, 980940....  6.364712e+08  \n",
       "4  MULTIPOLYGON (((1012821.806 229228.265, 101278...  1.186926e+09  "
      ]
     },
     "execution_count": 2,
     "metadata": {},
     "output_type": "execute_result"
    }
   ],
   "source": [
    "path_to_data = geopandas.datasets.get_path(\"nybb\")\n",
    "gdf = geopandas.read_file(path_to_data)\n",
    "\n",
    "#gdf['BoroName_Upper']=gdf['BoroName'].upper()\n",
    "gdf[\"area\"] = gdf.area\n",
    "gdf"
   ]
  },
  {
   "cell_type": "code",
   "execution_count": 3,
   "id": "ba98cd6a",
   "metadata": {},
   "outputs": [
    {
     "data": {
      "text/plain": [
       "BoroCode         int64\n",
       "BoroName        object\n",
       "Shape_Leng     float64\n",
       "Shape_Area     float64\n",
       "geometry      geometry\n",
       "area           float64\n",
       "dtype: object"
      ]
     },
     "execution_count": 3,
     "metadata": {},
     "output_type": "execute_result"
    }
   ],
   "source": [
    "gdf.dtypes"
   ]
  },
  {
   "cell_type": "code",
   "execution_count": 4,
   "id": "56023afc",
   "metadata": {},
   "outputs": [
    {
     "data": {
      "text/plain": [
       "<AxesSubplot:>"
      ]
     },
     "execution_count": 4,
     "metadata": {},
     "output_type": "execute_result"
    },
    {
     "data": {
      "image/png": "[encoded data removed]",
      "text/plain": [
       "<Figure size 432x288 with 1 Axes>"
      ]
     },
     "metadata": {
      "needs_background": "light"
     },
     "output_type": "display_data"
    }
   ],
   "source": [
    "gdf.plot('area')"
   ]
  },
  {
   "cell_type": "code",
   "execution_count": 5,
   "id": "e4d6a202",
   "metadata": {},
   "outputs": [
    {
     "data": {
      "text/html": [
       "<div>\n",
       "<style scoped>\n",
       "    .dataframe tbody tr th:only-of-type {\n",
       "        vertical-align: middle;\n",
       "    }\n",
       "\n",
       "    .dataframe tbody tr th {\n",
       "        vertical-align: top;\n",
       "    }\n",
       "\n",
       "    .dataframe thead th {\n",
       "        text-align: right;\n",
       "    }\n",
       "</style>\n",
       "<table border=\"1\" class=\"dataframe\">\n",
       "  <thead>\n",
       "    <tr style=\"text-align: right;\">\n",
       "      <th></th>\n",
       "      <th>Borough</th>\n",
       "      <th>geometry</th>\n",
       "    </tr>\n",
       "  </thead>\n",
       "  <tbody>\n",
       "    <tr>\n",
       "      <th>0</th>\n",
       "      <td>STATEN ISLAND</td>\n",
       "      <td>MULTIPOLYGON (((970217.022 145643.332, 970227....</td>\n",
       "    </tr>\n",
       "    <tr>\n",
       "      <th>1</th>\n",
       "      <td>QUEENS</td>\n",
       "      <td>MULTIPOLYGON (((1029606.077 156073.814, 102957...</td>\n",
       "    </tr>\n",
       "    <tr>\n",
       "      <th>2</th>\n",
       "      <td>BROOKLYN</td>\n",
       "      <td>MULTIPOLYGON (((1021176.479 151374.797, 102100...</td>\n",
       "    </tr>\n",
       "    <tr>\n",
       "      <th>3</th>\n",
       "      <td>MANHATTAN</td>\n",
       "      <td>MULTIPOLYGON (((981219.056 188655.316, 980940....</td>\n",
       "    </tr>\n",
       "    <tr>\n",
       "      <th>4</th>\n",
       "      <td>BRONX</td>\n",
       "      <td>MULTIPOLYGON (((1012821.806 229228.265, 101278...</td>\n",
       "    </tr>\n",
       "  </tbody>\n",
       "</table>\n",
       "</div>"
      ],
      "text/plain": [
       "         Borough                                           geometry\n",
       "0  STATEN ISLAND  MULTIPOLYGON (((970217.022 145643.332, 970227....\n",
       "1         QUEENS  MULTIPOLYGON (((1029606.077 156073.814, 102957...\n",
       "2       BROOKLYN  MULTIPOLYGON (((1021176.479 151374.797, 102100...\n",
       "3      MANHATTAN  MULTIPOLYGON (((981219.056 188655.316, 980940....\n",
       "4          BRONX  MULTIPOLYGON (((1012821.806 229228.265, 101278..."
      ]
     },
     "execution_count": 5,
     "metadata": {},
     "output_type": "execute_result"
    }
   ],
   "source": [
    "#convert BoroName elements to upper case and rename column\n",
    "gdf['BoroName']=gdf['BoroName'].str.upper()\n",
    "gdf_subset=gdf[['BoroName','geometry']]\n",
    "gdf_subset_rename=gdf_subset.rename(columns={'BoroName':'Borough'})\n",
    "gdf_subset_rename"
   ]
  },
  {
   "cell_type": "code",
   "execution_count": 6,
   "id": "af824269",
   "metadata": {},
   "outputs": [
    {
     "name": "stderr",
     "output_type": "stream",
     "text": [
      "C:\\Users\\H255658\\Anaconda3\\envs\\project\\lib\\site-packages\\IPython\\core\\interactiveshell.py:3165: DtypeWarning: Columns (48,49) have mixed types.Specify dtype option on import or set low_memory=False.\n",
      "  has_raised = await self.run_ast_nodes(code_ast.body, cell_name,\n"
     ]
    },
    {
     "data": {
      "text/html": [
       "<div>\n",
       "<style scoped>\n",
       "    .dataframe tbody tr th:only-of-type {\n",
       "        vertical-align: middle;\n",
       "    }\n",
       "\n",
       "    .dataframe tbody tr th {\n",
       "        vertical-align: top;\n",
       "    }\n",
       "\n",
       "    .dataframe thead th {\n",
       "        text-align: right;\n",
       "    }\n",
       "</style>\n",
       "<table border=\"1\" class=\"dataframe\">\n",
       "  <thead>\n",
       "    <tr style=\"text-align: right;\">\n",
       "      <th></th>\n",
       "      <th>Unique Key</th>\n",
       "      <th>Created Date</th>\n",
       "      <th>Closed Date</th>\n",
       "      <th>Agency</th>\n",
       "      <th>Agency Name</th>\n",
       "      <th>Complaint Type</th>\n",
       "      <th>Descriptor</th>\n",
       "      <th>Location Type</th>\n",
       "      <th>Incident Zip</th>\n",
       "      <th>Incident Address</th>\n",
       "      <th>...</th>\n",
       "      <th>Bridge Highway Name</th>\n",
       "      <th>Bridge Highway Direction</th>\n",
       "      <th>Road Ramp</th>\n",
       "      <th>Bridge Highway Segment</th>\n",
       "      <th>Garage Lot Name</th>\n",
       "      <th>Ferry Direction</th>\n",
       "      <th>Ferry Terminal Name</th>\n",
       "      <th>Latitude</th>\n",
       "      <th>Longitude</th>\n",
       "      <th>Location</th>\n",
       "    </tr>\n",
       "  </thead>\n",
       "  <tbody>\n",
       "    <tr>\n",
       "      <th>0</th>\n",
       "      <td>32310363</td>\n",
       "      <td>12/31/2015 11:59:45 PM</td>\n",
       "      <td>01-01-16 0:55</td>\n",
       "      <td>NYPD</td>\n",
       "      <td>New York City Police Department</td>\n",
       "      <td>Noise - Street/Sidewalk</td>\n",
       "      <td>Loud Music/Party</td>\n",
       "      <td>Street/Sidewalk</td>\n",
       "      <td>10034.0</td>\n",
       "      <td>71 VERMILYEA AVENUE</td>\n",
       "      <td>...</td>\n",
       "      <td>NaN</td>\n",
       "      <td>NaN</td>\n",
       "      <td>NaN</td>\n",
       "      <td>NaN</td>\n",
       "      <td>NaN</td>\n",
       "      <td>NaN</td>\n",
       "      <td>NaN</td>\n",
       "      <td>40.865682</td>\n",
       "      <td>-73.923501</td>\n",
       "      <td>(40.86568153633767, -73.92350095571744)</td>\n",
       "    </tr>\n",
       "    <tr>\n",
       "      <th>1</th>\n",
       "      <td>32309934</td>\n",
       "      <td>12/31/2015 11:59:44 PM</td>\n",
       "      <td>01-01-16 1:26</td>\n",
       "      <td>NYPD</td>\n",
       "      <td>New York City Police Department</td>\n",
       "      <td>Blocked Driveway</td>\n",
       "      <td>No Access</td>\n",
       "      <td>Street/Sidewalk</td>\n",
       "      <td>11105.0</td>\n",
       "      <td>27-07 23 AVENUE</td>\n",
       "      <td>...</td>\n",
       "      <td>NaN</td>\n",
       "      <td>NaN</td>\n",
       "      <td>NaN</td>\n",
       "      <td>NaN</td>\n",
       "      <td>NaN</td>\n",
       "      <td>NaN</td>\n",
       "      <td>NaN</td>\n",
       "      <td>40.775945</td>\n",
       "      <td>-73.915094</td>\n",
       "      <td>(40.775945312321085, -73.91509393898605)</td>\n",
       "    </tr>\n",
       "    <tr>\n",
       "      <th>2</th>\n",
       "      <td>32309159</td>\n",
       "      <td>12/31/2015 11:59:29 PM</td>\n",
       "      <td>01-01-16 4:51</td>\n",
       "      <td>NYPD</td>\n",
       "      <td>New York City Police Department</td>\n",
       "      <td>Blocked Driveway</td>\n",
       "      <td>No Access</td>\n",
       "      <td>Street/Sidewalk</td>\n",
       "      <td>10458.0</td>\n",
       "      <td>2897 VALENTINE AVENUE</td>\n",
       "      <td>...</td>\n",
       "      <td>NaN</td>\n",
       "      <td>NaN</td>\n",
       "      <td>NaN</td>\n",
       "      <td>NaN</td>\n",
       "      <td>NaN</td>\n",
       "      <td>NaN</td>\n",
       "      <td>NaN</td>\n",
       "      <td>40.870325</td>\n",
       "      <td>-73.888525</td>\n",
       "      <td>(40.870324522111424, -73.88852464418646)</td>\n",
       "    </tr>\n",
       "    <tr>\n",
       "      <th>3</th>\n",
       "      <td>32305098</td>\n",
       "      <td>12/31/2015 11:57:46 PM</td>\n",
       "      <td>01-01-16 7:43</td>\n",
       "      <td>NYPD</td>\n",
       "      <td>New York City Police Department</td>\n",
       "      <td>Illegal Parking</td>\n",
       "      <td>Commercial Overnight Parking</td>\n",
       "      <td>Street/Sidewalk</td>\n",
       "      <td>10461.0</td>\n",
       "      <td>2940 BAISLEY AVENUE</td>\n",
       "      <td>...</td>\n",
       "      <td>NaN</td>\n",
       "      <td>NaN</td>\n",
       "      <td>NaN</td>\n",
       "      <td>NaN</td>\n",
       "      <td>NaN</td>\n",
       "      <td>NaN</td>\n",
       "      <td>NaN</td>\n",
       "      <td>40.835994</td>\n",
       "      <td>-73.828379</td>\n",
       "      <td>(40.83599404683083, -73.82837939584206)</td>\n",
       "    </tr>\n",
       "    <tr>\n",
       "      <th>4</th>\n",
       "      <td>32306529</td>\n",
       "      <td>12/31/2015 11:56:58 PM</td>\n",
       "      <td>01-01-16 3:24</td>\n",
       "      <td>NYPD</td>\n",
       "      <td>New York City Police Department</td>\n",
       "      <td>Illegal Parking</td>\n",
       "      <td>Blocked Sidewalk</td>\n",
       "      <td>Street/Sidewalk</td>\n",
       "      <td>11373.0</td>\n",
       "      <td>87-14 57 ROAD</td>\n",
       "      <td>...</td>\n",
       "      <td>NaN</td>\n",
       "      <td>NaN</td>\n",
       "      <td>NaN</td>\n",
       "      <td>NaN</td>\n",
       "      <td>NaN</td>\n",
       "      <td>NaN</td>\n",
       "      <td>NaN</td>\n",
       "      <td>40.733060</td>\n",
       "      <td>-73.874170</td>\n",
       "      <td>(40.733059618956815, -73.87416975810375)</td>\n",
       "    </tr>\n",
       "  </tbody>\n",
       "</table>\n",
       "<p>5 rows × 53 columns</p>\n",
       "</div>"
      ],
      "text/plain": [
       "   Unique Key            Created Date    Closed Date Agency  \\\n",
       "0    32310363  12/31/2015 11:59:45 PM  01-01-16 0:55   NYPD   \n",
       "1    32309934  12/31/2015 11:59:44 PM  01-01-16 1:26   NYPD   \n",
       "2    32309159  12/31/2015 11:59:29 PM  01-01-16 4:51   NYPD   \n",
       "3    32305098  12/31/2015 11:57:46 PM  01-01-16 7:43   NYPD   \n",
       "4    32306529  12/31/2015 11:56:58 PM  01-01-16 3:24   NYPD   \n",
       "\n",
       "                       Agency Name           Complaint Type  \\\n",
       "0  New York City Police Department  Noise - Street/Sidewalk   \n",
       "1  New York City Police Department         Blocked Driveway   \n",
       "2  New York City Police Department         Blocked Driveway   \n",
       "3  New York City Police Department          Illegal Parking   \n",
       "4  New York City Police Department          Illegal Parking   \n",
       "\n",
       "                     Descriptor    Location Type  Incident Zip  \\\n",
       "0              Loud Music/Party  Street/Sidewalk       10034.0   \n",
       "1                     No Access  Street/Sidewalk       11105.0   \n",
       "2                     No Access  Street/Sidewalk       10458.0   \n",
       "3  Commercial Overnight Parking  Street/Sidewalk       10461.0   \n",
       "4              Blocked Sidewalk  Street/Sidewalk       11373.0   \n",
       "\n",
       "        Incident Address  ... Bridge Highway Name Bridge Highway Direction  \\\n",
       "0    71 VERMILYEA AVENUE  ...                 NaN                      NaN   \n",
       "1        27-07 23 AVENUE  ...                 NaN                      NaN   \n",
       "2  2897 VALENTINE AVENUE  ...                 NaN                      NaN   \n",
       "3    2940 BAISLEY AVENUE  ...                 NaN                      NaN   \n",
       "4          87-14 57 ROAD  ...                 NaN                      NaN   \n",
       "\n",
       "  Road Ramp Bridge Highway Segment Garage Lot Name Ferry Direction  \\\n",
       "0       NaN                    NaN             NaN             NaN   \n",
       "1       NaN                    NaN             NaN             NaN   \n",
       "2       NaN                    NaN             NaN             NaN   \n",
       "3       NaN                    NaN             NaN             NaN   \n",
       "4       NaN                    NaN             NaN             NaN   \n",
       "\n",
       "  Ferry Terminal Name   Latitude  Longitude  \\\n",
       "0                 NaN  40.865682 -73.923501   \n",
       "1                 NaN  40.775945 -73.915094   \n",
       "2                 NaN  40.870325 -73.888525   \n",
       "3                 NaN  40.835994 -73.828379   \n",
       "4                 NaN  40.733060 -73.874170   \n",
       "\n",
       "                                   Location  \n",
       "0   (40.86568153633767, -73.92350095571744)  \n",
       "1  (40.775945312321085, -73.91509393898605)  \n",
       "2  (40.870324522111424, -73.88852464418646)  \n",
       "3   (40.83599404683083, -73.82837939584206)  \n",
       "4  (40.733059618956815, -73.87416975810375)  \n",
       "\n",
       "[5 rows x 53 columns]"
      ]
     },
     "execution_count": 6,
     "metadata": {},
     "output_type": "execute_result"
    }
   ],
   "source": [
    "#read csv file\n",
    "df=pd.read_csv('s3://simplilearn-project/311_Service_Requests_from_2010_to_Present.csv')\n",
    "df.head()"
   ]
  },
  {
   "cell_type": "code",
   "execution_count": 7,
   "id": "39bd235a",
   "metadata": {},
   "outputs": [
    {
     "data": {
      "text/plain": [
       "(300698, 53)"
      ]
     },
     "execution_count": 7,
     "metadata": {},
     "output_type": "execute_result"
    }
   ],
   "source": [
    "#determine the number of rows and columns\n",
    "df.shape"
   ]
  },
  {
   "cell_type": "code",
   "execution_count": 8,
   "id": "0957fe9c",
   "metadata": {},
   "outputs": [
    {
     "name": "stdout",
     "output_type": "stream",
     "text": [
      "<class 'pandas.core.frame.DataFrame'>\n",
      "RangeIndex: 300698 entries, 0 to 300697\n",
      "Data columns (total 54 columns):\n",
      " #   Column                          Non-Null Count   Dtype  \n",
      "---  ------                          --------------   -----  \n",
      " 0   Unique Key                      300698 non-null  int64  \n",
      " 1   Created Date                    300698 non-null  object \n",
      " 2   Closed Date                     298534 non-null  object \n",
      " 3   Agency                          300698 non-null  object \n",
      " 4   Agency Name                     300698 non-null  object \n",
      " 5   Complaint Type                  300698 non-null  object \n",
      " 6   Descriptor                      294784 non-null  object \n",
      " 7   Location Type                   300567 non-null  object \n",
      " 8   Incident Zip                    298083 non-null  float64\n",
      " 9   Incident Address                256288 non-null  object \n",
      " 10  Street Name                     256288 non-null  object \n",
      " 11  Cross Street 1                  251419 non-null  object \n",
      " 12  Cross Street 2                  250919 non-null  object \n",
      " 13  Intersection Street 1           43858 non-null   object \n",
      " 14  Intersection Street 2           43362 non-null   object \n",
      " 15  Address Type                    297883 non-null  object \n",
      " 16  City                            298084 non-null  object \n",
      " 17  Landmark                        349 non-null     object \n",
      " 18  Facility Type                   298527 non-null  object \n",
      " 19  Status                          300698 non-null  object \n",
      " 20  Due Date                        300695 non-null  object \n",
      " 21  Resolution Description          300698 non-null  object \n",
      " 22  Resolution Action Updated Date  298511 non-null  object \n",
      " 23  Community Board                 300698 non-null  object \n",
      " 24  Borough                         300698 non-null  object \n",
      " 25  X Coordinate (State Plane)      297158 non-null  float64\n",
      " 26  Y Coordinate (State Plane)      297158 non-null  float64\n",
      " 27  Park Facility Name              300698 non-null  object \n",
      " 28  Park Borough                    300698 non-null  object \n",
      " 29  School Name                     300698 non-null  object \n",
      " 30  School Number                   300698 non-null  object \n",
      " 31  School Region                   300697 non-null  object \n",
      " 32  School Code                     300697 non-null  object \n",
      " 33  School Phone Number             300698 non-null  object \n",
      " 34  School Address                  300698 non-null  object \n",
      " 35  School City                     300698 non-null  object \n",
      " 36  School State                    300698 non-null  object \n",
      " 37  School Zip                      300697 non-null  object \n",
      " 38  School Not Found                300698 non-null  object \n",
      " 39  School or Citywide Complaint    0 non-null       float64\n",
      " 40  Vehicle Type                    0 non-null       float64\n",
      " 41  Taxi Company Borough            0 non-null       float64\n",
      " 42  Taxi Pick Up Location           0 non-null       float64\n",
      " 43  Bridge Highway Name             243 non-null     object \n",
      " 44  Bridge Highway Direction        243 non-null     object \n",
      " 45  Road Ramp                       213 non-null     object \n",
      " 46  Bridge Highway Segment          213 non-null     object \n",
      " 47  Garage Lot Name                 0 non-null       float64\n",
      " 48  Ferry Direction                 1 non-null       object \n",
      " 49  Ferry Terminal Name             2 non-null       object \n",
      " 50  Latitude                        297158 non-null  float64\n",
      " 51  Longitude                       297158 non-null  float64\n",
      " 52  Location                        297158 non-null  object \n",
      " 53  count                           300698 non-null  int64  \n",
      "dtypes: float64(10), int64(2), object(42)\n",
      "memory usage: 123.9+ MB\n"
     ]
    }
   ],
   "source": [
    "df['count']=1\n",
    "df.info()"
   ]
  },
  {
   "cell_type": "code",
   "execution_count": 9,
   "id": "c66c0c29",
   "metadata": {},
   "outputs": [
    {
     "data": {
      "text/plain": [
       "Unique Key                        False\n",
       "Created Date                      False\n",
       "Closed Date                        True\n",
       "Agency                            False\n",
       "Agency Name                       False\n",
       "Complaint Type                    False\n",
       "Descriptor                         True\n",
       "Location Type                      True\n",
       "Incident Zip                       True\n",
       "Incident Address                   True\n",
       "Street Name                        True\n",
       "Cross Street 1                     True\n",
       "Cross Street 2                     True\n",
       "Intersection Street 1              True\n",
       "Intersection Street 2              True\n",
       "Address Type                       True\n",
       "City                               True\n",
       "Landmark                           True\n",
       "Facility Type                      True\n",
       "Status                            False\n",
       "Due Date                           True\n",
       "Resolution Description            False\n",
       "Resolution Action Updated Date     True\n",
       "Community Board                   False\n",
       "Borough                           False\n",
       "X Coordinate (State Plane)         True\n",
       "Y Coordinate (State Plane)         True\n",
       "Park Facility Name                False\n",
       "Park Borough                      False\n",
       "School Name                       False\n",
       "School Number                     False\n",
       "School Region                      True\n",
       "School Code                        True\n",
       "School Phone Number               False\n",
       "School Address                    False\n",
       "School City                       False\n",
       "School State                      False\n",
       "School Zip                         True\n",
       "School Not Found                  False\n",
       "School or Citywide Complaint       True\n",
       "Vehicle Type                       True\n",
       "Taxi Company Borough               True\n",
       "Taxi Pick Up Location              True\n",
       "Bridge Highway Name                True\n",
       "Bridge Highway Direction           True\n",
       "Road Ramp                          True\n",
       "Bridge Highway Segment             True\n",
       "Garage Lot Name                    True\n",
       "Ferry Direction                    True\n",
       "Ferry Terminal Name                True\n",
       "Latitude                           True\n",
       "Longitude                          True\n",
       "Location                           True\n",
       "count                             False\n",
       "dtype: bool"
      ]
     },
     "execution_count": 9,
     "metadata": {},
     "output_type": "execute_result"
    }
   ],
   "source": [
    "#determine if there are missing values\n",
    "df.isna().any()"
   ]
  },
  {
   "cell_type": "code",
   "execution_count": 10,
   "id": "218a8f70",
   "metadata": {},
   "outputs": [
    {
     "data": {
      "text/plain": [
       "Unique Key                             0\n",
       "Created Date                           0\n",
       "Closed Date                         2164\n",
       "Agency                                 0\n",
       "Agency Name                            0\n",
       "Complaint Type                         0\n",
       "Descriptor                          5914\n",
       "Location Type                        131\n",
       "Incident Zip                        2615\n",
       "Incident Address                   44410\n",
       "Street Name                        44410\n",
       "Cross Street 1                     49279\n",
       "Cross Street 2                     49779\n",
       "Intersection Street 1             256840\n",
       "Intersection Street 2             257336\n",
       "Address Type                        2815\n",
       "City                                2614\n",
       "Landmark                          300349\n",
       "Facility Type                       2171\n",
       "Status                                 0\n",
       "Due Date                               3\n",
       "Resolution Description                 0\n",
       "Resolution Action Updated Date      2187\n",
       "Community Board                        0\n",
       "Borough                                0\n",
       "X Coordinate (State Plane)          3540\n",
       "Y Coordinate (State Plane)          3540\n",
       "Park Facility Name                     0\n",
       "Park Borough                           0\n",
       "School Name                            0\n",
       "School Number                          0\n",
       "School Region                          1\n",
       "School Code                            1\n",
       "School Phone Number                    0\n",
       "School Address                         0\n",
       "School City                            0\n",
       "School State                           0\n",
       "School Zip                             1\n",
       "School Not Found                       0\n",
       "School or Citywide Complaint      300698\n",
       "Vehicle Type                      300698\n",
       "Taxi Company Borough              300698\n",
       "Taxi Pick Up Location             300698\n",
       "Bridge Highway Name               300455\n",
       "Bridge Highway Direction          300455\n",
       "Road Ramp                         300485\n",
       "Bridge Highway Segment            300485\n",
       "Garage Lot Name                   300698\n",
       "Ferry Direction                   300697\n",
       "Ferry Terminal Name               300696\n",
       "Latitude                            3540\n",
       "Longitude                           3540\n",
       "Location                            3540\n",
       "count                                  0\n",
       "dtype: int64"
      ]
     },
     "execution_count": 10,
     "metadata": {},
     "output_type": "execute_result"
    }
   ],
   "source": [
    "df.isna().sum()"
   ]
  },
  {
   "cell_type": "markdown",
   "id": "a120f9ab",
   "metadata": {},
   "source": [
    "Apply method chaining\n",
    "https://towardsdatascience.com/the-unreasonable-effectiveness-of-method-chaining-in-pandas-15c2109e3c69"
   ]
  },
  {
   "cell_type": "code",
   "execution_count": 11,
   "id": "99e4bfe9",
   "metadata": {},
   "outputs": [],
   "source": [
    "#drop columns with no data\n",
    "#drop column Landmark ,School or Citywide Complaint, Vehicle Type, Taxi Company Borough, \n",
    "#Taxi Pick Up Location, Bridge Highway Name, Bridge Highway Direction\n",
    "#Road Ramp Bridge Highway Segment Garage Lot Name Ferry Direction Ferry Terminal Name\n",
    "drop_columns=[\"Landmark\",\"School or Citywide Complaint\",\"Vehicle Type\",\"Taxi Company Borough\"\n",
    "             ,\"Taxi Pick Up Location\",\"Bridge Highway Name\",\"Bridge Highway Direction\",\n",
    "             \"Road Ramp\",\"Bridge Highway Segment\",\"Garage Lot Name\",\"Ferry Direction\",\n",
    "             \"Ferry Terminal Name\"]\n",
    "df_subset=df.drop(columns=drop_columns,axis=1)"
   ]
  },
  {
   "cell_type": "code",
   "execution_count": 12,
   "id": "d972f3d2",
   "metadata": {},
   "outputs": [
    {
     "data": {
      "text/plain": [
       "(300698, 42)"
      ]
     },
     "execution_count": 12,
     "metadata": {},
     "output_type": "execute_result"
    }
   ],
   "source": [
    "#new shape of the dataset after dropping columns\n",
    "df_subset.shape"
   ]
  },
  {
   "cell_type": "code",
   "execution_count": 13,
   "id": "cd3bf9ca",
   "metadata": {},
   "outputs": [
    {
     "name": "stdout",
     "output_type": "stream",
     "text": [
      "<class 'pandas.core.frame.DataFrame'>\n",
      "RangeIndex: 300698 entries, 0 to 300697\n",
      "Data columns (total 42 columns):\n",
      " #   Column                          Non-Null Count   Dtype  \n",
      "---  ------                          --------------   -----  \n",
      " 0   Unique Key                      300698 non-null  int64  \n",
      " 1   Created Date                    300698 non-null  object \n",
      " 2   Closed Date                     298534 non-null  object \n",
      " 3   Agency                          300698 non-null  object \n",
      " 4   Agency Name                     300698 non-null  object \n",
      " 5   Complaint Type                  300698 non-null  object \n",
      " 6   Descriptor                      294784 non-null  object \n",
      " 7   Location Type                   300567 non-null  object \n",
      " 8   Incident Zip                    298083 non-null  float64\n",
      " 9   Incident Address                256288 non-null  object \n",
      " 10  Street Name                     256288 non-null  object \n",
      " 11  Cross Street 1                  251419 non-null  object \n",
      " 12  Cross Street 2                  250919 non-null  object \n",
      " 13  Intersection Street 1           43858 non-null   object \n",
      " 14  Intersection Street 2           43362 non-null   object \n",
      " 15  Address Type                    297883 non-null  object \n",
      " 16  City                            298084 non-null  object \n",
      " 17  Facility Type                   298527 non-null  object \n",
      " 18  Status                          300698 non-null  object \n",
      " 19  Due Date                        300695 non-null  object \n",
      " 20  Resolution Description          300698 non-null  object \n",
      " 21  Resolution Action Updated Date  298511 non-null  object \n",
      " 22  Community Board                 300698 non-null  object \n",
      " 23  Borough                         300698 non-null  object \n",
      " 24  X Coordinate (State Plane)      297158 non-null  float64\n",
      " 25  Y Coordinate (State Plane)      297158 non-null  float64\n",
      " 26  Park Facility Name              300698 non-null  object \n",
      " 27  Park Borough                    300698 non-null  object \n",
      " 28  School Name                     300698 non-null  object \n",
      " 29  School Number                   300698 non-null  object \n",
      " 30  School Region                   300697 non-null  object \n",
      " 31  School Code                     300697 non-null  object \n",
      " 32  School Phone Number             300698 non-null  object \n",
      " 33  School Address                  300698 non-null  object \n",
      " 34  School City                     300698 non-null  object \n",
      " 35  School State                    300698 non-null  object \n",
      " 36  School Zip                      300697 non-null  object \n",
      " 37  School Not Found                300698 non-null  object \n",
      " 38  Latitude                        297158 non-null  float64\n",
      " 39  Longitude                       297158 non-null  float64\n",
      " 40  Location                        297158 non-null  object \n",
      " 41  count                           300698 non-null  int64  \n",
      "dtypes: float64(5), int64(2), object(35)\n",
      "memory usage: 96.4+ MB\n"
     ]
    }
   ],
   "source": [
    "df_subset.info()"
   ]
  },
  {
   "cell_type": "code",
   "execution_count": 14,
   "id": "5cb3fd00",
   "metadata": {},
   "outputs": [
    {
     "data": {
      "text/plain": [
       "Blocked Driveway             77044\n",
       "Illegal Parking              75361\n",
       "Noise - Street/Sidewalk      48612\n",
       "Noise - Commercial           35577\n",
       "Derelict Vehicle             17718\n",
       "Noise - Vehicle              17083\n",
       "Animal Abuse                  7778\n",
       "Traffic                       4498\n",
       "Homeless Encampment           4416\n",
       "Noise - Park                  4042\n",
       "Vending                       3802\n",
       "Drinking                      1280\n",
       "Noise - House of Worship       931\n",
       "Posting Advertisement          650\n",
       "Urinating in Public            592\n",
       "Bike/Roller/Skate Chronic      427\n",
       "Panhandling                    307\n",
       "Disorderly Youth               286\n",
       "Illegal Fireworks              168\n",
       "Graffiti                       113\n",
       "Agency Issues                    6\n",
       "Squeegee                         4\n",
       "Ferry Complaint                  2\n",
       "Animal in a Park                 1\n",
       "Name: Complaint Type, dtype: int64"
      ]
     },
     "execution_count": 14,
     "metadata": {},
     "output_type": "execute_result"
    }
   ],
   "source": [
    "#number of records in each category, user value_counts\n",
    "df_subset[\"Complaint Type\"].value_counts()"
   ]
  },
  {
   "cell_type": "code",
   "execution_count": 38,
   "id": "e2ca26ec",
   "metadata": {},
   "outputs": [
    {
     "name": "stdout",
     "output_type": "stream",
     "text": [
      "| Complaint Type            |   count |\n",
      "|:--------------------------|--------:|\n",
      "| Blocked Driveway          |   77044 |\n",
      "| Illegal Parking           |   75361 |\n",
      "| Noise - Street/Sidewalk   |   48612 |\n",
      "| Noise - Commercial        |   35577 |\n",
      "| Derelict Vehicle          |   17718 |\n",
      "| Noise - Vehicle           |   17083 |\n",
      "| Animal Abuse              |    7778 |\n",
      "| Traffic                   |    4498 |\n",
      "| Homeless Encampment       |    4416 |\n",
      "| Noise - Park              |    4042 |\n",
      "| Vending                   |    3802 |\n",
      "| Drinking                  |    1280 |\n",
      "| Noise - House of Worship  |     931 |\n",
      "| Posting Advertisement     |     650 |\n",
      "| Urinating in Public       |     592 |\n",
      "| Bike/Roller/Skate Chronic |     427 |\n",
      "| Panhandling               |     307 |\n",
      "| Disorderly Youth          |     286 |\n",
      "| Illegal Fireworks         |     168 |\n",
      "| Graffiti                  |     113 |\n",
      "| Agency Issues             |       6 |\n",
      "| Squeegee                  |       4 |\n",
      "| Ferry Complaint           |       2 |\n",
      "| Animal in a Park          |       1 |\n"
     ]
    }
   ],
   "source": [
    "pivot1=(pd.pivot_table(df_subset,index='Complaint Type',values='count',aggfunc='sum')\n",
    "        .sort_values(by='count',ascending=False)\n",
    "        .to_markdown()\n",
    "       )\n",
    "\n",
    "print(pivot1)"
   ]
  },
  {
   "cell_type": "code",
   "execution_count": null,
   "id": "869a4a0b",
   "metadata": {},
   "outputs": [],
   "source": [
    "#Descriptor\tLocation Type\n",
    "df_subset[\"Descriptor\"].value_counts()"
   ]
  },
  {
   "cell_type": "code",
   "execution_count": null,
   "id": "34681b8f",
   "metadata": {},
   "outputs": [],
   "source": [
    "df_subset[\"Location Type\"].value_counts()"
   ]
  },
  {
   "cell_type": "code",
   "execution_count": null,
   "id": "079a6c0b",
   "metadata": {},
   "outputs": [],
   "source": [
    "pd.unique(df_subset[\"Agency\"])"
   ]
  },
  {
   "cell_type": "code",
   "execution_count": null,
   "id": "255e665e",
   "metadata": {},
   "outputs": [],
   "source": [
    "pd.unique(df_subset[\"Agency Name\"])"
   ]
  },
  {
   "cell_type": "code",
   "execution_count": null,
   "id": "e082916e",
   "metadata": {},
   "outputs": [],
   "source": [
    "pd.unique(df_subset[\"Community Board\"])"
   ]
  },
  {
   "cell_type": "code",
   "execution_count": null,
   "id": "aae9cf7d",
   "metadata": {},
   "outputs": [],
   "source": [
    "df_subset[\"Agency Name\"].value_counts()"
   ]
  },
  {
   "cell_type": "code",
   "execution_count": null,
   "id": "840d82ae",
   "metadata": {},
   "outputs": [],
   "source": [
    "#find NYPD in the column and replace with New York City Police department. Using the replace() method\n",
    "#check if the replace method has worked\n",
    "df_subset[\"Agency Name\"]=df_subset[\"Agency Name\"].replace({\"NYPD\":\"New York City Police Department\"})\n",
    "df_subset[\"Agency Name\"].value_counts()"
   ]
  },
  {
   "cell_type": "code",
   "execution_count": null,
   "id": "fc8e23af",
   "metadata": {},
   "outputs": [],
   "source": [
    "df_subset[\"City\"].value_counts()"
   ]
  },
  {
   "cell_type": "code",
   "execution_count": null,
   "id": "bbf1a339",
   "metadata": {},
   "outputs": [],
   "source": [
    "df_subset['Borough'].value_counts()\n"
   ]
  },
  {
   "cell_type": "code",
   "execution_count": null,
   "id": "cc1d6336",
   "metadata": {},
   "outputs": [],
   "source": [
    "#filters rows to exclude records where Borough is not equal to Unspecified\n",
    "df_subset_borough=df_subset[df_subset['Borough']!='Unspecified']\n",
    "df_subset_borough.groupby(['Borough'])['Borough'].count()"
   ]
  },
  {
   "cell_type": "code",
   "execution_count": null,
   "id": "ed394511",
   "metadata": {},
   "outputs": [],
   "source": [
    "df_subset_borough=df_subset_borough.groupby(['Borough'])['Borough'].count()\n",
    "df_subset_borough=df_subset_borough.to_frame().rename(columns={'Borough':'number_of_record'})\n",
    "df_subset_borough"
   ]
  },
  {
   "cell_type": "code",
   "execution_count": null,
   "id": "846f5fec",
   "metadata": {},
   "outputs": [],
   "source": [
    "#add polygon data to the dataframe df_subset_merge\n",
    "df_subset_merge=pd.merge(df_subset_borough,gdf_subset_rename, on=\"Borough\",how=\"left\")\n",
    "df_subset_merge"
   ]
  },
  {
   "cell_type": "code",
   "execution_count": null,
   "id": "1912fa89",
   "metadata": {},
   "outputs": [],
   "source": [
    "df_subset_merge['Borough'].value_counts(), df_subset_merge.shape"
   ]
  },
  {
   "cell_type": "code",
   "execution_count": null,
   "id": "b9bf9037",
   "metadata": {},
   "outputs": [],
   "source": [
    "gdf_burough=geopandas.GeoDataFrame(df_subset_merge, geometry='geometry')\n"
   ]
  },
  {
   "cell_type": "code",
   "execution_count": null,
   "id": "9da4c202",
   "metadata": {},
   "outputs": [],
   "source": [
    "gdf_burough"
   ]
  },
  {
   "cell_type": "code",
   "execution_count": null,
   "id": "dcadb5e6",
   "metadata": {},
   "outputs": [],
   "source": [
    "gdf_burough['coords']=gdf_burough['geometry'].apply(lambda x:x.representative_point().coords[:])\n",
    "gdf_burough['coords'] = [coords[0] for coords in gdf_burough['coords']]\n",
    "gdf_burough"
   ]
  },
  {
   "cell_type": "code",
   "execution_count": null,
   "id": "9bf141ce",
   "metadata": {},
   "outputs": [],
   "source": [
    "ax=gdf_burough.plot(column='number_of_record',cmap='Greens',legend=True,figsize = (15,8),edgecolor='k')\n",
    "for idx, row in gdf_burough.iterrows():\n",
    "    plt.annotate(text=row['Borough'], xy=row['coords'],\n",
    "                 horizontalalignment='center')"
   ]
  },
  {
   "cell_type": "code",
   "execution_count": null,
   "id": "c5f655ae",
   "metadata": {},
   "outputs": [],
   "source": [
    "df_subset[\"Status\"].value_counts(),df_subset[\"Facility Type\"].value_counts()"
   ]
  },
  {
   "cell_type": "code",
   "execution_count": null,
   "id": "09a86737",
   "metadata": {},
   "outputs": [],
   "source": [
    "df_subset['Resolution Description'].value_counts()"
   ]
  },
  {
   "cell_type": "code",
   "execution_count": null,
   "id": "374adc3a",
   "metadata": {},
   "outputs": [],
   "source": [
    "df_subset[['Created Date','Due Date','Resolution Action Updated Date','Closed Date']].head()"
   ]
  },
  {
   "cell_type": "code",
   "execution_count": null,
   "id": "593312ae",
   "metadata": {},
   "outputs": [],
   "source": [
    "df_subset['Resolution Description'].head()"
   ]
  },
  {
   "cell_type": "code",
   "execution_count": null,
   "id": "124f6526",
   "metadata": {},
   "outputs": [],
   "source": [
    "#change data types of Created Date, Due Date, Resolution Action Updated Date, Closed Date\n",
    "df_subset[\"Created Date\"]=pd.to_datetime(df_subset[\"Created Date\"])\n",
    "df_subset[\"Closed Date\"]=pd.to_datetime(df_subset[\"Closed Date\"])\n",
    "df_subset['Due Date']=pd.to_datetime(df_subset['Due Date'])\n",
    "df_subset['Resolution Action Updated Date']=pd.to_datetime(df_subset['Resolution Action Updated Date'])"
   ]
  },
  {
   "cell_type": "code",
   "execution_count": null,
   "id": "84b56fa1",
   "metadata": {},
   "outputs": [],
   "source": [
    "df_subset.dtypes"
   ]
  },
  {
   "cell_type": "code",
   "execution_count": null,
   "id": "78adc17e",
   "metadata": {},
   "outputs": [],
   "source": [
    "#check if Resolution Action Updated Date & Closed Date columns are the same\n",
    "df_subset['equal_resolution_closed_date']=(np.where(df_subset['Closed Date']==df_subset['Resolution Action Updated Date'],True,False))\n",
    "\n"
   ]
  },
  {
   "cell_type": "code",
   "execution_count": null,
   "id": "670f40e3",
   "metadata": {},
   "outputs": [],
   "source": [
    "df_subset['equal_resolution_closed_date'].value_counts()"
   ]
  },
  {
   "cell_type": "code",
   "execution_count": null,
   "id": "67543127",
   "metadata": {},
   "outputs": [],
   "source": [
    "df_subset[\"Created Date\"].min(), df_subset[\"Created Date\"].max()"
   ]
  },
  {
   "cell_type": "code",
   "execution_count": null,
   "id": "8e42758d",
   "metadata": {},
   "outputs": [],
   "source": [
    "time_delta=df_subset[\"Created Date\"].max() - df_subset[\"Created Date\"].min()\n",
    "print(time_delta)"
   ]
  },
  {
   "cell_type": "code",
   "execution_count": null,
   "id": "1429870f",
   "metadata": {},
   "outputs": [],
   "source": [
    "#Add column Request Closing Time\n",
    "df_subset['Request_Closing_Time']=df_subset['Closed Date']-df_subset['Created Date']\n",
    "df_subset['Request_Closing_Time (in mins)']=df_subset['Request_Closing_Time']/np.timedelta64(1,'m')\n",
    "df_subset.head()"
   ]
  },
  {
   "cell_type": "code",
   "execution_count": null,
   "id": "d5826ec9",
   "metadata": {},
   "outputs": [],
   "source": [
    "# Average Response Time for each complaint type\n",
    "df_subset.groupby('Complaint Type')['Request_Closing_Time'].agg(lambda x: x.mean()).sort_values(ascending=False)"
   ]
  },
  {
   "cell_type": "code",
   "execution_count": null,
   "id": "5b5de3f0",
   "metadata": {},
   "outputs": [],
   "source": [
    "pd.set_option('display.max_rows',None)"
   ]
  },
  {
   "cell_type": "code",
   "execution_count": null,
   "id": "29ce725f",
   "metadata": {},
   "outputs": [],
   "source": [
    "df_subset.groupby(['Complaint Type','Location Type'])['Request_Closing_Time'].agg(lambda x: x.mean())"
   ]
  },
  {
   "cell_type": "code",
   "execution_count": null,
   "id": "52362fff",
   "metadata": {},
   "outputs": [],
   "source": [
    "df_fillna=df_subset.fillna(\n",
    "    value={\n",
    "        'Closed Date':0\n",
    "    }\n",
    ")"
   ]
  },
  {
   "cell_type": "code",
   "execution_count": null,
   "id": "22e7b98f",
   "metadata": {},
   "outputs": [],
   "source": [
    "df_fillna.agg(\n",
    "    {\n",
    "        \"Created Date\":[\"min\",\"max\"]\n",
    "        \"Closed Date\":[\"min\",\"max\"],\n",
    "    }\n",
    ")"
   ]
  },
  {
   "cell_type": "code",
   "execution_count": null,
   "id": "8ce36079",
   "metadata": {},
   "outputs": [],
   "source": [
    "df_isna_closed_date=df_subset[df_subset[\"Closed Date\"].isna()==True]\n",
    "df_isna_closed_date.head()"
   ]
  },
  {
   "cell_type": "code",
   "execution_count": null,
   "id": "2d7ad43a",
   "metadata": {},
   "outputs": [],
   "source": [
    "df_subset[\"Closed Date\"].isna()"
   ]
  },
  {
   "cell_type": "code",
   "execution_count": null,
   "id": "bbc4de89",
   "metadata": {},
   "outputs": [],
   "source": [
    "df_isna_closed_date.agg({\n",
    "    \"Closed Date\":[\"min\",\"max\"]\n",
    "})"
   ]
  },
  {
   "cell_type": "code",
   "execution_count": null,
   "id": "ff47ac62",
   "metadata": {},
   "outputs": [],
   "source": [
    "df_isna_closed_date[\"Closed Date\"].fillna(0)\n",
    "df_isna_closed_date.head()"
   ]
  },
  {
   "cell_type": "code",
   "execution_count": null,
   "id": "c198c21b",
   "metadata": {},
   "outputs": [],
   "source": [
    "df_isna_closed_date_0=df_isna_closed_date[\"Closed Date\"].fillna(0)"
   ]
  },
  {
   "cell_type": "code",
   "execution_count": null,
   "id": "6bc91fb8",
   "metadata": {},
   "outputs": [],
   "source": [
    "df_isna_closed_date_0.head()"
   ]
  },
  {
   "cell_type": "code",
   "execution_count": null,
   "id": "3f6269d8",
   "metadata": {},
   "outputs": [],
   "source": [
    "df_fillna=df_isna_closed_date.fillna(\n",
    "    value={\n",
    "        'Closed Date':0\n",
    "    }\n",
    ")"
   ]
  },
  {
   "cell_type": "code",
   "execution_count": null,
   "id": "a3b7b734",
   "metadata": {},
   "outputs": [],
   "source": [
    "df_isna_closed_date.agg({\n",
    "    \"Closed Date\":[\"min\",\"max\"]\n",
    "})"
   ]
  },
  {
   "cell_type": "code",
   "execution_count": null,
   "id": "ad44525d",
   "metadata": {},
   "outputs": [],
   "source": [
    "df_fillna.head()"
   ]
  },
  {
   "cell_type": "code",
   "execution_count": null,
   "id": "e5a54dc2",
   "metadata": {},
   "outputs": [],
   "source": [
    "df_fillna.agg({\n",
    "    \"Closed Date\":[\"min\",\"max\"]\n",
    "})"
   ]
  },
  {
   "cell_type": "code",
   "execution_count": null,
   "id": "253e9f2b",
   "metadata": {},
   "outputs": [],
   "source": [
    "pd.unique(df_subset['Status'])"
   ]
  },
  {
   "cell_type": "code",
   "execution_count": null,
   "id": "9c866392",
   "metadata": {},
   "outputs": [],
   "source": [
    "df_subset.groupby(['Status','Complaint Type'])['Status'].count()"
   ]
  },
  {
   "cell_type": "code",
   "execution_count": null,
   "id": "8eefaa52",
   "metadata": {},
   "outputs": [],
   "source": [
    "Complaint_Type_Borough = df_subset.groupby(['Complaint Type','Borough'])[['Request_Closing_Time (in mins)']].mean().unstack() #this line of code is converting a series data to a dataframe...because of the unstack method. We were getting a series, by applying the unstack method it convets to a dataframe. We need a dataframe to make plotting easy\n",
    " \n",
    "col_number = 2\n",
    "row_number = 3\n",
    "fig, axes = plt.subplots(row_number,col_number, figsize=(12,12))\n",
    " \n",
    "for i, (label,col) in enumerate(Complaint_Type_Borough.iteritems()): # this loop is iterating through every row in the dataframe. Dataframe is just a dictionary with key value pair.. Enumerate exposes the loop index \n",
    "    ax = axes[int(i/col_number), i%col_number]\n",
    "    col = col.sort_values(ascending=True)[:5]\n",
    "    col.plot(kind='barh', ax=ax)\n",
    "    ax.set_title(label)\n",
    "    \n",
    "plt.tight_layout()\n"
   ]
  },
  {
   "cell_type": "code",
   "execution_count": null,
   "id": "a1aebfc2",
   "metadata": {},
   "outputs": [],
   "source": [
    "df_subset.groupby(['Complaint Type','Borough'])[['Request_Closing_Time (in mins)']].mean().unstack()"
   ]
  }
 ],
 "metadata": {
  "kernelspec": {
   "display_name": "Python 3",
   "language": "python",
   "name": "python3"
  },
  "language_info": {
   "codemirror_mode": {
    "name": "ipython",
    "version": 3
   },
   "file_extension": ".py",
   "mimetype": "text/x-python",
   "name": "python",
   "nbconvert_exporter": "python",
   "pygments_lexer": "ipython3",
   "version": "3.8.10"
  }
 },
 "nbformat": 4,
 "nbformat_minor": 5
}
